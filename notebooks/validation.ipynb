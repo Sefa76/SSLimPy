{
 "cells": [
  {
   "cell_type": "code",
   "execution_count": null,
   "metadata": {},
   "outputs": [],
   "source": [
    "import os\n",
    "\n",
    "import astropy.units as u\n",
    "import matplotlib.pyplot as plt\n",
    "import numpy as np\n",
    "from scipy.special import roots_legendre\n",
    "\n",
    "import pyccl as ccl\n",
    "\n",
    "import SSLimPy.interface.config as cfg\n",
    "from SSLimPy.interface import sslimpy\n",
    "from SSLimPy.cosmology import cosmology\n",
    "from SSLimPy.cosmology import halo_model\n",
    "from SSLimPy.LIMsurvey import higher_order\n",
    "from SSLimPy.utils.utils import linear_interpolate, bilinear_interpolate, scalarProduct, addVectors"
   ]
  },
  {
   "cell_type": "code",
   "execution_count": null,
   "metadata": {},
   "outputs": [],
   "source": [
    "envkey = \"OMP_NUM_THREADS\"\n",
    "# Set this environment variable to the number of available cores in your machine,\n",
    "# to get a fast execution of the Einstein Boltzmann Solver\n",
    "print(\"The value of {:s} is: \".format(envkey), os.environ.get(envkey))\n",
    "os.environ[envkey] = str(12)\n",
    "print(\"The value of {:s} is: \".format(envkey), os.environ.get(envkey))"
   ]
  },
  {
   "cell_type": "markdown",
   "metadata": {},
   "source": [
    "Choose a reference cosmology"
   ]
  },
  {
   "cell_type": "code",
   "execution_count": null,
   "metadata": {},
   "outputs": [],
   "source": [
    "cosmo_dict = {\n",
    "    \"h\": 0.7,\n",
    "    \"ns\": 0.96,\n",
    "    \"sigma8\": 0.82,\n",
    "    \"Omegab\": 0.05,\n",
    "    \"Omegam\": 0.32,\n",
    "    \"mnu\": 0.06,\n",
    "}\n",
    "\n",
    "halo_dict = {\n",
    "    \"hmf_model\":\"ST\",\n",
    "    \"bias_model\": \"b1\",\n",
    "    \"nR\" : 256,\n",
    "    \"Rmin\": 1e-3 * u.Mpc,\n",
    "    \"Rmax\": 1e3 * u.Mpc,\n",
    "    \"bloating\": \"Mead20\",\n",
    "}"
   ]
  },
  {
   "cell_type": "markdown",
   "metadata": {},
   "source": [
    "## Obtain Cosmology results from SSLimPy\n"
   ]
  },
  {
   "cell_type": "code",
   "execution_count": null,
   "metadata": {},
   "outputs": [],
   "source": [
    "settings = {\"code\":\"class\",\n",
    "            \"do_RSD\" : True,\n",
    "            \"nonlinearRSD\" : True,\n",
    "            \"FoG_damp\" : \"ISTF_like\",\n",
    "            \"halo_model_PS\" : True,\n",
    "            \"Smooth_window\" : False,\n",
    "            \"nk\":100,\n",
    "            \"kmax\": 50*u.Mpc**-1,\n",
    "            \"kmin\": 1e-4*u.Mpc**-1,\n",
    "            \"Smooth_resolution\": False,\n",
    "            }"
   ]
  },
  {
   "cell_type": "code",
   "execution_count": null,
   "metadata": {},
   "outputs": [],
   "source": [
    "sslimpy.sslimpy(settings_dict=settings)"
   ]
  },
  {
   "cell_type": "code",
   "execution_count": null,
   "metadata": {},
   "outputs": [],
   "source": [
    "s_cosmo = cosmology.CosmoFunctions(cosmopars=cosmo_dict)\n",
    "s_halo = halo_model.HaloModel(s_cosmo, halo_dict)"
   ]
  },
  {
   "cell_type": "code",
   "execution_count": null,
   "metadata": {},
   "outputs": [],
   "source": [
    "k = s_halo.k\n",
    "print(np.min(k), np.max(k))"
   ]
  },
  {
   "cell_type": "markdown",
   "metadata": {},
   "source": [
    "## Obtain Cosmology results from pyCCL\n"
   ]
  },
  {
   "cell_type": "code",
   "execution_count": null,
   "metadata": {},
   "outputs": [],
   "source": [
    "Omega_c = s_cosmo.Omega(0, \"clustering\") - 0.05\n",
    "cosmo = ccl.Cosmology(Omega_c=Omega_c, Omega_b=0.05, h=0.7, sigma8=0.82, n_s=0.96)"
   ]
  },
  {
   "cell_type": "code",
   "execution_count": null,
   "metadata": {},
   "outputs": [],
   "source": [
    "# Halo choices in SSLimPy\n",
    "\n",
    "cM = ccl.halos.ConcentrationDiemer15()\n",
    "nM = ccl.halos.MassFuncSheth99(mass_def=ccl.halos.MassDef200c, mass_def_strict=False)\n",
    "bM = ccl.halos.HaloBiasSheth99(mass_def=ccl.halos.MassDef200c, mass_def_strict=False)\n",
    "pM = ccl.halos.HaloProfileNFW(mass_def=ccl.halos.MassDef200c, concentration=cM, fourier_analytic=True)"
   ]
  },
  {
   "cell_type": "code",
   "execution_count": null,
   "metadata": {},
   "outputs": [],
   "source": [
    "hmc = ccl.halos.HMCalculator(mass_function=nM, halo_bias=bM)"
   ]
  },
  {
   "cell_type": "markdown",
   "metadata": {},
   "source": [
    "## compare SSLimPy and pyCCL "
   ]
  },
  {
   "cell_type": "code",
   "execution_count": null,
   "metadata": {},
   "outputs": [],
   "source": [
    "m_arr = np.geomspace(1.01E12,1E15,128)/cosmo['h']\n",
    "\n",
    "hmf_SL = s_halo.halomassfunction(m_arr * u.Msun, 0)\n",
    "hmd_fof = ccl.halos.MassDefFof\n",
    "h_cc = ccl.halos.MassFuncSheth99(mass_def=hmd_fof)\n",
    "hmf_CC = h_cc(cosmo, m_arr, 1)"
   ]
  },
  {
   "cell_type": "code",
   "execution_count": null,
   "metadata": {},
   "outputs": [],
   "source": [
    "plt.semilogx(m_arr, m_arr**2 * np.log(10) * hmf_SL, label=\"SSLimPy\")\n",
    "plt.semilogx(m_arr, m_arr * hmf_CC, label=\"pyCCL\")\n",
    "plt.legend()\n",
    "plt.xlabel(r'$M$ $[M_\\odot]$', fontsize=14)\n",
    "plt.ylabel(r'$M\\,\\frac{dn}{d\\log_{10}M}\\,[M_\\odot\\,{\\rm Mpc}^{-3}]$',\n",
    "           fontsize=14)"
   ]
  },
  {
   "cell_type": "code",
   "execution_count": null,
   "metadata": {},
   "outputs": [],
   "source": [
    "hb_SL = s_halo._bias_function.ST99(m_arr * u.Msun, 0, 1.686)\n",
    "b_cc = ccl.halos.HaloBiasSheth99()\n",
    "hb_CC = b_cc(cosmo, m_arr, 1)"
   ]
  },
  {
   "cell_type": "code",
   "execution_count": null,
   "metadata": {},
   "outputs": [],
   "source": [
    "plt.semilogx(m_arr, hb_SL, label=\"SSLimPy\")\n",
    "plt.semilogx(m_arr, hb_CC, label=\"pyCCL\")\n",
    "plt.legend()\n",
    "plt.xlabel(r'$M$ $[M_\\odot]$', fontsize=14)\n",
    "plt.ylabel(r'$b_h(M)$', fontsize=14)"
   ]
  },
  {
   "cell_type": "code",
   "execution_count": null,
   "metadata": {},
   "outputs": [],
   "source": [
    "z = np.linspace(0,5)\n",
    "plt.plot(z, s_cosmo.growth_rate(1e-4 / u.Mpc, z))\n",
    "plt.xlabel(\"$z$\", fontsize=14)\n",
    "plt.ylabel(r\"$\\alpha_\\mathrm{eff}$\", fontsize=14)"
   ]
  },
  {
   "cell_type": "code",
   "execution_count": null,
   "metadata": {},
   "outputs": [],
   "source": [
    "R = s_halo.R\n",
    "nu_of_R = 1.686/s_halo.sigmaR_of_z(R, z, tracer=\"clustering\")\n",
    "\n",
    "neff_nu05 = np.empty_like(z)\n",
    "neff_nu1 = np.empty_like(z)\n",
    "neff_nu2 = np.empty_like(z)\n",
    "neff_nu4 = np.empty_like(z)\n",
    "\n",
    "for iz, zi in enumerate(z):\n",
    "    R_of_nu = linear_interpolate(nu_of_R[:,iz], R, np.array([0.5, 1, 2, 4]))*u.Mpc\n",
    "    neff_nu05[iz] = s_halo.n_eff_of_z(R_of_nu[0], zi, tracer=\"clustering\")\n",
    "    neff_nu1[iz] = s_halo.n_eff_of_z(R_of_nu[1], zi, tracer=\"clustering\")\n",
    "    neff_nu2[iz] = s_halo.n_eff_of_z(R_of_nu[2], zi, tracer=\"clustering\")\n",
    "    neff_nu4[iz] = s_halo.n_eff_of_z(R_of_nu[3], zi, tracer=\"clustering\")\n",
    "\n",
    "plt.plot(z, neff_nu05, label=r\"$\\nu$=0.5\")\n",
    "plt.plot(z, neff_nu1, label=r\"$\\nu$=1\")\n",
    "plt.plot(z, neff_nu2, label=r\"$\\nu$=2\")\n",
    "plt.plot(z, neff_nu4, label=r\"$\\nu$=4\")\n",
    "plt.xlabel(\"$z$\", fontsize=14)\n",
    "plt.ylabel(r\"$n_\\mathrm{eff}$\", fontsize=14)\n",
    "plt.legend()"
   ]
  },
  {
   "cell_type": "code",
   "execution_count": null,
   "metadata": {},
   "outputs": [],
   "source": [
    "conc_SL = s_halo.concentration(m_arr * u.Msun, 0)\n",
    "c_cc = ccl.halos.ConcentrationDiemer15()\n",
    "p2pt = ccl.halos.Profile2pt()\n",
    "conc_CC = c_cc(cosmo, m_arr, 1)"
   ]
  },
  {
   "cell_type": "code",
   "execution_count": null,
   "metadata": {},
   "outputs": [],
   "source": [
    "plt.semilogx(m_arr, conc_SL, label=\"SSLimPy\")\n",
    "plt.semilogx(m_arr*s_halo.hubble, conc_CC, label=\"pyCCL\")\n",
    "plt.legend()\n",
    "plt.xlabel(r'$M$ $[M_\\odot]$', fontsize=14)\n",
    "plt.ylabel(r'$c(M)$', fontsize=14)\n",
    "plt.grid(which=\"both\")"
   ]
  },
  {
   "cell_type": "code",
   "execution_count": null,
   "metadata": {},
   "outputs": [],
   "source": [
    "plt.loglog(m_arr * s_halo.hubble, s_halo.concentration(m_arr * u.Msun, 0), label=\"$z=0.$\")\n",
    "plt.loglog(m_arr * s_halo.hubble, s_halo.concentration(m_arr * u.Msun, 0.5), label=\"$z=0.5$\")\n",
    "plt.loglog(m_arr * s_halo.hubble, s_halo.concentration(m_arr * u.Msun, 1), label=\"$z=1.$\")\n",
    "plt.legend()\n",
    "plt.xlabel(r'$M$ $[M_\\odot\\,h^{-1}]$', fontsize=14)\n",
    "plt.ylabel(r'$c(M)$', fontsize=14)\n",
    "plt.grid(which=\"both\")"
   ]
  },
  {
   "cell_type": "code",
   "execution_count": null,
   "metadata": {},
   "outputs": [],
   "source": [
    "pk_CC = ccl.halos.halomod_power_spectrum(cosmo, hmc, k.value, 1., pM)\n",
    "pk_SL = s_halo.P_halo(k, 0)\n",
    "pk_CC_l = ccl.halos.halomod_power_spectrum(cosmo, hmc, k.value, 0.5, pM)\n",
    "pk_SL_l = s_halo.P_halo(k, 1)"
   ]
  },
  {
   "cell_type": "code",
   "execution_count": null,
   "metadata": {},
   "outputs": [],
   "source": [
    "plt.loglog(k, pk_SL, label=\"SSLimPy\")\n",
    "plt.loglog(k, pk_CC, label=\"pyCCL\")\n",
    "plt.xlabel(r\"$k$ [$\\mathrm{Mpc}^{-1}$]\", fontsize=14)\n",
    "plt.ylabel(r\"$P_\\mathrm{hh}(k)$ [$\\mathrm{Mpc}^{3}$]\", fontsize=14)\n",
    "plt.legend()"
   ]
  },
  {
   "cell_type": "code",
   "execution_count": null,
   "metadata": {},
   "outputs": [],
   "source": [
    "k = s_halo.k"
   ]
  },
  {
   "cell_type": "code",
   "execution_count": null,
   "metadata": {},
   "outputs": [],
   "source": [
    "pM.get_normalization(cosmo, 1)"
   ]
  },
  {
   "cell_type": "code",
   "execution_count": null,
   "metadata": {},
   "outputs": [],
   "source": [
    "I0_1_SS = s_halo.Ibeta_1(k, 0, beta=0)\n",
    "I0_1_CL = hmc.I_0_1(cosmo, k.value, 1, pM) / pM.get_normalization(cosmo, 1)\n",
    "\n",
    "plt.loglog(k, I0_1_SS)\n",
    "plt.loglog(k, I0_1_CL)"
   ]
  },
  {
   "cell_type": "code",
   "execution_count": null,
   "metadata": {},
   "outputs": [],
   "source": [
    "I1_1_SS = s_halo.Ibeta_1(k, 0, beta=\"b1\")\n",
    "I1_1_CL = hmc.I_1_1(cosmo, k.value, 1, pM)/ pM.get_normalization(cosmo, 1)\n",
    "\n",
    "plt.loglog(k, I1_1_SS)\n",
    "plt.loglog(k, I1_1_CL)"
   ]
  },
  {
   "cell_type": "code",
   "execution_count": null,
   "metadata": {},
   "outputs": [],
   "source": [
    "I0_2_SS = s_halo.Ibeta_2(k, 0, beta=0)\n",
    "I0_2_CL = hmc.I_0_2(cosmo, k.value, 1, pM, prof_2pt=p2pt) /  pM.get_normalization(cosmo, 1)**2"
   ]
  },
  {
   "cell_type": "code",
   "execution_count": null,
   "metadata": {},
   "outputs": [],
   "source": [
    "plt.loglog(k, np.diagonal(I0_2_SS, axis1=0, axis2=1))\n",
    "plt.loglog(k, I0_2_CL)"
   ]
  },
  {
   "cell_type": "code",
   "execution_count": null,
   "metadata": {},
   "outputs": [],
   "source": [
    "I1_3_SS = s_halo.Ibeta_3(k, 0, beta=\"b1\")\n",
    "I1_3_CL = hmc.I_1_3(cosmo, k.value, 1, prof=pM, prof_2pt=p2pt) /  pM.get_normalization(cosmo, 1)**3"
   ]
  },
  {
   "cell_type": "code",
   "execution_count": null,
   "metadata": {},
   "outputs": [],
   "source": [
    "plt.imshow(I1_3_CL/I1_3_SS.value-1)\n",
    "plt.colorbar()"
   ]
  },
  {
   "cell_type": "code",
   "execution_count": null,
   "metadata": {},
   "outputs": [],
   "source": [
    "I0_4_SS = s_halo.Ibeta_4(k, 0, beta=0)\n",
    "I0_4_CL = hmc.I_0_22(cosmo, k.value, 1, prof=pM, prof2=pM, prof12_2pt=p2pt) /  pM.get_normalization(cosmo, 1)**4"
   ]
  },
  {
   "cell_type": "code",
   "execution_count": null,
   "metadata": {},
   "outputs": [],
   "source": [
    "plt.loglog(k, [I0_4_SS[ik, ik].value for ik in range(len(k))])\n",
    "plt.loglog(k, [I0_4_CL[ik, ik] for ik in range(len(k))])"
   ]
  },
  {
   "cell_type": "code",
   "execution_count": null,
   "metadata": {},
   "outputs": [],
   "source": [
    "linpk_SL = s_cosmo.matpow(k, 0, nonlinear=False, tracer=\"clustering\")\n",
    "linpk_CC = ccl.linear_matter_power(cosmo, k.value, 1)\n",
    "plt.loglog(k, linpk_SL, label=\"SSLimPy\")\n",
    "plt.loglog(k, linpk_CC, label=\"pyCCL\")\n",
    "plt.legend()\n",
    "plt.xlabel(r\"$k\\,[\\mathrm{Mpc}^{-1}]$\", fontsize=14)\n",
    "plt.ylabel(r\"$P(k)\\,[\\mathrm{Mpc}^{3}]$\", fontsize=14)"
   ]
  },
  {
   "cell_type": "code",
   "execution_count": null,
   "metadata": {},
   "outputs": [],
   "source": [
    "# plt.loglog(k, pk_SL, label=\"SSLimPy\")\n",
    "plt.loglog(k, (I0_1_SS/max(I0_1_SS))**2 * linpk_SL + np.diagonal(I0_2_SS, axis1=0, axis2=1), label=\"Norm SSLimPy\")\n",
    "plt.loglog(k, pk_CC, label=\"pyCCL\")\n",
    "plt.xlabel(r\"$k$ [$\\mathrm{Mpc}^{-1}$]\", fontsize=14)\n",
    "plt.ylabel(r\"$P_\\mathrm{hh}(k)$ [$\\mathrm{Mpc}^{3}$]\", fontsize=14)\n",
    "plt.legend()"
   ]
  },
  {
   "cell_type": "markdown",
   "metadata": {},
   "source": [
    "## Obtain PT matter Trispectrum "
   ]
  },
  {
   "cell_type": "code",
   "execution_count": null,
   "metadata": {},
   "outputs": [],
   "source": [
    "ks = len(k)\n",
    "mus = 9\n",
    "xi, wi = roots_legendre(mus)\n",
    "mu = xi\n",
    "\n",
    "I01 = np.ones((ks, mus))"
   ]
  },
  {
   "cell_type": "code",
   "execution_count": null,
   "metadata": {},
   "outputs": [],
   "source": [
    "mT_SL = higher_order._integrate_4h(1, 0, 0, 0, 0, 0, 0, 0, xi, wi, k, linpk_SL.value, I01)"
   ]
  },
  {
   "cell_type": "code",
   "execution_count": null,
   "metadata": {},
   "outputs": [],
   "source": [
    "Ts_SL = np.empty((ks, ks, mus))\n",
    "for ik, ki in enumerate(k.value):\n",
    "    for jk, kj in enumerate(k.value):\n",
    "        for imu, mui in enumerate(mu):\n",
    "            Ts_SL[ik, jk, imu] = higher_order.TrispectrumL0(1, 0, 0, 0, 0, 0, 0, 0,\n",
    "                                                            ki, 1.0, 0.0,\n",
    "                                                            ki, -1.0, np.pi,\n",
    "                                                            kj, mui, 0.0,\n",
    "                                                            k, linpk_SL.value)\n",
    "\n",
    "Tk_SL = np.sum(Ts_SL * wi, axis=-1)"
   ]
  },
  {
   "cell_type": "code",
   "execution_count": null,
   "metadata": {},
   "outputs": [],
   "source": [
    "plt.loglog(k, Tk_SL[:, 20], label=r\"$k_2$ = 0.01 $\\mathrm{Mpc}^{-1}$\")\n",
    "plt.loglog(k, Tk_SL[:, 50], label=r\"$k_2$ = 0.25 $\\mathrm{Mpc}^{-1}$\")\n",
    "plt.loglog(k, Tk_SL[:, 80], label=r\"$k_2$ = 6.6 $\\mathrm{Mpc}^{-1}$\")\n",
    "\n",
    "plt.loglog(k, mT_SL[:, 20, 0, 0], \"--\")\n",
    "plt.loglog(k, mT_SL[:, 50, 0, 0], \"--\")\n",
    "plt.loglog(k, mT_SL[:, 80, 0, 0], \"--\")\n",
    "\n",
    "plt.legend()\n",
    "\n",
    "plt.xlabel(r\"$k_1$ [$\\mathrm{Mpc}^{-1}$]\", fontsize=14)\n",
    "plt.ylabel(r\"$\\langle T\\rangle(k_1, k_2)$ [$\\mathrm{Mpc}^{9}$]\", fontsize=14)\n",
    "\n",
    "\n",
    "\n",
    "# plt.loglog(k, [-Tk_SL[ik, ik] for ik in range(ks)])\n",
    "# plt.vlines([k[50].value,k[20].value, k[80].value], 0, 1e18, \"k\")"
   ]
  },
  {
   "cell_type": "code",
   "execution_count": null,
   "metadata": {},
   "outputs": [],
   "source": [
    "# Tk_CC = ccl.halos.halomod_Tk3D_4h(cosmo, hmc, pM)\n",
    "# F = Tk_CC(k.value, 1)\n",
    "F = np.loadtxt(\"CCL_Trispectrum.txt\")"
   ]
  },
  {
   "cell_type": "code",
   "execution_count": null,
   "metadata": {},
   "outputs": [],
   "source": [
    "plt.loglog(k, F[:, 20])\n",
    "plt.loglog(k, F[:, 50])\n",
    "plt.loglog(k, F[:, 80])\n",
    "# plt.loglog(k, Tk_SL[:, 20],\"k--\", label=r\"$k_2$ = 0.01 $\\mathrm{Mpc}^{-1}$\")\n",
    "# plt.loglog(k, Tk_SL[:, 50],\"k--\", label=r\"$k_2$ = 0.25 $\\mathrm{Mpc}^{-1}$\")\n",
    "# plt.loglog(k, Tk_SL[:, 80],\"k--\", label=r\"$k_2$ = 6.6 $\\mathrm{Mpc}^{-1}$\")\n",
    "\n",
    "plt.loglog(k, mT_SL[:, 20, 0, 0], \"--\")\n",
    "plt.loglog(k, mT_SL[:, 50, 0, 0], \"--\")\n",
    "plt.loglog(k, mT_SL[:, 80, 0, 0], \"--\")"
   ]
  },
  {
   "cell_type": "code",
   "execution_count": null,
   "metadata": {},
   "outputs": [],
   "source": [
    "k_use = k\n",
    "def get_kr_and_f2_CC(theta):\n",
    "    cth = np.cos(theta)\n",
    "    kk = k_use[None, :]\n",
    "    kp = k_use[:, None]\n",
    "    kr2 = kk ** 2 + kp ** 2 + 2 * kk * kp * cth\n",
    "    kr = np.sqrt(kr2)\n",
    "\n",
    "    f2 = 5./7. - 0.5 * (1 + kk ** 2 / kr2) * (1 + kp / kk * cth) + \\\n",
    "        2/7. * kk ** 2 / kr2 * (1 + kp / kk * cth)**2\n",
    "    # When kr = 0:\n",
    "    # k^2 / kr^2 (1 + k / kr cos) -> k^2/(2k^2 + 2k^2 cos)*(1 + cos) = 1/2\n",
    "    # k^2 / kr^2 (1 + k / kr cos)^2 -> (1 + cos)/2 = 0\n",
    "    f2[np.where(kr == 0)] = 13. / 28\n",
    "\n",
    "    return kr, f2\n",
    "test = np.array([get_kr_and_f2_CC(i) for i in np.linspace(-np.pi, np.pi)])\n",
    "k_CC, f2_CC = test[:,0, :, :], test[:, 1, :, :]"
   ]
  },
  {
   "cell_type": "code",
   "execution_count": null,
   "metadata": {},
   "outputs": [],
   "source": [
    "def get_kr_and_f2_SL(theta):\n",
    "    kr = np.empty((*k_use.shape,*k_use.shape))\n",
    "    f2 = np.empty((*k_use.shape,*k_use.shape))\n",
    "    for ik1, k1i in enumerate(k_use):\n",
    "        for ik2, k2i in enumerate(k_use):\n",
    "            try:\n",
    "                kr[ik1, ik2], mu12, _ = addVectors(k1i.value, 1.0, 0.0, k2i.value, np.cos(theta), 0.0)\n",
    "            except:\n",
    "                print(k1i.value, 1.0, 0.0, k2i.value, np.cos(theta), 0.0)\n",
    "        \n",
    "            if np.isclose(kr[ik1,ik2], 0.0):\n",
    "                f2[ik1, ik2] = 13./28.\n",
    "            else:\n",
    "                f2[ik1, ik2] = higher_order.vF2(k1i.value, 1.0, 0.0, kr[ik1, ik2], -mu12, np.pi)\n",
    "        # print(np.cos(theta), scalarProduct(k1i.value, 1.0, 0.0, k2i.value, np.cos(theta), 0.0)/k1i.value/k2i.value)\n",
    "\n",
    "    return kr, f2\n",
    "test = np.array([get_kr_and_f2_SL(i) for i in np.linspace(-np.pi, np.pi)])\n",
    "k_SL, f2_SL = test[:,0, :, :], test[:, 1, :, :]"
   ]
  },
  {
   "cell_type": "code",
   "execution_count": null,
   "metadata": {},
   "outputs": [],
   "source": [
    "from SSLimPy.utils.utils import addVectors\n",
    "\n",
    "addVectors(35.97573724640009, 1.0, 0.0, 35.97573724640009, -1.0, 0.0)"
   ]
  },
  {
   "cell_type": "code",
   "execution_count": null,
   "metadata": {},
   "outputs": [],
   "source": [
    "from numba import njit\n",
    "\n",
    "@njit(fastmath=True)\n",
    "def addVectors(\n",
    "    k1,\n",
    "    mu1,\n",
    "    ph1,\n",
    "    k2,\n",
    "    mu2,\n",
    "    ph2,\n",
    "):\n",
    "    k1pk2 = scalarProduct(k1, mu1, ph1, k2, mu2, ph2)\n",
    "    radicant = k1**2 + 2 * k1pk2 + k2**2\n",
    "    if np.isclose(np.sqrt(np.abs(radicant)), 0):\n",
    "        k12 = 0\n",
    "        mu12 = 0\n",
    "        phi12 = 0\n",
    "    else:\n",
    "        k12 = np.sqrt(radicant)\n",
    "\n",
    "        mu12 = (k1 * mu1 + k2 * mu2) / k12\n",
    "        # Sometimes numerics dont care about triangle equations\n",
    "        if mu12 < -1.0:\n",
    "            mu12 = -1.0\n",
    "        if mu12 > 1.0:\n",
    "            mu12 = 1.0\n",
    "\n",
    "        if np.isclose(np.abs(mu12), 1):\n",
    "            phi12 = 0\n",
    "        else:\n",
    "            s1s = 1 - mu1**2\n",
    "            if np.isclose(s1s, 0):\n",
    "                s1s = 0\n",
    "            s2s = 1 - mu2**2\n",
    "            if np.isclose(s2s, 0):\n",
    "                s2s = 0\n",
    "\n",
    "            x = k1 * np.sqrt(s1s) * np.cos(ph1) + k2 * np.sqrt(s2s) * np.cos(ph2)\n",
    "            y = k1 * np.sqrt(s1s) * np.sin(ph1) + k2 * np.sqrt(s2s) * np.sin(ph2)\n",
    "\n",
    "            if np.isclose(x, 0):\n",
    "                if np.sign(y) == 1:\n",
    "                    phi12 = np.pi\n",
    "                else:\n",
    "                    phi12 = -np.pi\n",
    "            else:\n",
    "                phi12 = np.arctan2(y, x)\n",
    "\n",
    "    return k12, mu12, phi12\n",
    "\n",
    "addVectors(35.97573724640009, 1.0, 0.0, 35.97573724640009, -1.0, 0.0)"
   ]
  },
  {
   "cell_type": "code",
   "execution_count": null,
   "metadata": {},
   "outputs": [],
   "source": [
    "import seaborn as sns\n",
    "C = sns.color_palette(\"Paired\")\n",
    "C"
   ]
  },
  {
   "cell_type": "code",
   "execution_count": null,
   "metadata": {},
   "outputs": [],
   "source": [
    "colors = iter(C)\n",
    "\n",
    "theta = np.linspace(-np.pi, np.pi)\n",
    "plt.plot(theta, k_SL[:, 15, 25],c=next(colors),ls=\"-\")\n",
    "plt.plot(theta, k_CC[:, 15, 25],c=next(colors),ls=\"--\")\n",
    "plt.plot(theta, k_SL[:, 25, 25],c=next(colors),ls=\"-\")\n",
    "plt.plot(theta, k_CC[:, 25, 25],c=next(colors),ls=\"--\")\n",
    "plt.xlabel(r\"$\\theta$\")\n",
    "plt.ylabel(r\"$k_{12}$\")"
   ]
  },
  {
   "cell_type": "code",
   "execution_count": null,
   "metadata": {},
   "outputs": [],
   "source": [
    "colors = iter(C)\n",
    "\n",
    "plt.plot(theta, f2_SL[:, 15, 25],c=next(colors),ls=\"-\",label=\"SSLimPy\")\n",
    "plt.plot(theta, f2_CC[:, 25, 15],c=next(colors),ls=\"--\",label=\"pyccl\")\n",
    "plt.plot(theta, f2_SL[:, 25, 25],c=next(colors),ls=\"-\")\n",
    "plt.plot(theta, f2_CC[:, 25, 25],c=next(colors),ls=\"--\")\n",
    "plt.legend()\n",
    "plt.xlabel(r\"$\\theta$\")\n",
    "plt.ylabel(r\"$F_{2}$\")"
   ]
  },
  {
   "cell_type": "code",
   "execution_count": null,
   "metadata": {},
   "outputs": [],
   "source": [
    "k_use = k\n",
    "def get_mF3_CC():\n",
    "    thetas = np.linspace(-np.pi, np.pi)\n",
    "    F3 = np.empty((*k_use.shape, *k_use.shape, *thetas.shape))\n",
    "    kk = k_use[None, :]\n",
    "    kp = k_use[:, None]\n",
    "    k = kk\n",
    "    r = kp / k\n",
    "    for i, theta in enumerate(thetas):\n",
    "        cth = np.cos(theta)\n",
    "        kr2 = k ** 2 + kp ** 2 + 2 * k * kp * cth\n",
    "        kr = np.sqrt(kr2)\n",
    "\n",
    "        f3 = (5 * r + (7 - 2*r**2)*cth) / (1 + r**2 + 2*r*cth) * \\\n",
    "                (3/7. * r + 0.5 * (1 + r**2) * cth + 4/7. * r * cth**2)\n",
    "        f3[np.where(kr == 0)] = 0\n",
    "        F3[:,:,i] = f3\n",
    "    mF3 = -7/4 * (1 + r**2) + np.trapz(F3, thetas, axis=-1) / (2*np.pi)\n",
    "\n",
    "    return 4/9 * mF3\n",
    "mf3_CC = get_mF3_CC()"
   ]
  },
  {
   "cell_type": "code",
   "execution_count": null,
   "metadata": {},
   "outputs": [],
   "source": [
    "def get_f3_SL(theta):\n",
    "    f3 = np.empty((*k_use.shape,*k_use.shape))\n",
    "    for ik1, k1i in enumerate(k_use):\n",
    "        for ik2, k2i in enumerate(k_use):\n",
    "            f3[ik1, ik2] = higher_order.vF3(k1i.value, 1.0, 0.0,\n",
    "                                            k2i.value, np.cos(theta), 0,\n",
    "                                            k2i.value, -np.cos(theta), np.pi)\n",
    "            if np.isnan(f3[ik1, ik2]):\n",
    "                print(theta, k1i, k2i)\n",
    "    return f3\n",
    "\n",
    "thetas = np.linspace(-np.pi, np.pi)\n",
    "\n",
    "f3_SL = np.array([get_f3_SL(i) for i in thetas]) \n",
    "mf3_SL = np.trapz(f3_SL, thetas, axis=0)* 12 / (2 * np.pi)"
   ]
  },
  {
   "cell_type": "code",
   "execution_count": null,
   "metadata": {},
   "outputs": [],
   "source": [
    "from matplotlib.lines import Line2D\n",
    "colors = iter(C)\n",
    "\n",
    "# Chosen indices for k1 values (modify labels if needed)\n",
    "k1_indices = [15, 25, 65, 95]\n",
    "k1_labels = [r\"$k_1 = {:.2f}$\".format(k_use[i]) for i in k1_indices]\n",
    "\n",
    "# Plotting lines\n",
    "for idx, k1 in zip(k1_indices, k1_labels):\n",
    "    plt.loglog(k_use, -mf3_SL[:, idx], c=next(colors), ls=\"-\", label=k1)\n",
    "    plt.loglog(k_use, -mf3_CC[:, idx], c=next(colors), ls=\"--\")\n",
    "\n",
    "# Create custom legend for code line styles\n",
    "line_styles = [\n",
    "    Line2D([0], [0], color='black', lw=2, ls='-', label='SSLimPy'),\n",
    "    Line2D([0], [0], color='black', lw=2, ls='--', label='pyccl')\n",
    "]\n",
    "legend1 = plt.legend(handles=line_styles, loc='lower left', title=\"Code\")\n",
    "plt.gca().add_artist(legend1)  # Add first legend manually\n",
    "\n",
    "# Create legend for colors (k₁ values)\n",
    "color_handles = []\n",
    "colors = iter(C)\n",
    "for i in range(len(k1_indices)):\n",
    "    label = k1_labels[i]\n",
    "    next(colors)\n",
    "    color_handles.append(Line2D([0], [0], color=next(colors), lw=2, label=label))\n",
    "\n",
    "plt.legend(handles=color_handles, loc='lower right', title=r\"$k_1$ value\")\n",
    "\n",
    "plt.xlabel(r\"$k_2 \\, [\\mathrm{Mpc}^{-1}]$\")\n",
    "plt.ylabel(r\"$\\langle F_3 \\rangle \\, [\\mathrm{Mpc}^{-1}]$\")\n",
    "plt.tight_layout()\n",
    "plt.show()"
   ]
  },
  {
   "cell_type": "code",
   "execution_count": null,
   "metadata": {},
   "outputs": [],
   "source": [
    "import matplotlib.colors as mcolors\n",
    "\n",
    "# Compute relative difference\n",
    "rel_diff = (mf3_SL - mf3_CC) / mf3_CC\n",
    "rel_diff = rel_diff.value\n",
    "\n",
    "# Custom diverging colormap with out-of-bounds handling\n",
    "cmap = plt.cm.magma  # good diverging colormapNone, :]\n",
    "norm = mcolors.Normalize(vmin=-0.1, vmax=0.1)  # ±100%\n",
    "\n",
    "# Create a copy with boundary colors\n",
    "cmap = cmap.copy()\n",
    "cmap.set_under('black')   # Color for < -100% difference\n",
    "cmap.set_over('white')      # Color for > +100% difference\n",
    "\n",
    "# Plot using imshow\n",
    "plt.figure(figsize=(8, 6))\n",
    "im = plt.imshow(rel_diff, cmap=cmap, norm=norm, origin='lower',\n",
    "                extent=[k_use.value.min(), k_use.value.max(), k_use.value.min(), k_use.value.max()],\n",
    "                aspect='auto')\n",
    "plt.colorbar(im, label='Relative Difference (SSLimPy - pyccl) / pyccl',\n",
    "             extend='both')  # show triangles for over/under colors\n",
    "plt.xlabel(r\"$k_2 \\, [\\mathrm{Mpc}^{-1}]$\")\n",
    "plt.ylabel(r\"$k_1 \\, [\\mathrm{Mpc}^{-1}]$\")\n",
    "plt.title(\"Relative Difference Between Codes\")\n",
    "plt.tight_layout()\n",
    "plt.show()"
   ]
  }
 ],
 "metadata": {
  "kernelspec": {
   "display_name": "SSC-project",
   "language": "python",
   "name": "python3"
  },
  "language_info": {
   "codemirror_mode": {
    "name": "ipython",
    "version": 3
   },
   "file_extension": ".py",
   "mimetype": "text/x-python",
   "name": "python",
   "nbconvert_exporter": "python",
   "pygments_lexer": "ipython3",
   "version": "3.12.3"
  }
 },
 "nbformat": 4,
 "nbformat_minor": 2
}
