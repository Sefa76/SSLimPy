{
 "cells": [
  {
   "cell_type": "markdown",
   "metadata": {},
   "source": [
    "# Demo Notebook to use SSLimPy "
   ]
  },
  {
   "cell_type": "markdown",
   "metadata": {},
   "source": [
    "In this notebook we will show how to set up SSLimPy,\\\n",
    "Compute the LIM power spectra for a particular case,\\\n",
    "And do a quick 2 parameter Fisher forecast"
   ]
  },
  {
   "cell_type": "markdown",
   "metadata": {},
   "source": [
    "## Initial Setup"
   ]
  },
  {
   "cell_type": "code",
   "execution_count": null,
   "metadata": {},
   "outputs": [],
   "source": [
    "import os\n",
    "import sys\n",
    "\n",
    "sys.path.append(\"../\")\n",
    "\n",
    "envkey = \"OMP_NUM_THREADS\"\n",
    "# Set this environment variable to the number of available cores in your machine,\n",
    "# to get a fast execution of the Einstein Boltzmann Solver\n",
    "print(\"The value of {:s} is: \".format(envkey), os.environ.get(envkey))\n",
    "os.environ[envkey] = str(12)\n",
    "print(\"The value of {:s} is: \".format(envkey), os.environ.get(envkey))"
   ]
  },
  {
   "cell_type": "code",
   "execution_count": null,
   "metadata": {},
   "outputs": [],
   "source": [
    "import astropy.units as u\n",
    "import matplotlib.pyplot as plt\n",
    "from copy import copy, deepcopy\n",
    "import numpy as np\n",
    "import seaborn\n",
    "from getdist.gaussian_mixtures import GaussianND\n",
    "from getdist import plots"
   ]
  },
  {
   "cell_type": "code",
   "execution_count": null,
   "metadata": {},
   "outputs": [],
   "source": [
    "Cs = seaborn.color_palette(\"colorblind\")\n",
    "Cs"
   ]
  },
  {
   "cell_type": "markdown",
   "metadata": {},
   "source": [
    "## Choose model parameters and save them in dictionaries"
   ]
  },
  {
   "cell_type": "code",
   "execution_count": null,
   "metadata": {},
   "outputs": [],
   "source": [
    "# Settings will be the global settings that should not change during a given run.\n",
    "# For the full list see the Configuration class in interface\n",
    "\n",
    "settings = {\n",
    "    \"code\":\"camb\", # The Einstein--Boltzman solver that should be used\n",
    "    \"do_RSD\" : True, # If RSD should be considerd\n",
    "    \"nonlinearRSD\" : True, # If you want to add FOG to the RSD\n",
    "    \"QNLpowerspectrum\": True, # Use dewiggled power spectrum (vlasov approximation of nonlinear structure formation)\n",
    "    \"FoG_damp\" : \"ISTF_like\", # The particular parametrization for the FOG. Check PowerSpectrum for the full list\n",
    "    \"halo_model_PS\" : False, # If the cosmological shotnoise should be computed from the halo model \n",
    "    \"output\" : [\"Power spectrum\", \"Covariance\"], # What output one wants (here power spectrum and Gaussian covariance only)\n",
    "    \"kmin\": 1e-4 * u.Mpc**-1,\n",
    "    \"kmax\": 50 * u.Mpc**-1,\n",
    "    \"nk\": 200,\n",
    "}"
   ]
  },
  {
   "cell_type": "code",
   "execution_count": null,
   "metadata": {},
   "outputs": [],
   "source": [
    "# Cosmological parameters for the fiducial cosmology can be set like this\n",
    "# Depending on your test you can fix them vary them\n",
    "cosmodict={\n",
    "    \"h\": 0.6737,\n",
    "    \"Omegam\": 0.3146,\n",
    "    \"Omegab\": 0.0492,\n",
    "    \"As\":2.1e-9,\n",
    "    \"ns\":0.966,\n",
    "    \"mnu\":0.06,\n",
    "    \"Neff\":3.044,\n",
    "}"
   ]
  },
  {
   "cell_type": "code",
   "execution_count": null,
   "metadata": {},
   "outputs": [],
   "source": [
    "# Parameters that enter your halo model. Typically they are not changed but you could\n",
    "halodict={\n",
    "    \"halo_tracer\" : \"clustering\", # Computes all halo quantities from the matter field - neutrinos\n",
    "    \"hmf_model\": \"ST\", # Sheth--Tormann halo mass function\n",
    "    \"concentration\": \"Diemer19\", # Diemer19 halo concentration relation\n",
    "    \"bias_model\": \"ST99\",\n",
    "    \"bias_pars\": {\n",
    "        \"q\" : 0.707,\n",
    "        \"p\" : 0.3,\n",
    "    },\n",
    "}"
   ]
  },
  {
   "cell_type": "code",
   "execution_count": null,
   "metadata": {},
   "outputs": [],
   "source": [
    "# Parameters for Astrophysics.\n",
    "astrodict={\n",
    "    \"model_type\": \"ML\",\n",
    "    \"model_name\": \"SilvaCII\",\n",
    "    \"model_par\": {\n",
    "        \"a\": 0.939,\n",
    "        \"b\": 6.639,\n",
    "        \"SFR_file\": \"Fonseca16_Lya_SFR_params.dat\",\n",
    "        \"do_quench\": True,\n",
    "    },\n",
    "    \"sigma_scatter\" : 0.5\n",
    "}"
   ]
  },
  {
   "cell_type": "code",
   "execution_count": null,
   "metadata": {},
   "outputs": [],
   "source": [
    "# Parameters for the Survey specifications\n",
    "surveyspecs = {\n",
    "        \"Tsys_NEFD\": 40 * u.uK, #System temperature for instrumental shotnoise\n",
    "        \"Nfeeds\": 19,\n",
    "        \"tobs\": 1300 * u.h,\n",
    "        \"nD\": 1, # Observational parameters\n",
    "        \"beam_FWHM\": 0.5 * u.arcmin,\n",
    "        \"nu\":  1.897 * u.THz, # CII\n",
    "        \"dnu\": 900 * u.MHz, # Spectrograph resolution\n",
    "        \"nuObs\": 250 * u.GHz, # Observed Frequency\n",
    "        \"Delta_nu\": 50 * u.GHz, # Frequency Bin\n",
    "        \"Omega_field\": 140 * u.deg**2, # Angular size of survey\n",
    "}"
   ]
  },
  {
   "cell_type": "markdown",
   "metadata": {},
   "source": [
    "## Compute instance of SSLimPy to work with"
   ]
  },
  {
   "cell_type": "code",
   "execution_count": null,
   "metadata": {},
   "outputs": [],
   "source": [
    "# Import Main modules. This might take some time as some functions compile before time\n",
    "from SSLimPy.interface import sslimpy\n",
    "from SSLimPy.cosmology import cosmology\n",
    "from SSLimPy.cosmology import halo_model\n",
    "from SSLimPy.cosmology import astro"
   ]
  },
  {
   "cell_type": "code",
   "execution_count": null,
   "metadata": {},
   "outputs": [],
   "source": [
    "myssl = sslimpy.SSLimPy(\n",
    "    settings_dict=settings,\n",
    "    cosmopars=cosmodict,\n",
    "    halopars=halodict,\n",
    "    astropars=astrodict,\n",
    "    obspars_dict=surveyspecs,\n",
    ")"
   ]
  },
  {
   "cell_type": "markdown",
   "metadata": {},
   "source": [
    "The SSLimPy class can be used directly as a cosmology calculator"
   ]
  },
  {
   "cell_type": "code",
   "execution_count": null,
   "metadata": {},
   "outputs": [],
   "source": [
    "z = np.linspace(0, 5)\n",
    "\n",
    "fig, axs = plt.subplots(1, 2, figsize=(12, 5))\n",
    "\n",
    "H = myssl.current_cosmology.Hubble(z, physical=True).to(u.km * u.s**-1 * u.Mpc**-1)\n",
    "D_A = myssl.current_cosmology.angdist(z)\n",
    "\n",
    "axs[0].plot(z, H, c=Cs[0])\n",
    "axs[1].plot(z, D_A, c=Cs[1])\n",
    "\n",
    "axs[0].set_xlabel(r\"$z$\")\n",
    "axs[1].set_xlabel(r\"$z$\")\n",
    "axs[0].set_ylabel(r\"$H(z)\\,[\\mathrm{km}\\,\\mathrm{s}^{-1}\\,\\mathrm{Mpc}^{-1}]$\")\n",
    "axs[1].set_ylabel(r\"$D_\\mathrm{A}(z)\\,[\\mathrm{Mpc}]$\")"
   ]
  },
  {
   "cell_type": "markdown",
   "metadata": {},
   "source": [
    "We could now compute the LIM power spectrum using the PowerSpectrum Class"
   ]
  },
  {
   "cell_type": "code",
   "execution_count": null,
   "metadata": {},
   "outputs": [],
   "source": [
    "from SSLimPy.LIMsurvey import power_spectrum"
   ]
  },
  {
   "cell_type": "code",
   "execution_count": null,
   "metadata": {},
   "outputs": [],
   "source": [
    "# The power spectrum can be computed on a different grid than the internal quantities of SSLimPy\n",
    "# The internal grid is for numerical stability while this grid can be tailored to your survey\n",
    "pobs_settings = {\n",
    "    \"kmin\" : 1e-3 * u.Mpc**-1,\n",
    "    \"kmax\" : 5 * u.Mpc**-1,\n",
    "    \"nk\" : 99,\n",
    "    \"k_kind\": \"log\",\n",
    "    \"nmu\" : 128,\n",
    "}\n",
    "\n",
    "# The bias could be computed from the halo model or passed as a free parameter\n",
    "BAOdict = {\n",
    "    \"bmean\" : 2.8,\n",
    "}\n",
    "\n",
    "pobs = power_spectrum.PowerSpectra(myssl.current_astro, BAOpars=BAOdict, settings=pobs_settings)"
   ]
  },
  {
   "cell_type": "code",
   "execution_count": null,
   "metadata": {},
   "outputs": [],
   "source": [
    "# Plot the monopole and quadrupole of LIM\n",
    "k = pobs.k\n",
    "Pk_0bs = pobs.Pk_0bs\n",
    "Pk_2bs = pobs.Pk_2bs\n",
    "\n",
    "plt.loglog(k, k[:, None] * Pk_0bs, c=Cs[0], label=\"Monopole\")\n",
    "plt.loglog(k, k[:, None] * Pk_2bs, c=Cs[1], label=\"Quadrupole\")\n",
    "plt.loglog(k, - k[:, None] * Pk_2bs, c=Cs[1],ls=\"--\")\n",
    "plt.xlabel(r\"$k\\,[\\mathrm{Mpc}^{-1}]$\")\n",
    "plt.ylabel(r\"$k\\,P^\\mathrm{TT}\\,[\\mu\\,\\mathrm{K}^2\\,\\mathrm{Mpc}^{2}]$\")\n",
    "plt.legend()"
   ]
  },
  {
   "cell_type": "markdown",
   "metadata": {},
   "source": [
    "Or one could compute the Gaussian covariance as well"
   ]
  },
  {
   "cell_type": "code",
   "execution_count": null,
   "metadata": {},
   "outputs": [],
   "source": [
    "from SSLimPy.LIMsurvey import covariance"
   ]
  },
  {
   "cell_type": "code",
   "execution_count": null,
   "metadata": {},
   "outputs": [],
   "source": [
    "cov = covariance.Covariance(pobs)\n",
    "Gaussian_cov = cov.gaussian_cov()"
   ]
  },
  {
   "cell_type": "code",
   "execution_count": null,
   "metadata": {},
   "outputs": [],
   "source": [
    "plt.loglog(k, Gaussian_cov[:, 0, 0, 0], c=Cs[0], label = r\"$C_{00}(k)$\")\n",
    "plt.loglog(k, Gaussian_cov[:, 1, 0, 0], c=Cs[1], label = r\"$C_{20}(k)$\")\n",
    "plt.loglog(k, -Gaussian_cov[:, 1, 0, 0], ls=\"--\", c=Cs[1])\n",
    "plt.loglog(k, Gaussian_cov[:, 1, 1, 0], c=Cs[2], label = r\"$C_{22}(k)$\")\n",
    "plt.xlabel(r\"$k\\,[\\mathrm{Mpc}^{-1}]$\")\n",
    "plt.ylabel(r\"$C^\\mathrm{TT}_{\\ell \\ell}\\,[\\mu\\,\\mathrm{K}^4\\,\\mathrm{Mpc}^{6}]$\")\n",
    "plt.legend()"
   ]
  },
  {
   "cell_type": "markdown",
   "metadata": {},
   "source": [
    "## Perform a very basic Fisher forecast"
   ]
  },
  {
   "cell_type": "markdown",
   "metadata": {},
   "source": [
    "An instance of SSLimPy is mainly interacted with through the compute function.\\\n",
    "If no specific output is asked for will compute whatever was asked for in settings. \\\n",
    "One can pass new model parameters as well but for now we will compute the fiducial value."
   ]
  },
  {
   "cell_type": "code",
   "execution_count": null,
   "metadata": {},
   "outputs": [],
   "source": [
    "# Helper function to copy dictionaries from fiducials\n",
    "def obtain_dicts(ssl: sslimpy.SSLimPy):\n",
    "    varycosmodict = copy(ssl.fiducialcosmoparams)\n",
    "    varyhalodict = copy(ssl.fiducialhaloparams)\n",
    "    varyspecdict = copy(ssl.fiducialspecparams)\n",
    "    varyastrodict = deepcopy(ssl.fiducialastroparams) # The model_par dictionarry is nested in the astro dict\n",
    "    varyBAOdict = copy(BAOdict)\n",
    "\n",
    "    return varycosmodict, varyhalodict, varyspecdict, varyastrodict, varyBAOdict"
   ]
  },
  {
   "cell_type": "markdown",
   "metadata": {},
   "source": [
    "For this demonstration we vary:\\\n",
    "&emsp; two cosmo parameters,\\\n",
    "&emsp; the amblitude of clustering,\\\n",
    "&emsp; and the shape of the mass luminosty relation"
   ]
  },
  {
   "cell_type": "code",
   "execution_count": null,
   "metadata": {},
   "outputs": [],
   "source": [
    "# choose which parameters you want to vary and the relative stepsize\n",
    "freepars = {\"h\" : 0.01, \"Omegam\": 0.01, \"bmean\" : 0.01, \"a\": 0.01, \"b\": 0.01} \n",
    "\n",
    "derivdict = {}\n",
    "means = {}\n",
    "for par in freepars:\n",
    "    eps = freepars[par]\n",
    "\n",
    "    # Compute the power spectrum for a posive step\n",
    "\n",
    "    # get copies of fiducial dictionaries\n",
    "    varycosmodict, varyhalodict, varyspecdict, varyastrodict, varyBAOdict = obtain_dicts(myssl)\n",
    "    varyastropardict = varyastrodict[\"model_par\"]\n",
    "\n",
    "    # update the dictionaries for a free parameter\n",
    "    dictlist = [varycosmodict, varyhalodict, varyspecdict, varyastropardict, varyBAOdict]\n",
    "    for updatedict in dictlist:\n",
    "        if par in updatedict:\n",
    "            fidpar = updatedict[par]\n",
    "            means[par] = fidpar\n",
    "            ppar =  fidpar * (1 + eps)\n",
    "            updatedict[par] = ppar\n",
    "    varyastrodict[\"model_par\"] = varyastropardict\n",
    "\n",
    "    presults = myssl.compute(\n",
    "        varycosmodict, varyhalodict, varyastrodict, varyspecdict, \n",
    "        BAOpars=varyBAOdict, pobs_settings=pobs_settings,\n",
    "        output=[\"Power spectrum\"],\n",
    "    ) # The compute function returns a dictionary of the asked for output\n",
    "    ppobs = presults[\"Power spectrum\"] # The only output is the Power spectrum in this case\n",
    "    \n",
    "    # Compute the power spectrum for a negative step\n",
    "\n",
    "    varycosmodict, varyhalodict, varyspecdict, varyastrodict, varyBAOdict = obtain_dicts(myssl)\n",
    "    varyastropardict = varyastrodict[\"model_par\"]\n",
    "\n",
    "    dictlist = [varycosmodict, varyhalodict, varyspecdict, varyastropardict, varyBAOdict]\n",
    "    for updatedict in dictlist:\n",
    "        if par in updatedict:\n",
    "            mpar = updatedict[par] * (1 - eps)\n",
    "            updatedict[par] = mpar\n",
    "    varyastrodict[\"model_par\"] = varyastropardict\n",
    "\n",
    "    mresults = myssl.compute(\n",
    "        varycosmodict, varyhalodict, varyastrodict, varyspecdict, \n",
    "        BAOpars=varyBAOdict, pobs_settings=pobs_settings,\n",
    "        output=[\"Power spectrum\"],\n",
    "    )\n",
    "    mpobs = mresults[\"Power spectrum\"]\n",
    "\n",
    "    P0_deriv = np.squeeze(ppobs.Pk_0bs - mpobs.Pk_0bs) / (2 * eps * fidpar)\n",
    "    P2_deriv = np.squeeze(ppobs.Pk_2bs - mpobs.Pk_2bs) / (2 * eps * fidpar)\n",
    "    \n",
    "    derivdict[par] = np.array([*P0_deriv.value, *P2_deriv.value]) * P0_deriv.unit"
   ]
  },
  {
   "cell_type": "markdown",
   "metadata": {},
   "source": [
    "We now want to construct the covariance for our stacked observable  "
   ]
  },
  {
   "cell_type": "code",
   "execution_count": null,
   "metadata": {},
   "outputs": [],
   "source": [
    "C00 = np.diag(Gaussian_cov[:, 0, 0, 0])\n",
    "C20 = np.diag(Gaussian_cov[:, 1, 0, 0])\n",
    "C02 = np.diag(Gaussian_cov[:, 0, 1, 0])\n",
    "C22 = np.diag(Gaussian_cov[:, 1, 1, 0])\n",
    "\n",
    "stacked_Gaussian_cov = np.block([[C00, C02], [C20, C22]])\n",
    "stacked_inv_cov = np.linalg.inv(stacked_Gaussian_cov)"
   ]
  },
  {
   "cell_type": "code",
   "execution_count": null,
   "metadata": {},
   "outputs": [],
   "source": [
    "freepar_names = np.array([*freepars.keys()])\n",
    "Fij = np.zeros((*freepar_names.shape, *freepar_names.shape))"
   ]
  },
  {
   "cell_type": "code",
   "execution_count": null,
   "metadata": {},
   "outputs": [],
   "source": [
    "freepar_names_to_latex = {\n",
    "    \"Omegam\" : r\"\\Omega_\\mathrm{m}\",\n",
    "    \"h\": r\"h\",\n",
    "    \"bmean\": r\"\\langle b \\rangle\",\n",
    "    \"a\": r\"a_\\mathrm{ML}\",\n",
    "    \"b\": r\"b_\\mathrm{ML}\"\n",
    "}\n",
    "latex_names = [freepar_names_to_latex[par] for par in freepar_names]"
   ]
  },
  {
   "cell_type": "code",
   "execution_count": null,
   "metadata": {},
   "outputs": [],
   "source": [
    "mean = []\n",
    "for i, par1 in enumerate(freepar_names):\n",
    "    mean.append(means[par1])\n",
    "    for j, par2 in enumerate(freepar_names):\n",
    "        Fij[i,j] = np.einsum(\"i,ij,j\", derivdict[par1], stacked_inv_cov, derivdict[par2])"
   ]
  },
  {
   "cell_type": "code",
   "execution_count": null,
   "metadata": {},
   "outputs": [],
   "source": [
    "gauss1=GaussianND(mean=mean, cov=Fij, names=freepar_names, is_inv_cov=True, labels=latex_names)\n",
    "\n",
    "# Set default font sizes before creating the plotter\n",
    "plot_settings = plots.GetDistPlotSettings()\n",
    "plot_settings.axes_fontsize = 24\n",
    "plot_settings.axes_labelsize = 26\n",
    "plot_settings.legend_fontsize = 24\n",
    "\n",
    "g = plots.get_subplot_plotter(subplot_size_ratio=1)\n",
    "g.triangle_plot([gauss1], filled=[False], params=freepar_names, legend_labels=[r'SSLimPy Demo'],contour_lws=[1])"
   ]
  },
  {
   "cell_type": "code",
   "execution_count": null,
   "metadata": {},
   "outputs": [],
   "source": [
    "invFisher = np.linalg.inv(Fij)\n",
    "dinvFisher = np.diag(invFisher)\n",
    "Corr = invFisher / np.sqrt(np.outer(dinvFisher, dinvFisher))"
   ]
  },
  {
   "cell_type": "code",
   "execution_count": null,
   "metadata": {},
   "outputs": [],
   "source": [
    "fig, ax = plt.subplots(figsize=(8, 6))\n",
    "cax = ax.imshow(Corr, cmap='coolwarm', vmin=-1, vmax=1)\n",
    "\n",
    "cbar = fig.colorbar(cax, ax=ax)\n",
    "cbar.set_label('Correlation Coefficient')\n",
    "\n",
    "# Set parameter names as tick labels\n",
    "ax.set_xticks(np.arange(len(freepar_names)))\n",
    "ax.set_yticks(np.arange(len(freepar_names)))\n",
    "\n",
    "latex_names2 = [\"$\" + ln +\"$\" for ln in latex_names]\n",
    "ax.set_xticklabels(latex_names2)\n",
    "ax.set_yticklabels(latex_names2)\n",
    "\n",
    "# Add the correlation values as text\n",
    "for i in range(len(freepar_names)):\n",
    "    for j in range(len(freepar_names)):\n",
    "        text = f\"{Corr[i, j]:.2f}\"\n",
    "        ax.text(j, i, text, ha='center', va='center', color='black' if abs(Corr[i, j]) < 0.75 else 'white')\n",
    "\n",
    "ax.set_title(\"Parameter Correlation Matrix\")\n",
    "plt.tight_layout()\n",
    "plt.show()"
   ]
  }
 ],
 "metadata": {
  "kernelspec": {
   "display_name": "SSC-project",
   "language": "python",
   "name": "python3"
  },
  "language_info": {
   "codemirror_mode": {
    "name": "ipython",
    "version": 3
   },
   "file_extension": ".py",
   "mimetype": "text/x-python",
   "name": "python",
   "nbconvert_exporter": "python",
   "pygments_lexer": "ipython3",
   "version": "3.12.3"
  }
 },
 "nbformat": 4,
 "nbformat_minor": 2
}
