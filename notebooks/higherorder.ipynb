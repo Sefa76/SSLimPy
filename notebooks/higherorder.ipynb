{
 "cells": [
  {
   "cell_type": "code",
   "execution_count": null,
   "metadata": {},
   "outputs": [],
   "source": [
    "import sys, os\n",
    "sys.path.append(\"../\")\n",
    "\n",
    "envkey = \"OMP_NUM_THREADS\"\n",
    "# Set this environment variable to the number of available cores in your machine,\n",
    "# to get a fast execution of the Einstein Boltzmann Solver\n",
    "print(\"The value of {:s} is: \".format(envkey), os.environ.get(envkey))\n",
    "os.environ[envkey] = str(12)\n",
    "print(\"The value of {:s} is: \".format(envkey), os.environ.get(envkey))"
   ]
  },
  {
   "cell_type": "code",
   "execution_count": null,
   "metadata": {},
   "outputs": [],
   "source": [
    "import astropy.units as u\n",
    "import matplotlib.pyplot as plt\n",
    "import numpy as np\n",
    "from scipy.special import roots_legendre\n",
    "\n",
    "import SSLimPy.interface.config as cfg\n",
    "\n",
    "from SSLimPy.interface import sslimpy\n",
    "from SSLimPy.LIMsurvey import covariance\n",
    "from SSLimPy.LIMsurvey import power_spectrum\n",
    "from SSLimPy.LIMsurvey import higher_order\n"
   ]
  },
  {
   "cell_type": "code",
   "execution_count": null,
   "metadata": {},
   "outputs": [],
   "source": [
    "cosmodict = {\"h\": 0.68, \"Omegam\": 0.3, \"Omegab\": 0.04, \"As\": 2.1e-9, \"mnu\": 0.06}\n",
    "settings = {\"code\":\"class\",\n",
    "            \"do_RSD\" : True,\n",
    "            \"nonlinearRSD\" : True,\n",
    "            \"FoG_damp\" : \"ISTF_like\",\n",
    "            \"halo_model_PS\" : True,\n",
    "            \"Smooth_window\" : False,\n",
    "            \"nk\":100,\n",
    "            \"kmax\": 50*u.Mpc**-1,\n",
    "            \"kmin\": 1e-3*u.Mpc**-1,\n",
    "            \"Smooth_resolution\": False,\n",
    "            }\n",
    "halopars = {\n",
    "    \"hmf_model\":\"ST\",\n",
    "    \"bias_model\": \"b1\",\n",
    "    \"nR\" : 256,\n",
    "}\n",
    "\n",
    "astrodict = {\n",
    "    \"model_type\":\"ML\",\n",
    "    \"model_name\":\"MassPow\",\n",
    "    \"model_par\": {\n",
    "        \"A\":2.6e-11,\n",
    "        \"b\":1,\n",
    "    },\n",
    "}\n",
    "Asslimpy = sslimpy.sslimpy(settings_dict=settings, cosmopars=cosmodict, astropars=astrodict)\n",
    "pobs = power_spectrum.PowerSpectra(Asslimpy.fiducialastro)"
   ]
  },
  {
   "cell_type": "code",
   "execution_count": null,
   "metadata": {},
   "outputs": [],
   "source": [
    "g = covariance.Covariance(pobs)\n",
    "ng = covariance.nonGuassianCov(pobs)"
   ]
  },
  {
   "cell_type": "code",
   "execution_count": null,
   "metadata": {},
   "outputs": [],
   "source": [
    "cgov = g.gaussian_cov()\n",
    "cgov.shape"
   ]
  },
  {
   "cell_type": "code",
   "execution_count": null,
   "metadata": {},
   "outputs": [],
   "source": [
    "ng.z"
   ]
  },
  {
   "cell_type": "code",
   "execution_count": null,
   "metadata": {},
   "outputs": [],
   "source": [
    "k = ng.k\n",
    "z = ng.z\n",
    "Pk = ng.cosmo.matpow(k, z, nonlinear=False, tracer=ng.tracer)\n",
    "\n",
    "xi, w = roots_legendre(cfg.settings[\"nnodes_legendre\"])\n",
    "mu = np.pi * xi\n",
    "\n",
    "kl = len(k)\n",
    "wl = len(w)\n",
    "\n",
    "# compute I1 for v_of_M models\n",
    "I1 = np.empty((kl, wl))\n",
    "indexmenge = range(wl)\n",
    "for imu1 in indexmenge:\n",
    "    Ii = ng.astro.Lhalo(\n",
    "        z, k, mu[imu1], p=1\n",
    "    )\n",
    "    I1[:, imu1] = Ii.value\n",
    "\n",
    "Lmb1 = ng.astro.bavg(\"b1\", z, 1)\n",
    "Lmb2 = ng.astro.bavg(\"b2\", z, 1)\n",
    "LmbG2 = ng.astro.bavg(\"bG2\", z, 1)\n",
    "Lmb3 = ng.astro.bavg(\"b3\", z, 1)\n",
    "LmbdG2 = ng.astro.bavg(\"bdG2\", z, 1)\n",
    "LmbG3 = ng.astro.bavg(\"bG3\", z, 1)\n",
    "LmbDG2 = ng.astro.bavg(\"bDG2\", z, 1)\n",
    "f = ng.cosmo.growth_rate(1e-3 * u.Mpc**-1, z, tracer=ng.tracer)\n",
    "\n",
    "k, Pk = k.value, Pk.value\n",
    "\n",
    "mu1, ph1 = 0.2, 0.1\n",
    "mu2, ph2 = 0.4, 0.1\n",
    "\n",
    "T = np.empty((*k.shape, *k.shape))\n",
    "for ik1, k1 in enumerate(k):\n",
    "    for ik2, k2 in enumerate(k):\n",
    "        T[ik1, ik2] = higher_order.TrispectrumL0(Lmb1, Lmb2, LmbG2, Lmb3, LmbdG2, LmbG3, LmbDG2, f.item(),\n",
    "                                       k1, mu1, ph1, k1, -mu1, ph1+np.pi, k2, mu2, ph2, k, Pk)"
   ]
  },
  {
   "cell_type": "code",
   "execution_count": null,
   "metadata": {},
   "outputs": [],
   "source": [
    "print(Lmb1, Lmb2, Lmb3)"
   ]
  },
  {
   "cell_type": "code",
   "execution_count": null,
   "metadata": {},
   "outputs": [],
   "source": [
    "pobs.halomodel.M"
   ]
  },
  {
   "cell_type": "code",
   "execution_count": null,
   "metadata": {},
   "outputs": [],
   "source": []
  },
  {
   "cell_type": "code",
   "execution_count": null,
   "metadata": {},
   "outputs": [],
   "source": [
    "plt.loglog(k, Pk)\n",
    "plt.loglog(k, ng.cosmo.matpow(pobs.k, z, nonlinear=True))"
   ]
  },
  {
   "cell_type": "code",
   "execution_count": null,
   "metadata": {},
   "outputs": [],
   "source": [
    "plt.scatter(k[23], 1)\n",
    "plt.loglog(k, T[:,23])\n",
    "plt.loglog(k, T[:,50])\n",
    "plt.loglog(k, T[:,80])\n",
    "\n"
   ]
  },
  {
   "cell_type": "code",
   "execution_count": null,
   "metadata": {},
   "outputs": [],
   "source": [
    "u.Msun/ ng.astro.halomodel.rho_tracer"
   ]
  },
  {
   "cell_type": "code",
   "execution_count": null,
   "metadata": {},
   "outputs": [],
   "source": [
    "p = g.cosmology.matpow(k*u.Mpc**-1, pobs.z)"
   ]
  },
  {
   "cell_type": "code",
   "execution_count": null,
   "metadata": {},
   "outputs": [],
   "source": [
    "plt.semilogy(k, T[:,50]/(p*p[50]))\n",
    "plt.semilogy(k, [T[ik, ik]/p[ik].value**2 for ik in range(len(k))],'o')\n",
    "plt.xlim(0.0,0.5)"
   ]
  },
  {
   "cell_type": "code",
   "execution_count": null,
   "metadata": {},
   "outputs": [],
   "source": [
    "T0 = ng.integrate_4h()\n",
    "B0 = ng.integrate_3h()\n",
    "P0 = ng.integrate_2h()\n",
    "S0 = ng.integrate_1h()\n",
    "cngov = T0 + B0 + P0 + S0"
   ]
  },
  {
   "cell_type": "code",
   "execution_count": null,
   "metadata": {},
   "outputs": [],
   "source": [
    "plt.loglog(k, T0[:,50,0,0])\n",
    "plt.loglog(k, B0[:,50,0,0])\n",
    "plt.loglog(k, P0[:,50,0,0])\n",
    "plt.loglog(k, S0[:,50,0,0])\n",
    "plt.loglog(k, cngov[:,50,0,0], \"k\")"
   ]
  },
  {
   "cell_type": "code",
   "execution_count": null,
   "metadata": {},
   "outputs": [],
   "source": [
    "plt.loglog(k, [T0[ik,ik,0,0] for ik in range(len(k))])\n",
    "plt.loglog(k, [B0[ik,ik,0,0] for ik in range(len(k))])\n",
    "plt.loglog(k, [P0[ik,ik,0,0] for ik in range(len(k))])\n",
    "plt.loglog(k, [S0[ik,ik,0,0] for ik in range(len(k))])\n",
    "plt.loglog(k, cngov[:,50,0,0], \"k\")"
   ]
  },
  {
   "cell_type": "code",
   "execution_count": null,
   "metadata": {},
   "outputs": [],
   "source": [
    "cgov.shape"
   ]
  },
  {
   "cell_type": "code",
   "execution_count": null,
   "metadata": {},
   "outputs": [],
   "source": [
    "plt.loglog(k,[cngov[ik,ik,0,0] for ik in range(len(k))]/ cgov[:,0,0,0])\n",
    "plt.xlim(0.1, 10)\n"
   ]
  },
  {
   "cell_type": "code",
   "execution_count": null,
   "metadata": {},
   "outputs": [],
   "source": [
    "km = (k>0.02) & (k<0.5)\n",
    "cng = cngov[km, km, 0, 0]\n",
    "kg = k[km]"
   ]
  },
  {
   "cell_type": "code",
   "execution_count": null,
   "metadata": {},
   "outputs": [],
   "source": [
    "plt.loglog(kg, cng[:]/p[km]**2)"
   ]
  },
  {
   "cell_type": "code",
   "execution_count": null,
   "metadata": {},
   "outputs": [],
   "source": [
    "P0[50, 50, :, :]"
   ]
  },
  {
   "cell_type": "code",
   "execution_count": null,
   "metadata": {},
   "outputs": [],
   "source": [
    "M = pobs.astro.M\n",
    "z = 0\n",
    "\n",
    "b1 = pobs.halomodel._bias_function.b1(M, z, 1.68)\n",
    "b2 = pobs.halomodel._bias_function.b2(M, z, 1.68)\n",
    "b3 = pobs.halomodel._bias_function.b3(M, z, 1.68)"
   ]
  },
  {
   "cell_type": "code",
   "execution_count": null,
   "metadata": {},
   "outputs": [],
   "source": [
    "plt.semilogx(M, b1, label=\"$b_1$\")\n",
    "plt.semilogx(M, b2, label=\"$b_2$\")\n",
    "plt.semilogx(M, b3/6, label=\"$b_3/6$\")\n",
    "plt.xlabel(r\"$M \\:[M_\\odot]$\")\n",
    "plt.ylabel(\"halo bias\")\n",
    "plt.legend()\n",
    "plt.ylim((-3,5))\n"
   ]
  },
  {
   "cell_type": "code",
   "execution_count": null,
   "metadata": {},
   "outputs": [],
   "source": [
    "dndM = pobs.halomodel.halomassfunction(M, z)\n",
    "#dndM.shape\n",
    "plt.loglog(M,M**3 * b1 * dndM, c=\"blue\", label=\"$b_1$\")\n",
    "plt.loglog(M,M**3 * b2 * dndM, c=\"orange\", label=\"$b_2$\")\n",
    "plt.loglog(M,M**3 *-b2 * dndM, ls=\"--\", c=\"orange\")\n",
    "plt.loglog(M,M**3 * (b3/6) * dndM, c=\"green\", label=\"$b_3/6$\")\n",
    "plt.loglog(M,M**3 *-(b3/6) * dndM, ls=\"--\",c=\"green\")\n",
    "plt.legend()\n",
    "plt.xlabel(r\"$M$ $[M_\\odot]$\")\n",
    "plt.ylabel(r\"$M^3$ $\\times$ halo bias $\\times$ HMF $[M_\\odot^2\\,\\mathrm{Mpc}^{-3}]$\")\n"
   ]
  }
 ],
 "metadata": {
  "kernelspec": {
   "display_name": "SSC-project",
   "language": "python",
   "name": "python3"
  },
  "language_info": {
   "codemirror_mode": {
    "name": "ipython",
    "version": 3
   },
   "file_extension": ".py",
   "mimetype": "text/x-python",
   "name": "python",
   "nbconvert_exporter": "python",
   "pygments_lexer": "ipython3",
   "version": "3.12.3"
  }
 },
 "nbformat": 4,
 "nbformat_minor": 2
}
