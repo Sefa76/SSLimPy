{
 "cells": [
  {
   "cell_type": "code",
   "execution_count": null,
   "id": "cecf8b0e",
   "metadata": {},
   "outputs": [],
   "source": [
    "import os\n",
    "\n",
    "import astropy.units as u\n",
    "import matplotlib.pyplot as plt\n",
    "import numpy as np\n",
    "from scipy.special import roots_legendre\n",
    "from scipy.integrate import quad_vec\n",
    "import pyccl as ccl\n",
    "\n",
    "from SSLimPy.interface import sslimpy\n",
    "from SSLimPy.cosmology import cosmology\n",
    "from SSLimPy.cosmology import halo_model\n",
    "from SSLimPy.LIMsurvey import higher_order\n",
    "from SSLimPy.utils.utils import linear_interpolate, addVectors\n",
    "\n",
    "import SSLimPy.LIMsurvey.power_spectrum as sps\n",
    "import SSLimPy.cosmology.astro as sastro\n",
    "import SSLimPy.LIMsurvey.covariance as scov\n",
    "import SSLimPy.interface.survey_specs as sss"
   ]
  },
  {
   "cell_type": "code",
   "execution_count": null,
   "id": "31ec1f1d",
   "metadata": {},
   "outputs": [],
   "source": [
    "import seaborn\n",
    "seaborn.set_theme(rc={'axes.edgecolor': 'black', 'xtick.color': 'black', 'ytick.color': 'black',})\n",
    "C = seaborn.color_palette(\"Paired\")\n",
    "C"
   ]
  },
  {
   "cell_type": "code",
   "execution_count": null,
   "id": "d975b087",
   "metadata": {},
   "outputs": [],
   "source": [
    "envkey = \"OMP_NUM_THREADS\"\n",
    "# Set this environment variable to the number of available cores in your machine,\n",
    "# to get a fast execution of the Einstein Boltzmann Solver\n",
    "print(\"The value of {:s} is: \".format(envkey), os.environ.get(envkey))\n",
    "os.environ[envkey] = str(12)\n",
    "print(\"The value of {:s} is: \".format(envkey), os.environ.get(envkey))"
   ]
  },
  {
   "cell_type": "code",
   "execution_count": null,
   "id": "0454a2bb",
   "metadata": {},
   "outputs": [],
   "source": [
    "cosmo_dict = {\n",
    "    \"h\": 0.7,\n",
    "    \"ns\": 0.96,\n",
    "    \"sigma8\": 0.82,\n",
    "    \"Omegab\": 0.05,\n",
    "    \"Omegam\": 0.32,\n",
    "    \"mnu\": 0.06,\n",
    "    \"Neff\": 3.044\n",
    "}\n",
    "\n",
    "halo_dict = {\n",
    "    \"hmf_model\":\"ST\",\n",
    "    \"bias_model\": \"b1\",\n",
    "    \"nR\" : 256,\n",
    "    \"Rmin\": 1e-3 * u.Mpc,\n",
    "    \"Rmax\": 1e3 * u.Mpc,\n",
    "    \"bloating\": \"Mead20\",\n",
    "}"
   ]
  },
  {
   "cell_type": "code",
   "execution_count": null,
   "id": "523b4f0e",
   "metadata": {},
   "outputs": [],
   "source": [
    "settings = {\"code\":\"class\",\n",
    "            \"do_RSD\" : True,\n",
    "            \"nonlinearRSD\" : True,\n",
    "            \"FoG_damp\" : \"ISTF_like\",\n",
    "            \"halo_model_PS\" : True,\n",
    "            \"Smooth_window\" : False,\n",
    "            \"nk\":200,\n",
    "            \"kmax\": 50*u.Mpc**-1,\n",
    "            \"kmin\": 1e-5*u.Mpc**-1,\n",
    "            \"Smooth_resolution\": False,\n",
    "            }\n",
    "\n",
    "sslimpy.sslimpy(settings_dict=settings)"
   ]
  },
  {
   "cell_type": "code",
   "execution_count": null,
   "id": "01caeadb",
   "metadata": {},
   "outputs": [],
   "source": [
    "s_cosmo = cosmology.CosmoFunctions(cosmopars=cosmo_dict)\n",
    "s_halo = halo_model.HaloModel(s_cosmo, halo_dict)\n",
    "\n",
    "k = s_halo.k\n",
    "print(np.min(k), np.max(k))"
   ]
  },
  {
   "cell_type": "code",
   "execution_count": null,
   "id": "785c578c",
   "metadata": {},
   "outputs": [],
   "source": [
    "pobs_settings = {\"nk\":100,\n",
    "            \"kmax\": 50*u.Mpc**-1,\n",
    "            \"kmin\": 1e-4*u.Mpc**-1,\n",
    "            \"nmu\":20\n",
    "            }"
   ]
  },
  {
   "cell_type": "code",
   "execution_count": null,
   "id": "04d35286",
   "metadata": {},
   "outputs": [],
   "source": [
    "survey_specs = sss.SurveySpecifications(dict(), s_cosmo)\n",
    "astro = sastro.AstroFunctions(s_halo, survey_specs)\n",
    "pobs = sps.PowerSpectra(astro, settings=pobs_settings)\n",
    "cov = scov.nonGuassianCov(pobs)"
   ]
  },
  {
   "cell_type": "code",
   "execution_count": null,
   "id": "c4ae4461",
   "metadata": {},
   "outputs": [],
   "source": [
    "k = pobs.k\n",
    "Pk = s_cosmo.matpow(k, 0)"
   ]
  },
  {
   "cell_type": "code",
   "execution_count": null,
   "id": "5a831fb7",
   "metadata": {},
   "outputs": [],
   "source": [
    "args = (0.0010577432818586437, 0.0010577432818586437, -0.9681602395076261, 0.9681602395076261,1, -0.2, 0.2, -1.2, 0.4, 2, 0.4, 0.7, 0, 0,)\n",
    "higher_order.integrand_4h(3.013364382014699, *args, k.value, Pk.value)"
   ]
  },
  {
   "cell_type": "code",
   "execution_count": null,
   "id": "07f5b20e",
   "metadata": {},
   "outputs": [],
   "source": [
    "mu1 = np.linspace(-1, 1)\n",
    "phis = np.linspace(-np.pi, np.pi)\n",
    "\n",
    "phiintegrnd1 = np.empty_like(phis)\n",
    "phiintegrnd2 = np.empty_like(phis)\n",
    "I1 = np.zeros_like(mu1)\n",
    "I2 = np.zeros_like(mu1)\n",
    "\n",
    "for im, mi in enumerate(mu1):\n",
    "    args = (0.4885185780734908, 0.7451451590319873, 0.7, mi, 1, -0.2, 0.2, -1.2, 0.4, 2, 0.4, 0.7, 0, 0,)\n",
    "    args2 = (0.4885185780734908, 0.7451451590319873, -0.7, mi, 1, -0.2, 0.2, -1.2, 0.4, 2, 0.4, 0.7, 0, 0,)\n",
    "    \n",
    "    for ip, pi in enumerate(phis):\n",
    "        phiintegrnd1[ip] = higher_order.integrand_4h(pi, *args, k.value, Pk.value)\n",
    "        phiintegrnd2[ip] = higher_order.integrand_4h(pi, *args2, k.value, Pk.value)\n",
    "    I1[im] = np.trapz(phiintegrnd1, phis)/(2 * np.pi)\n",
    "    I2[im] = np.trapz(phiintegrnd2, phis)/(2 * np.pi)\n",
    "\n",
    "\n",
    "plt.plot(mu1, I1)\n",
    "plt.plot(mu1, I2)"
   ]
  },
  {
   "cell_type": "markdown",
   "id": "35835fc7",
   "metadata": {},
   "source": [
    "# Further tests"
   ]
  },
  {
   "cell_type": "code",
   "execution_count": null,
   "id": "bd67aea6",
   "metadata": {},
   "outputs": [],
   "source": [
    "Omega_c = s_cosmo.Omega(0, \"clustering\") - 0.05\n",
    "cosmo = ccl.Cosmology(Omega_c=Omega_c, Omega_b=0.05, h=0.7, sigma8=0.82, n_s=0.96, m_nu=0.06, Neff=3.044)\n",
    "\n",
    "cM = ccl.halos.ConcentrationDiemer15()\n",
    "nM = ccl.halos.MassFuncSheth99(mass_def=ccl.halos.MassDef200c, mass_def_strict=False)\n",
    "bM = ccl.halos.HaloBiasSheth99(mass_def=ccl.halos.MassDef200c, mass_def_strict=False)\n",
    "pM = ccl.halos.HaloProfileNFW(mass_def=ccl.halos.MassDef200c, concentration=cM, fourier_analytic=True)\n",
    "\n",
    "hmc = ccl.halos.HMCalculator(mass_function=nM, halo_bias=bM)"
   ]
  },
  {
   "cell_type": "markdown",
   "id": "27e3a458",
   "metadata": {},
   "source": [
    "Linear power spectra"
   ]
  },
  {
   "cell_type": "code",
   "execution_count": null,
   "id": "5e20f9d4",
   "metadata": {},
   "outputs": [],
   "source": [
    "linpk_SL = s_cosmo.matpow(k, 0, nonlinear=False, tracer=\"matter\")\n",
    "linpk_CC = ccl.linear_matter_power(cosmo, k.value, 1)\n",
    "\n",
    "colors = iter(C)\n",
    "\n",
    "plt.loglog(k, linpk_SL, c= next(colors))\n",
    "plt.loglog(k, linpk_CC, c= next(colors), ls=\"--\")"
   ]
  },
  {
   "cell_type": "code",
   "execution_count": null,
   "id": "8b45db88",
   "metadata": {},
   "outputs": [],
   "source": [
    "plt.semilogx(k, (linpk_SL.value/linpk_CC -1) * 100)"
   ]
  },
  {
   "cell_type": "markdown",
   "id": "0399416b",
   "metadata": {},
   "source": [
    "Extrapolation"
   ]
  },
  {
   "cell_type": "code",
   "execution_count": null,
   "id": "6412ab33",
   "metadata": {},
   "outputs": [],
   "source": [
    "ktest = np.geomspace(1e-5, 50e2)\n",
    "ptest = np.exp(linear_interpolate(np.log(k.value), np.log(linpk_SL.value), np.log(ktest)))\n",
    "plt.loglog(k, linpk_SL)\n",
    "plt.scatter(ktest, ptest, c=\"red\", marker=\"+\", label=\"SSLimPy\")\n",
    "plt.scatter(ktest, ccl.linear_matter_power(cosmo, ktest, 1), c=\"blue\", marker=\"+\", label=\"pyCCL\")\n",
    "plt.xlabel(r\"$k\\,[\\mathrm{Mpc}^{-1}]$\")\n",
    "plt.ylabel(r\"$P\\,[\\mathrm{Mpc}^3]$\")\n",
    "plt.legend()"
   ]
  },
  {
   "cell_type": "markdown",
   "id": "a340441d",
   "metadata": {},
   "source": [
    "# Star Terms"
   ]
  },
  {
   "cell_type": "markdown",
   "id": "b051fa6b",
   "metadata": {},
   "source": [
    "SSLimPy"
   ]
  },
  {
   "cell_type": "code",
   "execution_count": null,
   "id": "952d07c2",
   "metadata": {},
   "outputs": [],
   "source": [
    "n_Num = 50\n",
    "xi, wi = roots_legendre(n_Num)"
   ]
  },
  {
   "cell_type": "code",
   "execution_count": null,
   "id": "6db3d475",
   "metadata": {},
   "outputs": [],
   "source": [
    "X_SL = np.empty((*k.shape, *k.shape, n_Num))\n",
    "\n",
    "for ik1, k1i in enumerate(k):\n",
    "    for ik2, k2i in enumerate(k):\n",
    "        for imu, mui in enumerate(xi):\n",
    "\n",
    "            # Compute over all permutations of the 1113 diagrams\n",
    "            X_SL[ik1, ik2, imu] = higher_order.vF3(k1i.value, 1.0, 0.0, k1i.value, -1.0, np.pi, k2i.value, xi[imu], 0.0)\n",
    "X_SL = 12 * np.sum(X_SL * wi, axis=-1)"
   ]
  },
  {
   "cell_type": "code",
   "execution_count": null,
   "id": "51de9559",
   "metadata": {},
   "outputs": [],
   "source": [
    "T_3111_SL = X_SL * linpk_SL[:, None]**2 * linpk_SL[None, :]\n",
    "T_3111_SL += T_3111_SL.T"
   ]
  },
  {
   "cell_type": "code",
   "execution_count": null,
   "id": "d2c6fa3f",
   "metadata": {},
   "outputs": [],
   "source": [
    "T_3111_SL = T_3111_SL"
   ]
  },
  {
   "cell_type": "markdown",
   "id": "94f8eaf3",
   "metadata": {},
   "source": [
    "Pyccl"
   ]
  },
  {
   "cell_type": "code",
   "execution_count": null,
   "id": "3f50a777",
   "metadata": {},
   "outputs": [],
   "source": [
    "def funcT_3111_CC(cosmo: ccl.Cosmology):\n",
    "    k_use = k.value\n",
    "    pk2d = cosmo.get_linear_power()\n",
    "\n",
    "    kk = k_use[None, :]\n",
    "    kp = k_use[:, None]\n",
    "\n",
    "    def get_X():\n",
    "        k = kk\n",
    "        r = kp / k\n",
    "\n",
    "        def integ(theta):\n",
    "            cth = np.cos(theta)\n",
    "            kr2 = k ** 2 + kp ** 2 + 2 * k * kp * cth\n",
    "            kr = np.sqrt(kr2)\n",
    "            intd = (5 * r + (7 - 2*r**2)*cth) / (1 + r**2 + 2*r*cth) * \\\n",
    "                   (3/7. * r + 0.5 * (1 + r**2) * cth + 4/7. * r * cth**2)\n",
    "            # When kr = 0, r = 1 and intd = 0\n",
    "            intd[np.where(kr == 0)] = 0\n",
    "            return intd\n",
    "\n",
    "        isotropized_integ = \\\n",
    "            quad_vec(integ, 0, np.pi)[0] / np.pi\n",
    "\n",
    "        X = -7./4. * (1 + r**2) + isotropized_integ\n",
    "\n",
    "        return X\n",
    "\n",
    "    X = get_X()\n",
    "    pk = pk2d(k_use,1)[None, :]\n",
    "\n",
    "    t1113 = 4/9. * pk**2 * pk.T * X\n",
    "    t1113 += t1113.T\n",
    "    return t1113, X"
   ]
  },
  {
   "cell_type": "code",
   "execution_count": null,
   "id": "49be2676",
   "metadata": {},
   "outputs": [],
   "source": [
    "T_3111_CC, X = funcT_3111_CC(cosmo)\n",
    "X = X * 4/ 9"
   ]
  },
  {
   "cell_type": "code",
   "execution_count": null,
   "id": "1524b2ac",
   "metadata": {},
   "outputs": [],
   "source": [
    "n_Num = 200\n",
    "xi, wi = roots_legendre(n_Num)"
   ]
  },
  {
   "cell_type": "code",
   "execution_count": null,
   "id": "828c2ea1",
   "metadata": {},
   "outputs": [],
   "source": [
    "Pkr = np.empty((*k.shape, *k.shape, n_Num))\n",
    "F2 = np.empty((*k.shape, *k.shape, n_Num))\n",
    "\n",
    "for ik1, k1i in enumerate(k.value):\n",
    "    for ik2, k2i in enumerate(k.value):\n",
    "        for imu, mui in enumerate(xi):\n",
    "            kr, mur, phr = addVectors(k1i, 1.0, 0.0, k2i, xi[imu], 0.0)\n",
    "            if not np.isclose(kr, 0.0):\n",
    "                Pkr[ik1, ik2, imu] = np.exp(\n",
    "                    linear_interpolate(\n",
    "                        np.log(k.value),\n",
    "                        np.log(linpk_SL.value),\n",
    "                        np.log([kr])\n",
    "                    )[0]\n",
    "                )\n",
    "                F2[ik1, ik2, imu] = higher_order.vF2(k1i, 1, 0.0, kr, -mur, phr+np.pi)\n",
    "\n",
    "            else:\n",
    "                Pkr[ik1, ik2, imu] = 0\n",
    "                F2[ik1, ik2, imu] = 13./28.\n",
    "\n",
    "P4A_SL_th = Pkr * F2**2\n",
    "P4X_SL_th = Pkr * F2 * np.transpose(F2, (1,0,2))\n",
    "\n",
    "P4A_SL = np.sum(wi * P4A_SL_th, axis = -1)\n",
    "P4X_SL = np.sum(wi * P4X_SL_th, axis = -1)"
   ]
  },
  {
   "cell_type": "code",
   "execution_count": null,
   "id": "e137fadc",
   "metadata": {},
   "outputs": [],
   "source": [
    "T_2211_A_SL = 8 * linpk_SL[:, None]**2 * P4A_SL\n",
    "T_2211_A_SL += T_2211_A_SL.T\n",
    "\n",
    "T_2211_X_SL = 8 * linpk_SL[:, None]* linpk_SL[None, :] * P4X_SL\n",
    "T_2211_X_SL += T_2211_X_SL.T"
   ]
  },
  {
   "cell_type": "code",
   "execution_count": null,
   "id": "b19893ff",
   "metadata": {},
   "outputs": [],
   "source": [
    "from numba import njit"
   ]
  },
  {
   "cell_type": "code",
   "execution_count": null,
   "id": "f6968b3b",
   "metadata": {},
   "outputs": [],
   "source": [
    "def collapsed_Trispectrum_LO(\n",
    "    Lmb1, Lmb2, LmbG2, Lmb3, LmbdG2, LmbG3, LmbDG2, f,\n",
    "    k1, mu1, ph1,\n",
    "    k2, mu2, ph2,\n",
    "    kgrid, Pgrid,\n",
    "    ):\n",
    "    k12, mu12, ph12 = addVectors(k1, mu1, ph1, k2, mu2, ph2)\n",
    "    \n",
    "    logvk = np.log(np.array([k1, k2, k12]))\n",
    "    logvPk = linear_interpolate(np.log(kgrid), np.log(Pgrid), logvk)\n",
    "    vPk = np.exp(logvPk)\n",
    "\n",
    "    A = 0\n",
    "    X = 0\n",
    "    if not np.isclose(k12, 0, atol=1e-12):\n",
    "        A = (\n",
    "            8 * vPk[0]**2 * higher_order.vZ1(Lmb1, f, k1, mu1, ph1)**2\n",
    "            * vPk[2] * higher_order.vZ2(Lmb1, Lmb2, LmbG2, f, k1, -mu1, ph1 + np.pi, k12, mu12, ph12)**2\n",
    "            + 8 * vPk[1]**2 * higher_order.vZ1(Lmb1, f, k2, mu2, ph2)**2\n",
    "            * vPk[2] * higher_order.vZ2(Lmb1, Lmb2, LmbG2, f, k2, -mu2, ph2 + np.pi, k12, mu12, ph12)**2\n",
    "        )\n",
    "        X = (\n",
    "            16 * vPk[0] * higher_order.vZ1(Lmb1, f, k1, mu1, ph1)\n",
    "            * vPk[1] * higher_order.vZ1(Lmb1, f, k2, mu2, ph2)\n",
    "            * vPk[2] * higher_order.vZ2(Lmb1, Lmb2, LmbG2, f, k1, -mu1, ph1 + np.pi, k12, mu12, ph12)\n",
    "            * higher_order.vZ2(Lmb1, Lmb2, LmbG2, f, k2, -mu2, ph2 + np.pi, k12, mu12, ph12)\n",
    "        )\n",
    "\n",
    "    Star = (\n",
    "        12 * higher_order.vZ1(Lmb1, f, k1, mu1, ph1)**2 * vPk[0]**2\n",
    "        * higher_order.vZ1(Lmb1, f, k2, mu2, ph2) * vPk[1]\n",
    "        * higher_order.vZ3(Lmb1, Lmb2, LmbG2, Lmb3, LmbdG2, LmbG3, LmbDG2, f, k1, mu1, ph1, k1, -mu1, ph1 + np.pi, k2, mu2, ph2)\n",
    "        + 12 * higher_order.vZ1(Lmb1, f, k2, mu2, ph2)**2 * vPk[1]**2\n",
    "        * higher_order.vZ1(Lmb1, f, k1, mu1, ph1) * vPk[0]\n",
    "        * higher_order.vZ3(Lmb1, Lmb2, LmbG2, Lmb3, LmbdG2, LmbG3, LmbDG2, f, k2, mu2, ph2, k1, -mu2, ph2 + np.pi, k1, mu1, ph1)\n",
    "    )\n",
    "    return (\n",
    "        A\n",
    "        + X\n",
    "        + Star\n",
    "    )\n",
    "\n",
    "def X_SL_int(\n",
    "    Lmb1, Lmb2, LmbG2, f,\n",
    "    k1, mu1, ph1,\n",
    "    k2, mu2, ph2,\n",
    "    kgrid, Pgrid,\n",
    "    ):\n",
    "\n",
    "    k12, mu12, ph12 = addVectors(k1, mu1, ph1, k2, mu2, ph2)\n",
    "    \n",
    "    logvk = np.log(np.array([k1, k2, k12]))\n",
    "    logvPk = linear_interpolate(np.log(kgrid), np.log(Pgrid), logvk)\n",
    "    vPk = np.exp(logvPk)\n",
    "\n",
    "    X = 0\n",
    "    if not np.isclose(k12, 0, atol=1e-12):\n",
    "        X = (\n",
    "            vPk[2] # 16 * vPk[0] * vPk[1]\n",
    "            * higher_order.vZ1(Lmb1, f, k1, mu1, ph1)\n",
    "            * higher_order.vZ1(Lmb1, f, k2, mu2, ph2)\n",
    "            * higher_order.vZ2(Lmb1, Lmb2, LmbG2, f, k1, -mu1, ph1 + np.pi, k12, mu12, ph12)\n",
    "            * higher_order.vZ2(Lmb1, Lmb2, LmbG2, f, k2, -mu2, ph2 + np.pi, k12, mu12, ph12)\n",
    "        )\n",
    "    return X\n"
   ]
  },
  {
   "cell_type": "markdown",
   "id": "9fd3a89a",
   "metadata": {},
   "source": [
    "# Snake - Terms\n"
   ]
  },
  {
   "cell_type": "markdown",
   "id": "a08aa816",
   "metadata": {},
   "source": [
    "Pyccl"
   ]
  },
  {
   "cell_type": "code",
   "execution_count": null,
   "id": "1ab8e8c3",
   "metadata": {},
   "outputs": [],
   "source": [
    "k_use = k.value\n",
    "pk2d = cosmo.get_linear_power()\n",
    "\n",
    "kk = k_use[None, :]\n",
    "kp = k_use[:, None]\n",
    "nk = len(k_use)\n",
    "\n",
    "# Get P4A, P4X\n",
    "def integ(theta):\n",
    "    cth = np.cos(theta)\n",
    "    kr2 = kk ** 2 + kp ** 2 + 2 * kk * kp * cth\n",
    "    kr = np.sqrt(kr2)\n",
    "\n",
    "    f2 = 5./7. - 0.5 * (1 + kk ** 2 / kr2) * (1 + kp / kk * cth) + \\\n",
    "        2/7. * kk ** 2 / kr2 * (1 + kp / kk * cth)**2\n",
    "    f2[np.where(kr == 0)] = 13. / 28\n",
    "\n",
    "    pkr = pk2d(kr.flatten(), 1.0, cosmo).reshape((nk, nk))\n",
    "    \n",
    "    return np.array([pkr * f2**2, pkr * f2 * f2.T])\n",
    "\n",
    "P4A_CL, P4X_CL = quad_vec(integ, 0, np.pi)[0] / np.pi\n",
    "\n",
    "X_int_CC = []\n",
    "for imu, mui in enumerate(xi):\n",
    "    A, X = integ(np.arccos(mui))\n",
    "    X_int_CC.append(X)\n",
    "X_int_CC = np.array(X_int_CC)"
   ]
  },
  {
   "cell_type": "code",
   "execution_count": null,
   "id": "4f82fdb3",
   "metadata": {},
   "outputs": [],
   "source": [
    "X_test_CC = np.sum(X_int_CC[:,15,:] * wi[:, None], axis=0)"
   ]
  },
  {
   "cell_type": "code",
   "execution_count": null,
   "id": "0c0085f6",
   "metadata": {},
   "outputs": [],
   "source": [
    "X_int_SL = np.empty((*k.shape, n_Num))\n",
    "for ik1, k1i in enumerate(k):\n",
    "    for imu, mui in enumerate(xi):\n",
    "        X_int_SL[ik1, imu] = X_SL_int(1, 0, 0, 0, k1i.value, 1.0, 0.0, k.value[15], mui, 0.0, k.value, linpk_SL.value)\n",
    "X_SL = np.sum(X_int_SL * wi, axis=-1)\n",
    "\n"
   ]
  },
  {
   "cell_type": "code",
   "execution_count": null,
   "id": "8ffa0a2f",
   "metadata": {},
   "outputs": [],
   "source": [
    "colors = iter(C)\n",
    "\n",
    "fig, axs = plt.subplots(2, 1, sharex=True)\n",
    "\n",
    "indicies = [10,15,30]\n",
    "for i in indicies:\n",
    "    c = next(colors)\n",
    "    axs[0].semilogy(xi, X_int_SL[i,:], c=c)\n",
    "    axs[1].semilogy(xi, -X_int_SL[i,:], c=c)\n",
    "\n",
    "    c = next(colors)\n",
    "    axs[0].semilogy(xi, X_int_CC[:,15, i], c=c, ls=\"--\")\n",
    "    axs[1].semilogy(xi, -X_int_CC[:,15, i], c=c, ls=\"--\")\n",
    "\n",
    "axs[1].invert_yaxis()\n",
    "plt.plot([],[], \"k--\", label=\"pyccl\")\n",
    "plt.plot([],[], \"k-\", label=\"SSLimPy\")\n",
    "\n",
    "plt.legend()"
   ]
  },
  {
   "cell_type": "code",
   "execution_count": null,
   "id": "936074f1",
   "metadata": {},
   "outputs": [],
   "source": [
    "plt.loglog(k, X_test_CC)"
   ]
  },
  {
   "cell_type": "code",
   "execution_count": null,
   "id": "c451e02f",
   "metadata": {},
   "outputs": [],
   "source": [
    "P4X_CL_th = np.empty((*k.shape, *k.shape, n_Num))\n",
    "P4A_CL_th = np.empty((*k.shape, *k.shape, n_Num))\n",
    "\n",
    "for ith, mui in enumerate(xi):\n",
    "    thi = np.arccos(mui)\n",
    "    A, X = integ(thi)\n",
    "    P4A_CL_th[:,:, ith] = A\n",
    "    P4X_CL_th[:,:, ith] = X"
   ]
  },
  {
   "cell_type": "code",
   "execution_count": null,
   "id": "82957045",
   "metadata": {},
   "outputs": [],
   "source": [
    "T_2211_A_CL = 8 * linpk_CC[None, :]**2 * P4A_CL\n",
    "T_2211_A_CL += T_2211_A_CL.T\n",
    "\n",
    "T_2211_X_CL = 8 * linpk_CC[:, None]* linpk_CC[None, :] * P4X_CL\n",
    "T_2211_X_CL += T_2211_X_CL.T"
   ]
  },
  {
   "cell_type": "code",
   "execution_count": null,
   "id": "ed613925",
   "metadata": {},
   "outputs": [],
   "source": [
    "colors = iter(C)\n",
    "\n",
    "plt.loglog(k, T_2211_A_SL[:,15], c=next(colors))\n",
    "plt.loglog(k, T_2211_A_CL[:,15], c=next(colors), ls=\"--\")\n",
    "plt.loglog(k, T_2211_A_SL[:,45], c=next(colors))\n",
    "plt.loglog(k, T_2211_A_CL[:,45], c=next(colors), ls=\"--\")\n",
    "plt.loglog(k, T_2211_A_SL[:,75], c=next(colors))\n",
    "plt.loglog(k, T_2211_A_CL[:,75], c=next(colors), ls=\"--\")\n",
    "\n",
    "plt.loglog([],[], \"k--\", label=\"pyccl\")\n",
    "plt.loglog([],[], \"k-\", label=\"SSLimPy\")\n",
    "plt.legend()"
   ]
  },
  {
   "cell_type": "code",
   "execution_count": null,
   "id": "7cf7509f",
   "metadata": {},
   "outputs": [],
   "source": [
    "colors = iter(C)\n",
    "\n",
    "fig, axs = plt.subplots(2, 1, sharex=True)\n",
    "\n",
    "indicies = [15, 45, 75]\n",
    "for i in indicies:\n",
    "    c = next(colors)\n",
    "    axs[0].loglog(k, T_2211_X_SL[:,i], c=c)\n",
    "    axs[1].loglog(k, -T_2211_X_SL[:,i], c=c)\n",
    "\n",
    "    c = next(colors)\n",
    "    axs[0].loglog(k, T_2211_X_CL[:,i], c=c, ls=\"--\")\n",
    "    axs[1].loglog(k, -T_2211_X_CL[:,i], c=c, ls=\"--\")\n",
    "\n",
    "axs[1].invert_yaxis()\n",
    "plt.loglog([],[], \"k--\", label=\"pyccl\")\n",
    "plt.loglog([],[], \"k-\", label=\"SSLimPy\")\n",
    "\n",
    "plt.legend()"
   ]
  },
  {
   "cell_type": "code",
   "execution_count": null,
   "id": "e212c7c6",
   "metadata": {},
   "outputs": [],
   "source": [
    "for i in range(98):\n",
    "    if T_2211_X_SL[i,15]>0 and T_2211_X_SL[i+1,15]<0:\n",
    "        print(i)"
   ]
  },
  {
   "cell_type": "code",
   "execution_count": null,
   "id": "245311a1",
   "metadata": {},
   "outputs": [],
   "source": [
    "k[36]"
   ]
  },
  {
   "cell_type": "code",
   "execution_count": null,
   "id": "31268051",
   "metadata": {},
   "outputs": [],
   "source": [
    "T_2211_SL = T_2211_A_SL + T_2211_X_SL\n",
    "T_2211_CC = T_2211_A_CL + T_2211_X_CL"
   ]
  },
  {
   "cell_type": "code",
   "execution_count": null,
   "id": "c9b99f37",
   "metadata": {},
   "outputs": [],
   "source": [
    "colors = iter(C)\n",
    "\n",
    "plt.loglog(k, T_2211_SL[:,15], c=next(colors), ls=\"-\")\n",
    "plt.loglog(k, T_2211_CC[:,15], c=next(colors), ls=\"--\")\n",
    "\n",
    "plt.loglog(k, T_2211_SL[:,45], c=next(colors), ls=\"-\")\n",
    "plt.loglog(k, T_2211_CC[:,45], c=next(colors), ls=\"--\")\n",
    "\n",
    "plt.loglog(k, T_2211_SL[:,75], c=next(colors), ls=\"-\")\n",
    "plt.loglog(k, T_2211_CC[:,75], c=next(colors), ls=\"--\")\n",
    "\n",
    "plt.xlabel(r\"$k\\,[\\mathrm{Mpc}^{-1}]$\")\n",
    "plt.ylabel(r\"$\\langle T_{1122} \\rangle\\,[\\mathrm{Mpc}^6]$\")\n",
    "\n",
    "plt.loglog([],[], \"k--\", label=\"pyccl\")\n",
    "plt.loglog([],[], \"k-\", label=\"SSLimPy\")\n",
    "plt.legend()\n"
   ]
  },
  {
   "cell_type": "code",
   "execution_count": null,
   "id": "d1b9a47f",
   "metadata": {},
   "outputs": [],
   "source": [
    "colors = iter(C)\n",
    "\n",
    "plt.loglog(k, -T_3111_SL[:,15], c=next(colors), ls=\"-\")\n",
    "plt.loglog(k, -T_3111_CC[:,15], c=next(colors), ls=\"--\")\n",
    "\n",
    "plt.loglog(k, -T_3111_SL[:,45], c=next(colors), ls=\"-\")\n",
    "plt.loglog(k, -T_3111_CC[:,45], c=next(colors), ls=\"--\")\n",
    "\n",
    "plt.loglog(k, -T_3111_SL[:,75], c=next(colors), ls=\"-\")\n",
    "plt.loglog(k, -T_3111_CC[:,75], c=next(colors), ls=\"--\")\n",
    "\n",
    "plt.xlabel(r\"$k\\,[\\mathrm{Mpc}^{-1}]$\")\n",
    "plt.ylabel(r\"$\\langle T_{1113} \\rangle\\,[\\mathrm{Mpc}^6]$\")\n",
    "\n",
    "plt.loglog([],[], \"k--\", label=\"pyccl\")\n",
    "plt.loglog([],[], \"k-\", label=\"SSLimPy\")\n",
    "plt.legend()\n"
   ]
  },
  {
   "cell_type": "markdown",
   "id": "c7fc9b0c",
   "metadata": {},
   "source": [
    "# Full expression"
   ]
  },
  {
   "cell_type": "code",
   "execution_count": null,
   "id": "17890f64",
   "metadata": {},
   "outputs": [],
   "source": [
    "# F = np.loadtxt(\"CCL_Trispectrum.txt\")\n",
    "T_CC = T_2211_X_CL + T_2211_A_CL + T_3111_CC\n",
    "T_SL = T_2211_X_SL.value + T_2211_A_SL.value + T_3111_SL.value"
   ]
  },
  {
   "cell_type": "code",
   "execution_count": null,
   "id": "a994c81d",
   "metadata": {},
   "outputs": [],
   "source": [
    "colors = iter(C)\n",
    "\n",
    "plt.loglog(k, T_SL[:, 25], c=next(colors))\n",
    "plt.loglog(k, T_CC[:, 25], c=next(colors), ls=\"--\")\n",
    "\n",
    "plt.loglog(k, T_SL[:, 45], c=next(colors))\n",
    "plt.loglog(k, T_CC[:, 45], c=next(colors), ls=\"--\")\n",
    "\n",
    "plt.loglog(k, T_SL[:, 75], c=next(colors))\n",
    "plt.loglog(k, T_CC[:, 75], c=next(colors), ls=\"--\")\n",
    "\n",
    "plt.xlabel(r\"$k\\,[\\mathrm{Mpc}^{-1}]$\")\n",
    "plt.ylabel(r\"$\\langle T \\rangle\\,[\\mathrm{Mpc}^6]$\")\n",
    "\n",
    "plt.loglog([],[], \"k--\", label=\"pyccl\")\n",
    "plt.loglog([],[], \"k-\", label=\"SSLimPy\")\n",
    "plt.legend()"
   ]
  },
  {
   "cell_type": "code",
   "execution_count": null,
   "id": "143bb279",
   "metadata": {},
   "outputs": [],
   "source": [
    "args = dict(b1=1, b2=0, b3=0, bG2=0, bG3=0, bdG2=0, bDG2=0, f=0, sigma_parr=0, sigma_perp=0)\n",
    "a = cov.integrate_4h(args=args, eps=1e-2, z=0.0)"
   ]
  },
  {
   "cell_type": "code",
   "execution_count": null,
   "id": "cfc9db96",
   "metadata": {},
   "outputs": [],
   "source": [
    "colors = iter(C)\n",
    "indicies = [15, 45, 75]\n",
    "for i in indicies:\n",
    "    c = next(colors)\n",
    "    plt.loglog(k, a[:, i, 0, 0],c=c)\n",
    "    c = next(colors)\n",
    "    plt.loglog(k, -a[:, i, 0, 0],ls=\"--\",c=c)"
   ]
  },
  {
   "cell_type": "code",
   "execution_count": null,
   "id": "3112c1ec",
   "metadata": {},
   "outputs": [],
   "source": [
    "T_CC = np.loadtxt(\"/home/sefa/Desktop/LIM-Code/SSLimPy/CCL_Trispectrum.txt\")"
   ]
  },
  {
   "cell_type": "code",
   "execution_count": null,
   "id": "ec5e012c",
   "metadata": {},
   "outputs": [],
   "source": [
    "colors = iter(C)\n",
    "\n",
    "plt.loglog(k, a[:, 25, 0, 0], c=next(colors))\n",
    "plt.loglog(k, T_CC[:, 25], c=next(colors), ls=\"--\")\n",
    "\n",
    "plt.loglog(k, a[:, 45, 0, 0], c=next(colors))\n",
    "plt.loglog(k, T_CC[:, 45], c=next(colors), ls=\"--\")\n",
    "\n",
    "plt.loglog(k, a[:, 75, 0, 0], c=next(colors))\n",
    "plt.loglog(k, T_CC[:, 75], c=next(colors), ls=\"--\")\n",
    "\n",
    "plt.xlabel(r\"$k\\,[\\mathrm{Mpc}^{-1}]$\")\n",
    "plt.ylabel(r\"$\\langle T \\rangle\\,[\\mathrm{Mpc}^6]$\")\n",
    "\n",
    "plt.loglog([],[], \"k--\", label=\"pyccl\")\n",
    "plt.loglog([],[], \"k-\", label=\"SSLimPy\")\n",
    "plt.legend()"
   ]
  },
  {
   "cell_type": "code",
   "execution_count": null,
   "id": "e37e5acb",
   "metadata": {},
   "outputs": [],
   "source": []
  }
 ],
 "metadata": {
  "kernelspec": {
   "display_name": "SSC-project",
   "language": "python",
   "name": "python3"
  },
  "language_info": {
   "codemirror_mode": {
    "name": "ipython",
    "version": 3
   },
   "file_extension": ".py",
   "mimetype": "text/x-python",
   "name": "python",
   "nbconvert_exporter": "python",
   "pygments_lexer": "ipython3",
   "version": "3.12.3"
  }
 },
 "nbformat": 4,
 "nbformat_minor": 5
}
