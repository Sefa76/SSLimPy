{
 "cells": [
  {
   "cell_type": "code",
   "execution_count": null,
   "metadata": {},
   "outputs": [],
   "source": [
    "from classy import Class\n",
    "import numpy as np\n",
    "import matplotlib.pyplot as plt\n",
    "from copy import copy\n",
    "from scipy.special import roots_legendre\n",
    "from numba import njit, prange\n",
    "from SSLimPy.utils import utils\n",
    "import os"
   ]
  },
  {
   "cell_type": "code",
   "execution_count": null,
   "metadata": {},
   "outputs": [],
   "source": [
    "os.environ[\"MPI_NUM_THREADS\"] = \"14\""
   ]
  },
  {
   "cell_type": "code",
   "execution_count": null,
   "metadata": {},
   "outputs": [],
   "source": [
    "@njit(\"(float64[::1], float64[::1], float64[::1], float64[:], float64[:])\", parallel=True)\n",
    "def convolve(kinter, wi, xi, Tk1, Tk2):\n",
    "    kl = len(kinter)\n",
    "    mu = xi\n",
    "    Tkn = np.empty(kl)\n",
    "    for ik in prange(kl):\n",
    "        intgr_k1 = np.empty(kl)\n",
    "        for ik1 in range(kl):\n",
    "            q = np.sqrt(kinter[ik]**2 + kinter[ik1]**2 - 2 * kinter[ik] * kinter[ik1] * mu)\n",
    "            Tq = -np.exp(utils.linear_interpolate(np.log(kinter), np.log(-Tk1), q))\n",
    "            intgr_k1[ik1] = np.sum(wi * Tq)\n",
    "        Tkn[ik] = np.trapz(2* np.pi * kinter**3 * intgr_k1 * Tk2, np.log(kinter))\n",
    "    return Tkn"
   ]
  },
  {
   "cell_type": "code",
   "execution_count": null,
   "metadata": {},
   "outputs": [],
   "source": [
    "xi, wi = roots_legendre(12)"
   ]
  },
  {
   "cell_type": "code",
   "execution_count": null,
   "metadata": {},
   "outputs": [],
   "source": [
    "# fixed params\n",
    "h = 0.65\n",
    "Omegab = 0.05\n",
    "Omegam = 0.3\n",
    "\n",
    "g = 3.044/3\n",
    "N_ur = 3.044 - g\n",
    "T_ncdm = (4 / 11)**(1 / 3) * g**(1 / 4)\n",
    "def compute_fixed(mnu):\n",
    "    Omeganu = mnu * g**(0.75) / 94.07 / h**2\n",
    "    Omegac = Omegam - Omegab - Omeganu\n",
    "    return Omeganu, Omegac\n",
    "\n",
    "cosmodict = {\n",
    "    \"output\":\"mPk, mTk\",\n",
    "    'P_k_max_1/Mpc': 50,\n",
    "    'non linear' : 'hmcode2020',\n",
    "    'z_max_pk' : 3.0,\n",
    "    \"N_ncdm\": 1,\n",
    "    \"N_ur\": N_ur,\n",
    "    \"h\": h,\n",
    "    \"Omega_b\": Omegab,\n",
    "    \"T_ncdm\": T_ncdm\n",
    "}"
   ]
  },
  {
   "cell_type": "code",
   "execution_count": null,
   "metadata": {},
   "outputs": [],
   "source": [
    "def get_Transfers(mnu):\n",
    "    cosmo = Class()\n",
    "\n",
    "    cd = copy(cosmodict)\n",
    "    Onu, Oc = compute_fixed(mnu)\n",
    "    cd[\"Omega_ncdm\"] = Onu\n",
    "    cd[\"Omega_cdm\"] = Oc\n",
    "\n",
    "    cosmo.set(cd)\n",
    "    cosmo.compute()\n",
    "    mTk, k, z = cosmo.get_transfer_and_k_and_z()\n",
    "\n",
    "\n",
    "    # Obtain cb Transfers\n",
    "    fnu = cosmo.Omega_nu / cosmo.Omega0_m()\n",
    "    fb = cosmo.Omega_b()/ cosmo.Omega_m()\n",
    "    fc = cosmo.Omega0_cdm() / cosmo.Omega0_m()\n",
    "    fcb = 1-fnu\n",
    "\n",
    "    Tcb = (1 / fcb * (fb * mTk[\"d_b\"] + fc * mTk[\"d_cdm\"]))[:,-1]\n",
    "    Tnu = mTk[\"d_ncdm[0]\"][:,-1]\n",
    "    Tmm = fcb * Tcb + fnu * Tnu\n",
    "\n",
    "    kmask = k>0\n",
    "    k = k[kmask]\n",
    "    Tcb = Tcb[kmask]\n",
    "    Tmm = Tmm[kmask]\n",
    "\n",
    "    T2cc = convolve(k, wi, xi, Tcb, Tcb)\n",
    "    T2mm = convolve(k, wi, xi, Tmm, Tmm)\n",
    "    return k, Tcb, Tmm, T2cc, T2mm"
   ]
  },
  {
   "cell_type": "code",
   "execution_count": null,
   "metadata": {},
   "outputs": [],
   "source": [
    "k,Tcc_low, Tmm_low, T2cc_low, T2mm_low = get_Transfers(0.06)\n",
    "_,Tcc_high, Tmm_high, T2cc_high, T2mm_high = get_Transfers(0.12)"
   ]
  },
  {
   "cell_type": "code",
   "execution_count": null,
   "metadata": {},
   "outputs": [],
   "source": [
    "plt.loglog(k, -Tcc_high)\n",
    "plt.loglog(k, k**2)"
   ]
  },
  {
   "cell_type": "code",
   "execution_count": null,
   "metadata": {},
   "outputs": [],
   "source": [
    "plt.semilogx(k, Tcc_high/Tcc_low -1)\n",
    "plt.semilogx(k, Tmm_high/Tmm_low -1)"
   ]
  },
  {
   "cell_type": "code",
   "execution_count": null,
   "metadata": {},
   "outputs": [],
   "source": [
    "response_cc = T2cc_low/T2cc_high -1\n",
    "response_mm = T2mm_low/T2mm_high -1"
   ]
  },
  {
   "cell_type": "code",
   "execution_count": null,
   "metadata": {},
   "outputs": [],
   "source": [
    "plt.semilogx(k, response_cc, label=\"clustering matter\")\n",
    "plt.semilogx(k, response_mm, label=\"total matter\")\n",
    "plt.xlabel(r\"$k\\; [\\mathrm{Mpc}^{-1}]$\")\n",
    "plt.ylabel(r\"$(T*T)(m_\\nu=0.06\\mathrm{eV})\\:/\\:(T*T)(0.12\\mathrm{eV})-1$\")\n",
    "plt.legend()"
   ]
  },
  {
   "cell_type": "code",
   "execution_count": null,
   "metadata": {},
   "outputs": [],
   "source": [
    "plt.loglog(k, T2cc_high, label=\"clustering matter\")\n",
    "plt.loglog(k, T2mm_high, label=\"total matter\")\n",
    "plt.xlabel(r\"$k\\; [\\mathrm{Mpc}^{-1}]$\")\n",
    "plt.ylabel(r\"$(T*T)(k)\\;[\\mathrm{Mpc}^{-3}]$\")\n",
    "plt.legend()"
   ]
  },
  {
   "cell_type": "code",
   "execution_count": null,
   "metadata": {},
   "outputs": [],
   "source": [
    "T2mm_high/T2cc_high"
   ]
  },
  {
   "cell_type": "code",
   "execution_count": null,
   "metadata": {},
   "outputs": [],
   "source": []
  }
 ],
 "metadata": {
  "kernelspec": {
   "display_name": "SSC-project",
   "language": "python",
   "name": "python3"
  },
  "language_info": {
   "codemirror_mode": {
    "name": "ipython",
    "version": 3
   },
   "file_extension": ".py",
   "mimetype": "text/x-python",
   "name": "python",
   "nbconvert_exporter": "python",
   "pygments_lexer": "ipython3",
   "version": "3.12.3"
  }
 },
 "nbformat": 4,
 "nbformat_minor": 2
}
