{
 "cells": [
  {
   "cell_type": "code",
   "execution_count": null,
   "metadata": {},
   "outputs": [],
   "source": [
    "import astropy.units as u\n",
    "import matplotlib.pyplot as plt\n",
    "import numpy as np\n",
    "from classy import Class\n",
    "from colossus.cosmology import cosmology as ccosmology\n",
    "from scipy.interpolate import UnivariateSpline\n",
    "\n",
    "from SSLimPy.cosmology import halo_model\n",
    "from SSLimPy.interface import sslimpy\n",
    "from SSLimPy.utils.utils import linear_interpolate\n",
    "\n",
    "plt.style.use(\"fivethirtyeight\")"
   ]
  },
  {
   "cell_type": "code",
   "execution_count": null,
   "metadata": {},
   "outputs": [],
   "source": [
    "# colosus results\n",
    "ccosmo = ccosmology.setCosmology(\"planck18\")"
   ]
  },
  {
   "cell_type": "code",
   "execution_count": null,
   "metadata": {},
   "outputs": [],
   "source": [
    "# SSLimPy results\n",
    "cosmodict = {\n",
    "    \"h\": ccosmo.h,\n",
    "    \"Omegam\": ccosmo.Om0,\n",
    "    \"Omegab\": ccosmo.Ob0,\n",
    "    \"ns\": ccosmo.ns,\n",
    "    \"sigma8\": ccosmo.sigma8,\n",
    "}\n",
    "\n",
    "A = sslimpy.sslimpy(cosmopars=cosmodict)"
   ]
  },
  {
   "cell_type": "code",
   "execution_count": null,
   "metadata": {},
   "outputs": [],
   "source": [
    "hm = A.fiducialastro.halomodel\n",
    "b_ss = hm._bias_function.b1(hm.M, 2.83, 1.686)"
   ]
  },
  {
   "cell_type": "code",
   "execution_count": null,
   "metadata": {},
   "outputs": [],
   "source": [
    "plt.semilogx(hm.M, b_ss)\n",
    "plt.xlim(1e9,1e15)\n",
    "plt.ylim(-2, 10)"
   ]
  },
  {
   "cell_type": "code",
   "execution_count": null,
   "metadata": {},
   "outputs": [],
   "source": [
    "hm._bias_function.b1([1e9, 1e15]*u.Msun, 2.8333333, 1.686)"
   ]
  },
  {
   "cell_type": "code",
   "execution_count": null,
   "metadata": {},
   "outputs": [],
   "source": []
  },
  {
   "cell_type": "code",
   "execution_count": null,
   "metadata": {},
   "outputs": [],
   "source": [
    "k = nl.k\n",
    "Dk = 4 * np.pi * (k / 2 / np.pi) ** 3 * nl.matpow(k, 0, tracer=\"clustering\")\n",
    "t = np.linspace(0, 1, 400)\n",
    "rR = np.geomspace(1e-4, 1e3, 8)\n",
    "I = np.empty((*t.shape, *rR.shape))\n",
    "for ir, Ri in enumerate(rR):\n",
    "    I = nonlinear.sigma_integrand(t, Ri, k, Dk, 3)\n",
    "    plt.semilogy(t, I, label=\"R={:1.0e}\".format(Ri))\n",
    "plt.legend(loc=8, ncol=4)"
   ]
  },
  {
   "cell_type": "code",
   "execution_count": null,
   "metadata": {},
   "outputs": [],
   "source": [
    "cosmodict = {\n",
    "    \"h\": ccosmo.h,\n",
    "    \"Omega_m\": ccosmo.Om0,\n",
    "    \"Omega_b\": ccosmo.Ob0,\n",
    "    \"n_s\": ccosmo.ns,\n",
    "    \"sigma8\": ccosmo.sigma8,\n",
    "    \"N_ncdm\": 1,\n",
    "    \"m_ncdm\": 0.06,\n",
    "    \"N_ur\": 2.0308,\n",
    "}\n",
    "\n",
    "cosmo = Class()\n",
    "cosmo.set_default()\n",
    "cosmo.set({\"non linear\": \"hmcode2020\"})\n",
    "cosmo.set(cosmodict)\n",
    "cosmo.compute()\n",
    "class_sigma = np.zeros(len(nl.R))\n",
    "for iR, Ri in enumerate(nl.R.value):\n",
    "    class_sigma[iR] = cosmo.sigma_cb(Ri, 0)"
   ]
  },
  {
   "cell_type": "code",
   "execution_count": null,
   "metadata": {},
   "outputs": [],
   "source": [
    "plt.rcParams.keys()"
   ]
  },
  {
   "cell_type": "code",
   "execution_count": null,
   "metadata": {},
   "outputs": [],
   "source": [
    "plt.loglog(nl.R, nl.sigmaR_lut[:, 0], label=\"New integration method\")\n",
    "plt.loglog(nl.R, class_sigma, label=\"Class\")\n",
    "plt.loglog(nl.R, nl.sigmaR_of_z(nl.R, 0), label=\"Old integration method\")\n",
    "Rh = np.geomspace(1e-4, 1e3)\n",
    "plt.loglog(Rh / ccosmo.h, ccosmo.sigma(Rh, 0), label=\"Colosus\", ls=\"--\")\n",
    "plt.xlabel(r\"$R \\:[\\mathrm{Mpc}]$\")\n",
    "plt.ylabel(r\"$\\sigma(R)$\")\n",
    "plt.legend()"
   ]
  },
  {
   "cell_type": "code",
   "execution_count": null,
   "metadata": {},
   "outputs": [],
   "source": [
    "neff_of_R_lut = -2.0 * nl.R.value * nl.dsigmaR_lut[:,0] / nl.sigmaR_lut[:,0] - 3\n",
    "#extrapolate look up tables to higher R\n",
    "R = np.geomspace(1e-4, 1e5)\n",
    "sigma_of_R = np.exp(linear_interpolate(np.log(nl.R.value), np.log(nl.sigmaR_lut[:,0]), np.log(R)))\n",
    "dsigma_of_R = -np.exp(linear_interpolate(np.log(nl.R.value), np.log(-nl.dsigmaR_lut[:,0]), np.log(R)))\n",
    "\n",
    "neff_of_R = -2.0 * R * dsigma_of_R / sigma_of_R - 3\n",
    "plt.semilogx(R, neff_of_R)\n",
    "plt.semilogx(nl.R, neff_of_R_lut)\n",
    "plt.hlines(ccosmo.ns-4,1e-4,1e5, color=\"yellow\")\n",
    "plt.hlines(ccosmo.ns,1e-4,1e5, color=\"yellow\")"
   ]
  },
  {
   "cell_type": "code",
   "execution_count": null,
   "metadata": {},
   "outputs": [],
   "source": [
    "x = np.log((nl.R/(1.5e3*u.Mpc)).to(1).value)\n",
    "dx = np.diff(x)[0]\n",
    "\n",
    "f = neff_of_R_lut\n",
    "\n",
    "f0 = f[-1]\n",
    "finf = ccosmo.ns\n",
    "# df0 = (-2 * f[-4] + 9 * f[-3] - 18 * f[-2] + 11 * f[-11]) / (6 * dx)\n",
    "# ddf0 = (-1 * f[-4] + 4 * f[-3] - 5 * f[-2] + 2 * f[-11]) / (dx**2)\n",
    "df0 = (1 * f[-3] - 4 * f[-2] + 3 * f[-1]) / (2* dx)\n",
    "ddf0 = (1 * f[-3] - 2 * f[-2] + 1 * f[-1]) / (dx**2)\n",
    "\n",
    "\n",
    "d = finf\n",
    "c = f0\n",
    "b = df0 + f0 - finf\n",
    "a = (ddf0 + 2*df0 + f0 - finf) / 2\n",
    "\n",
    "Rexp = np.geomspace(1.5e3, 1e5)*u.Mpc\n",
    "xexp = np.log((Rexp/(1.5e3*u.Mpc)).to(1).value)\n",
    "fexp = (a*xexp**2 + b* xexp + c)*np.exp(-xexp) + d * (1 - np.exp(-xexp))"
   ]
  },
  {
   "cell_type": "code",
   "execution_count": null,
   "metadata": {},
   "outputs": [],
   "source": [
    "plt.semilogx(R, neff_of_R)\n",
    "plt.semilogx(nl.R, neff_of_R_lut)\n",
    "plt.semilogx(Rexp, fexp, ls=\"--\", color=\"black\")\n",
    "plt.hlines(ccosmo.ns-4,1e-4,1e5, color=\"yellow\")\n",
    "plt.hlines(ccosmo.ns,1e-4,1e5, color=\"yellow\")"
   ]
  },
  {
   "cell_type": "code",
   "execution_count": null,
   "metadata": {},
   "outputs": [],
   "source": [
    "R = np.geomspace(1e-5, 1e4)*u.Mpc\n",
    "d = nl.read_lut(R, 0.0, \"both\")"
   ]
  },
  {
   "cell_type": "code",
   "execution_count": null,
   "metadata": {},
   "outputs": [],
   "source": [
    "plt.loglog(R, d[\"sigma\"], label=r\"$\\sigma$\")\n",
    "plt.loglog(R, -R[:,None] * d[\"dsigma\"]/d[\"sigma\"], label=r\"$-\\mathrm{d}\\log\\sigma/\\mathrm{d}\\log R$\")\n",
    "plt.legend()\n",
    "plt.xlabel(r\"$R \\:[\\mathrm{Mpc}]$\")\n",
    "plt.ylabel(r\"Variance Functions\")"
   ]
  },
  {
   "cell_type": "code",
   "execution_count": null,
   "metadata": {},
   "outputs": [],
   "source": [
    "astro = A.curent_astro\n",
    "rhoM = astro.rho_crit * astro.cosmology.Omega(0, \"clustering\")\n",
    "M = 4.0 / 3.0 * np.pi * rhoM * R**3\n",
    "sM = astro.sigmaM(M, 0, astro.astrotracer)\n",
    "dsM = astro.dsigmaM_dM(M, 0.0, astro.astrotracer)"
   ]
  },
  {
   "cell_type": "code",
   "execution_count": null,
   "metadata": {},
   "outputs": [],
   "source": [
    "plt.loglog(M, sM)\n",
    "plt.loglog(M, - M * dsM/sM)"
   ]
  },
  {
   "cell_type": "code",
   "execution_count": null,
   "metadata": {},
   "outputs": [],
   "source": [
    "hmf = astro.bias_coevolution.sc_hmf(M, 0.0, 1.6864)"
   ]
  },
  {
   "cell_type": "code",
   "execution_count": null,
   "metadata": {},
   "outputs": [],
   "source": [
    "plt.loglog(M, M[:,None]**3 * hmf)"
   ]
  },
  {
   "cell_type": "code",
   "execution_count": null,
   "metadata": {},
   "outputs": [],
   "source": []
  }
 ],
 "metadata": {
  "kernelspec": {
   "display_name": "SSC-project",
   "language": "python",
   "name": "python3"
  },
  "language_info": {
   "codemirror_mode": {
    "name": "ipython",
    "version": 3
   },
   "file_extension": ".py",
   "mimetype": "text/x-python",
   "name": "python",
   "nbconvert_exporter": "python",
   "pygments_lexer": "ipython3",
   "version": "3.12.3"
  }
 },
 "nbformat": 4,
 "nbformat_minor": 2
}
