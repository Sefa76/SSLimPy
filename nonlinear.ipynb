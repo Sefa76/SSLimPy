{
 "cells": [
  {
   "cell_type": "code",
   "execution_count": null,
   "metadata": {},
   "outputs": [],
   "source": [
    "import astropy.units as u\n",
    "import matplotlib.pyplot as plt\n",
    "import numpy as np\n",
    "from classy import Class\n",
    "from colossus.cosmology import cosmology as ccosmology\n",
    "from scipy.interpolate import UnivariateSpline\n",
    "\n",
    "from SSLimPy.cosmology import nonlinear\n",
    "from SSLimPy.interface import sslimpy\n",
    "from SSLimPy.utils.utils import linear_interpolate\n",
    "\n",
    "plt.style.use(\"fivethirtyeight\")"
   ]
  },
  {
   "cell_type": "code",
   "execution_count": null,
   "metadata": {},
   "outputs": [],
   "source": [
    "# colosus results\n",
    "ccosmo = ccosmology.setCosmology(\"planck18\")"
   ]
  },
  {
   "cell_type": "code",
   "execution_count": null,
   "metadata": {},
   "outputs": [],
   "source": [
    "# SSLimPy results\n",
    "cosmodict = {\n",
    "    \"h\": ccosmo.h,\n",
    "    \"Omegam\": ccosmo.Om0,\n",
    "    \"Omegab\": ccosmo.Ob0,\n",
    "    \"ns\": ccosmo.ns,\n",
    "    \"sigma8\": ccosmo.sigma8,\n",
    "}\n",
    "\n",
    "A = sslimpy.sslimpy(cosmopars=cosmodict)\n",
    "nl = nonlinear.nonlinear(\"clustering\", cosmology=A.curent_cosmo)"
   ]
  },
  {
   "cell_type": "code",
   "execution_count": null,
   "metadata": {},
   "outputs": [],
   "source": [
    "k = nl.k\n",
    "Dk = 4 * np.pi * (k / 2 / np.pi) ** 3 * nl.matpow(k, 0, tracer=\"clustering\")\n",
    "t = np.linspace(0, 1, 400)\n",
    "rR = np.geomspace(1e-4, 1e3, 8)\n",
    "I = np.empty((*t.shape, *rR.shape))\n",
    "for ir, Ri in enumerate(rR):\n",
    "    I = nonlinear.sigma_integrand(t, Ri, k, Dk, 3)\n",
    "    plt.semilogy(t, I, label=\"R={:1.0e}\".format(Ri))\n",
    "plt.legend(loc=8, ncol=4)"
   ]
  },
  {
   "cell_type": "code",
   "execution_count": null,
   "metadata": {},
   "outputs": [],
   "source": [
    "cosmodict = {\n",
    "    \"h\": ccosmo.h,\n",
    "    \"Omega_m\": ccosmo.Om0,\n",
    "    \"Omega_b\": ccosmo.Ob0,\n",
    "    \"n_s\": ccosmo.ns,\n",
    "    \"sigma8\": ccosmo.sigma8,\n",
    "    \"N_ncdm\": 1,\n",
    "    \"m_ncdm\": 0.06,\n",
    "    \"N_ur\": 2.0308,\n",
    "}\n",
    "\n",
    "cosmo = Class()\n",
    "cosmo.set_default()\n",
    "cosmo.set({\"non linear\": \"hmcode2020\"})\n",
    "cosmo.set(cosmodict)\n",
    "cosmo.compute()\n",
    "class_sigma = np.zeros(len(nl.R))\n",
    "for iR, Ri in enumerate(nl.R.value):\n",
    "    class_sigma[iR] = cosmo.sigma_cb(Ri, 0)"
   ]
  },
  {
   "cell_type": "code",
   "execution_count": null,
   "metadata": {},
   "outputs": [],
   "source": [
    "plt.loglog(nl.R, nl.sigmaR_lut[:, 0], label=\"New integration method\")\n",
    "plt.loglog(nl.R, class_sigma, label=\"Class\")\n",
    "plt.loglog(nl.R, nl.sigmaR_of_z(nl.R, 0), label=\"Old integration method\")\n",
    "Rh = np.geomspace(1e-4, 1e3)\n",
    "plt.loglog(Rh / ccosmo.h, ccosmo.sigma(Rh, 0), label=\"Colosus\", ls=\"--\")\n",
    "plt.xlabel(r\"$R \\:[\\mathrm{Mpc}]$\")\n",
    "plt.ylabel(r\"$\\sigma(R)$\")\n",
    "plt.legend()"
   ]
  }
 ],
 "metadata": {
  "kernelspec": {
   "display_name": "SSC-project",
   "language": "python",
   "name": "python3"
  },
  "language_info": {
   "codemirror_mode": {
    "name": "ipython",
    "version": 3
   },
   "file_extension": ".py",
   "mimetype": "text/x-python",
   "name": "python",
   "nbconvert_exporter": "python",
   "pygments_lexer": "ipython3",
   "version": "3.12.3"
  }
 },
 "nbformat": 4,
 "nbformat_minor": 2
}
