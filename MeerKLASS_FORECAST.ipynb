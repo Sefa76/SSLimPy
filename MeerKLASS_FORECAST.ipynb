{
 "cells": [
  {
   "cell_type": "markdown",
   "id": "b043f00c-881f-40a9-a36a-53049c2da828",
   "metadata": {},
   "source": [
    "This is a notebook to do the forecast for MeerKLASS using the new version of the lim code. "
   ]
  },
  {
   "cell_type": "code",
   "execution_count": 1,
   "id": "a69dd3db-061d-43cd-89cf-2d2a2f33cdbd",
   "metadata": {},
   "outputs": [],
   "source": [
    "# import packages\n",
    "import SSLimPy.interface.sslimpy as sslimpy\n",
    "from SSLimPy.cosmology.cosmology import cosmo_functions as cosmo_comp\n",
    "import numpy as np\n",
    "import astropy.units as u\n",
    "import astropy.constants as cu\n",
    "from copy import copy\n",
    "import matplotlib.pyplot as plt\n",
    "import seaborn as sns\n",
    "import astropy\n",
    "\n",
    "from scipy.special import legendre\n",
    "\n",
    "import matplotlib.gridspec as gridspec\n",
    "import matplotlib\n",
    "\n",
    "from scipy.interpolate import interp1d\n",
    "\n",
    "kitsune   = '#D9972F'\n",
    "seiheki   = '#478384'\n",
    "shuan     = '#740A00'\n",
    "aonibi      = '#324356'\n",
    "shion       = '#968ABD'\n",
    "\n",
    "matplotlib.rcParams['text.usetex'] = True\n",
    "plt.rcParams['text.latex.preamble'] = r\"\\usepackage{bm} \\usepackage{amsmath}\"\n",
    "colors = ['#9e1b1b','#6cb6c4',kitsune,'#a152d9','#0b3e45','#46b52b','#787575']\n",
    "plt.rcParams['axes.prop_cycle'] = plt.cycler(color=colors)\n",
    "plt.rcParams['lines.linewidth'] = 3.0\n",
    "plt.rcParams['axes.linewidth'] = 2.\n",
    "\n",
    "%matplotlib inline"
   ]
  },
  {
   "cell_type": "markdown",
   "id": "23650d67-ee41-4423-b0e4-0f8e03c08863",
   "metadata": {},
   "source": [
    "### Power spectrum model"
   ]
  },
  {
   "cell_type": "markdown",
   "id": "26a24525-0ff9-4aab-8925-9640a4076705",
   "metadata": {},
   "source": [
    "We are going to use the following model for the power spectrum. Considering only the auto power spectrum of HI 21cm, and assuming that we want to do a BAO analysis (and neglecting any shot noise), we have"
   ]
  },
  {
   "cell_type": "markdown",
   "id": "70440d39-2c0b-4467-98be-e0561abb16d5",
   "metadata": {},
   "source": [
    "$$P(k,\\mu) = B\\frac{1+\\beta\\mu^2}{1+(k\\mu\\sigma_{{\\rm p}})^2}P_m(k)W(k)\\,,$$\n",
    "where $W(k)$ is the suppression by the beam, and $k$ and $\\mu$ are affected by the AP effect as\n",
    "$$ k^{\\rm true} = \\frac{k^{\\rm meas}}{\\alpha_\\perp}\\left[1+\\left(\\mu\\right)^2\\left((F_{\\rm proj}^{(i)})^{-2}-1\\right)\t\\right]^{1/2}\\,, $$\n",
    "$$ \\mu^{\\rm true} = \\frac{\\mu^{\\rm meas}}{F_{\\rm proj}^{(i)}}\\left[1+\\left(\\mu\\right)^2\\left((F_{\\rm proj}^{(i)})^{-2}-1\\right)\t\\right]^{-1/2},$$ \n",
    "with $F_{\\rm proj}=\\alpha_\\parallel/\\alpha_\\perp$ and we know\n",
    "$$\\alpha_\\parallel = \\frac{\\left(Hr_{\\rm d}\\right)^{\\rm fid}}{Hr_{\\rm d}}\\,,\\qquad \\alpha_\\perp = \\frac{D_M/r_{\\rm d}}{\\left(D_M/r_{\\rm d}\\right)^{\\rm fid}} \\,.$$ \n",
    "\n",
    "Note here that $P_m$ already includes the suppression on the BAO amplitude due to the nonlinear bulk velocities at large scales. \n",
    "\n",
    "The final data vector is the concatenation of the monopole and quadrupole of the power spectrum, which are computed as\n",
    "$$P_\\ell = \\frac{2\\ell+1}{2}\\int{\\rm d}\\mu P(k,\\mu) + \\mathcal{D}_\\ell(k)\\,,$$\n",
    "where $\\mathcal{D}_\\ell$ is a functional to marginalize over the broad (the smooth shape of the power spectrum). We follow the current DESI pipeline and use the implementation in the barry code which uses splines. More information can be found in the DESI BAO paper with galaxies and quasars. Note that this functional aims to marginalize over potential systematics (both theoretical and observations) affecting the smooth shape of the power spectrum, leaving the BAO feature as the only marker, which is a good thing because is the only one which is actually very robust. Therefore, we need a different functional for each multipole and patch on the sky (i.e., compute the Fisher matrix for each patch, marginalize over the coefficients of this functional, and combine all patches after that).\n",
    "\n",
    "For the covariance, we assume a Gaussian covariance. In this case, there are 4 blocks (for the auto and cross of each multipole). Each block is diagonal\n",
    "\n",
    "Assume we have a single patch and we consider only the auto for MeerKLASS. In such case, we have the following parameters:\n",
    "$$\\left\\lbrace \\alpha_\\parallel,\\,\\alpha_\\perp,\\, B,\\, \\beta,\\, \\sigma_p,\\,\\sigma_v,\\, \\pmb{a},\\, \\mathcal{B} \\right\\rbrace\\,,$$ where $B$ is equivalent to the degenerate uncertainties of the product of $\\langle Tb\\rangle\\sigma_8$ and $\\pmb{a}$ are the coefficients of $\\mathcal{D}_\\ell$, $\\mathcal{B}$ accounts for the beam, and $\\sigma_v$ is the velocity scale for the QNL BAO suppression."
   ]
  },
  {
   "cell_type": "markdown",
   "id": "2b2ae3a6-f99a-4108-acd8-5c624f2efbca",
   "metadata": {},
   "source": [
    "### Compute power spectrum at the fiducial value of the parameters"
   ]
  },
  {
   "cell_type": "markdown",
   "id": "4c785285-a08a-48fd-8d54-1aa34763c893",
   "metadata": {},
   "source": [
    "General tools"
   ]
  },
  {
   "cell_type": "code",
   "execution_count": 2,
   "id": "62028730-bde6-443d-b2b9-bc5a20419eb0",
   "metadata": {},
   "outputs": [],
   "source": [
    "# Tools\n",
    "\n",
    "def nu_from_lambda(lam):\n",
    "    return (cu.c/lam).to(u.MHz)\n",
    "\n",
    "def lambda_from_nu(nu):\n",
    "    return (cu.c/nu).to(u.um)\n",
    "\n",
    "def plot_2d(covmat,index,center,ax,color1,color2,TwoSigma=True,filled=True,factors=None,alpha=[1,1],zorder=1):\n",
    "    '''\n",
    "    Paints 2d ellipses representing forecast constraints from the Fisher matrix. \n",
    "    Uses https://arxiv.org/pdf/0906.4123.pdf\n",
    "    '''\n",
    "    #Define the 2x2 covariance matrix from the covariance matrix obtained from the inverse of the Fisher\n",
    "    matrix = covmat[np.ix_(index,index)]\n",
    "    clr = [color1,color2]\n",
    "    #Rescale the errors if needed\n",
    "    if factors: \n",
    "        s1 = matrix[0,0]**0.5*factors[0]\n",
    "        s2 = matrix[1,1]**0.5*factors[1]\n",
    "        s12 = matrix[0,1]*factors[0]*factors[1]\n",
    "        center[0] *= factors[0]\n",
    "        center[1] *= factors[1]\n",
    "    else:\n",
    "        s1 = matrix[0,0]**0.5\n",
    "        s2 = matrix[1,1]**0.5\n",
    "        s12 = matrix[0,1]\n",
    "        \n",
    "    rho = s12/s1/s2\n",
    "    #print 'correlation =', rho\n",
    "    #1sigma and 2sigma Delta chi2\n",
    "    Deltachi2 = 2.3\n",
    "    TwoSigmaDeltachi2 = 6.17\n",
    "    \n",
    "    xpar = np.linspace(-4*s1,4*s1,64)\n",
    "    ypar = np.linspace(-4*s2,4*s2,64)\n",
    "    xi_grid, yi_grid = np.meshgrid(xpar,ypar)\n",
    "    #Define contours (ellipses) corresponding to chi2\n",
    "    chi2 = ((xi_grid/s1)**2+(yi_grid/s2)**2-2.*rho*(xi_grid/s1)*(yi_grid/s2))/(1-rho**2)\n",
    "    \n",
    "    #Paint the contours\n",
    "    if filled:\n",
    "        if TwoSigma:\n",
    "            ax.contourf(xi_grid+center[0],yi_grid+center[1],chi2,[0,TwoSigmaDeltachi2],colors=clr[1],alpha=alpha[1],zorder=zorder)\n",
    "        ax.contourf(xi_grid+center[0],yi_grid+center[1],chi2,[0,Deltachi2],colors=clr[0],alpha=alpha[0],zorder=zorder)\n",
    "    if TwoSigma:\n",
    "        ax.contour(xi_grid+center[0],yi_grid+center[1],chi2,[TwoSigmaDeltachi2],colors=clr[1],linewidths=1,alpha=alpha[0],zorder=zorder)\n",
    "    ax.contour(xi_grid+center[0],yi_grid+center[1],chi2,[Deltachi2],colors=clr[0],linewidths=1,alpha=alpha[0],zorder=zorder)\n",
    "\n",
    "    ax.scatter(center[0],center[1],marker='o',color='k',s=20,zorder=6,edgecolors='k',lw=1)\n",
    "    return\n"
   ]
  },
  {
   "cell_type": "markdown",
   "id": "dff8b18e-8964-448f-87ce-aea64c8a72d9",
   "metadata": {},
   "source": [
    "MeerKLASS functions to get values"
   ]
  },
  {
   "cell_type": "code",
   "execution_count": 3,
   "id": "717bf9c7-b6bf-4340-917a-388bdf3c81d5",
   "metadata": {},
   "outputs": [],
   "source": [
    "def get_kvec(Vsurvey):\n",
    "    '''\n",
    "    Get the kvector for a given survey volume \n",
    "    '''\n",
    "    Vsurvey = Vsurvey.to(u.Mpc**3)\n",
    "    kmin = 2*np.pi/Vsurvey**(1/3)\n",
    "    kmax = 0.1/u.Mpc\n",
    "    kvec_edge = np.arange(kmin.value,kmax.value,kmin.value)*kmin.unit\n",
    "    kvec = 0.5*(kvec_edge[:-1]+kvec_edge[1:])\n",
    "    return kvec\n",
    "\n",
    "def get_volume(M,Omega_field,zc,dz):\n",
    "    '''\n",
    "    Get the probed volume as function of area, z_center (zc) and redshift bin width (dz)\n",
    "    '''\n",
    "    zmin,zmax = zc-0.5*dz,zc+0.5*dz\n",
    "    Lside = M.comoving(zmax)-M.comoving(zmin)\n",
    "    Stot = M.comoving(zc)**2*(Omega_field/(1.*u.rad**2)).decompose()\n",
    "    return Lside*Stot\n",
    "\n",
    "def THI_mean(z):\n",
    "    '''\n",
    "    Mean T_HI temperature\n",
    "    '''\n",
    "    return (0.0559+0.2324*z-0.024*z**2)*u.mK\n",
    "\n",
    "def bHI_mean(z):\n",
    "    '''\n",
    "    mean HI bias\n",
    "    '''\n",
    "    return 0.67+0.18*z+0.05*z**2\n",
    "\n",
    "def get_beam(zc,D):\n",
    "    ''''\n",
    "    Get the beam width as function of diameter, redshift\n",
    "    '''\n",
    "    nuHI = nu_from_lambda(21*u.cm)\n",
    "    return (1.22*cu.c/nuHI*(1+zc)/D).decompose()*u.rad\n",
    "\n",
    "def B_beam(k,mu,zc,beam,M):\n",
    "    '''\n",
    "    Beam smoothing\n",
    "    '''\n",
    "    return np.exp(-k[:,None]**2*(1-mu[None,:]**2)*(M.angdist(zc)*(1+zc)*beam/u.rad)**2/(16*np.log(2)))\n"
   ]
  },
  {
   "cell_type": "markdown",
   "id": "7321bb51-7ee9-4924-be06-fd5940524551",
   "metadata": {},
   "source": [
    "Broadband functional computations"
   ]
  },
  {
   "cell_type": "code",
   "execution_count": 4,
   "id": "9cb8ca47-526b-46b3-b390-2ba5ddd8b92c",
   "metadata": {},
   "outputs": [],
   "source": [
    "def prep_broadband(k,M,npoles=2):\n",
    "    '''\n",
    "    Prepares the spline for the broadband\n",
    "    '''\n",
    "    Delta = 2*np.pi/(147*u.Mpc)\n",
    "    n_max = int((k[-1]-k[0])/Delta)+1\n",
    "    # W3 is the Piecewise Cubic Spline (fourth-order) interpolation function\n",
    "    x = np.fabs(np.array([k / Delta - (n - 1) for n in range(n_max)]))\n",
    "    W3 = np.where(x <= 1, 4.0 - 6.0 * x**2 + 3.0 * x**3, np.where(x <= 2, (2.0 - x) ** 3, 0.0)) / 6.0\n",
    "    # Store the W3 values in the broadband array\n",
    "    poly_bb = np.zeros((n_max * npoles, npoles, len(k)))\n",
    "    for i, pole in enumerate(range(npoles)):\n",
    "        poly_bb[n_max * i : n_max * (i + 1), pole] = W3\n",
    "    return n_max, poly_bb\n",
    "            \n",
    "def add_bb(pkpoles,coeffs,bb,n_max,npoles):\n",
    "    '''\n",
    "    adds the broadband spline to the Pk multipoles\n",
    "    '''\n",
    "    pkmuls = copy(pkpoles)\n",
    "    count = 0\n",
    "    for j,pole in enumerate(range(npoles)):\n",
    "        for n,ip in enumerate(range(n_max)):\n",
    "            if n_max == 3 and j == 1:\n",
    "                count = 1\n",
    "            else:\n",
    "                count = 0\n",
    "            pkmuls[j] += coeffs[npoles*j+n+count]*bb[npoles*j+n+count,pole,:]*pkpoles[0].unit\n",
    "    return pkmuls\n",
    "\n",
    "def Tsys(zc):\n",
    "    '''\n",
    "    Returns the effective system temperature as function of z\n",
    "    '''\n",
    "    nuObs = np.array([5.800000000000000000e+02,6.000000000000000000e+02, 6.500000000000000000e+02, 7.000000000000000000e+02, \n",
    "                      7.500000000000000000e+02, 8.000000000000000000e+02, 8.500000000000000000e+02, 9.000000000000000000e+02, \n",
    "                       9.500000000000000000e+02, 1.000000000000000000e+03])\n",
    "    Tsys= np.array([3.145097253000000137e+01, 3.030244111000000018e+01, 2.793684247999999926e+01, 2.610862067000000053e+01, \n",
    "                   2.465761523999999838e+01, 2.347801079999999985e+01, 2.249790518000000006e+01, 2.166722859000000057e+01, \n",
    "                   2.095035455000000013e+01, 2.032144411000000161e+01])\n",
    "\n",
    "    nuHI = nu_from_lambda(21*u.cm)\n",
    "    nuHI_Obs = nuHI/(1+zc)\n",
    "\n",
    "    fsys = 0.72\n",
    "    \n",
    "    Tsys_nu = interp1d(nuObs,Tsys)(nuHI_Obs)*u.K*fsys\n",
    "    return Tsys_nu"
   ]
  },
  {
   "cell_type": "markdown",
   "id": "39a69292-1a49-4165-9647-15a4349fca97",
   "metadata": {},
   "source": [
    "Dummy call"
   ]
  },
  {
   "cell_type": "code",
   "execution_count": 5,
   "id": "efa1afa9-87c8-4f4e-bb40-e2b7ca6299b2",
   "metadata": {},
   "outputs": [],
   "source": [
    "cosmodict={\"h\":0.6774,\n",
    "           \"Omegam\":0.31,\n",
    "           \"Omegab\":0.05,\n",
    "           \"sigma8\":0.82,\n",
    "           \"mnu\":0.06,\n",
    "           \"ns\":0.967}"
   ]
  },
  {
   "cell_type": "code",
   "execution_count": 6,
   "id": "c6855f9b-1c56-44cd-a094-1d061450bd4e",
   "metadata": {},
   "outputs": [
    {
     "name": "stdout",
     "output_type": "stream",
     "text": [
      "#--------------------------------------------------#\n",
      "\n",
      "  SSSSS   SSSSS  L       i            PPPP   y    y \n",
      " S     S S     S L            m   m   P    P y   y  \n",
      " S       S       L     iii   m m m m  P    P  y y   \n",
      "  SSSSS   SSSSS  L       i   m  m  m  PPPP     y    \n",
      "       S       S L       i   m     m  P        y    \n",
      " S     S S     S L       i   m     m  P       y     \n",
      "  SSSSS   SSSSS  LLLLL iiiii m     m  P      y      \n",
      "\n",
      "#--------------------------------------------------#\n"
     ]
    }
   ],
   "source": [
    "settings = {\"code\":\"class\",\"TracerPowerSpectrum\":\"clustering\",\"QNLpowerspectrum\":False}\n",
    "\n",
    "dummy = sslimpy.sslimpy(settings_dict=settings,\n",
    "                           cosmopars=cosmodict)\n",
    "M = cosmo_comp(cosmopars=cosmodict)"
   ]
  },
  {
   "cell_type": "code",
   "execution_count": 7,
   "id": "2c8cac59-9980-4161-aa67-670cec7cd4e2",
   "metadata": {},
   "outputs": [],
   "source": [
    "# set redshift and quantites for MeerKLASS\n",
    "zc = 0.61\n",
    "dz = 0.1\n",
    "THI = THI_mean(zc)\n",
    "bHI = bHI_mean(zc)\n",
    "s8 = M.sigma8_of_z(zc)\n",
    "Tbs8 = THI*bHI*s8\n",
    "f = M.growth_rate(0.08/u.Mpc,zc,'clustering')\n",
    "D = 13.5*u.m #Diameter of dish\n",
    "beam = get_beam(zc,D)\n",
    "npoles = 2\n",
    "T_sys = Tsys(zc)\n",
    "Omega_field = 7500*u.deg**2\n",
    "beta = f/bHI\n",
    "\n",
    "#derived from survey\n",
    "V = get_volume(M,Omega_field,zc,dz)\n",
    "kvec = get_kvec(V)\n",
    "mu = np.linspace(-1,1,128)\n",
    "nmax, bb = prep_broadband(kvec,M,npoles=npoles)\n",
    "\n",
    "nuHI = nu_from_lambda(21*u.cm).to(u.GHz)\n",
    "nuObs = nuHI/(1+zc)\n",
    "Delta_nu = nuHI/(1+zc-dz) - nuHI/(1+zc+dz)"
   ]
  },
  {
   "cell_type": "markdown",
   "id": "e52321bf-de11-4452-9067-74ab88aca516",
   "metadata": {},
   "source": [
    "Now that we got everything, do the actual run"
   ]
  },
  {
   "cell_type": "code",
   "execution_count": 8,
   "id": "42408424-c14f-46f3-857e-4454c5074690",
   "metadata": {},
   "outputs": [],
   "source": [
    "cosmodict={\"h\":0.6774,\n",
    "           \"Omegam\":0.31,\n",
    "           \"Omegab\":0.05,\n",
    "           \"sigma8\":0.82,\n",
    "           \"mnu\":0.06,\n",
    "           \"ns\":0.967}\n",
    "\n",
    "fidBAO_dict = {\n",
    "    \"alpha_par\": 1,\n",
    "    \"alpha_perp\": 1,\n",
    "    \"sigmap\": 7 * u.Mpc,\n",
    "    \"sigmav\": 5 * u.Mpc,\n",
    "    \"bmean\": bHI,\n",
    "    \"Tmean\": THI.to(u.K),\n",
    "    \"Pshot\": 0.*u.Mpc**3*u.K**2,\n",
    "    \"beta\":beta\n",
    "    }\n",
    "\n",
    "settings = {\"code\":\"class\",\n",
    "            \"do_RSD\" : True,\n",
    "            \"nonlinearRSD\" : True,\n",
    "            \"FoG_damp\" : \"ISTF_like\",\n",
    "            \"halo_model_PS\" : False,\n",
    "            \"Smooth_window\" :False,\n",
    "            \"Smooth_resolution\":True,\n",
    "            \"output\" : [\"Power spectrum\",\"Covariance\"],\n",
    "            \"TracerPowerSpectrum\":\"clustering\",\n",
    "            \"kmin\": (kvec[0]-np.diff(kvec)[0]/2),\n",
    "            \"kmax\": (kvec[-1]+np.diff(kvec)[0]/2),\n",
    "            \"nk\": len(kvec),\n",
    "            \"QNLpowerspectrum\": True}\n",
    "\n",
    "settings2 = copy(settings)\n",
    "settings2[\"QNLpowerspectrum\"] = False\n",
    "\n",
    "obspars = {'Tsys_NEFD' : T_sys,\n",
    "  'Nfeeds' : 1,\n",
    "  'beam_FWHM' : beam.to(u.arcmin),\n",
    "  'nu': nuHI,\n",
    "  'nuObs': nuObs,\n",
    "  'Delta_nu' : Delta_nu,\n",
    "  'dnu' : 0*u.MHz,\n",
    "  'tobs' : 1300*u.h,\n",
    "  'nD' : 60,\n",
    "  'Omega_field' : Omega_field,\n",
    "  'Nfield' : 1,\n",
    "  'N_FG_par' : 1,\n",
    "  'N_FG_perp' : 1,\n",
    "  'do_FG_wedge' : False,\n",
    "  'a_FG' : 0.,\n",
    "  'b_FG' : 0.}"
   ]
  },
  {
   "cell_type": "code",
   "execution_count": 9,
   "id": "f6ab8dde-f7b0-49db-a61a-629db8d37777",
   "metadata": {},
   "outputs": [
    {
     "name": "stdout",
     "output_type": "stream",
     "text": [
      "#--------------------------------------------------#\n",
      "\n",
      "  SSSSS   SSSSS  L       i            PPPP   y    y \n",
      " S     S S     S L            m   m   P    P y   y  \n",
      " S       S       L     iii   m m m m  P    P  y y   \n",
      "  SSSSS   SSSSS  L       i   m  m  m  PPPP     y    \n",
      "       S       S L       i   m     m  P        y    \n",
      " S     S S     S L       i   m     m  P       y     \n",
      "  SSSSS   SSSSS  LLLLL iiiii m     m  P      y      \n",
      "\n",
      "#--------------------------------------------------#\n"
     ]
    }
   ],
   "source": [
    "SSLIMPY = sslimpy.sslimpy(settings_dict=settings,\n",
    "                           cosmopars=cosmodict,\n",
    "                           BAOpars=fidBAO_dict,\n",
    "                         obspars_dict=obspars,\n",
    "                         astropars=dict())\n",
    "\n"
   ]
  },
  {
   "cell_type": "code",
   "execution_count": 10,
   "id": "9878e793-7b60-4244-83a4-fbc07950917e",
   "metadata": {},
   "outputs": [
    {
     "name": "stdout",
     "output_type": "stream",
     "text": [
      "Done!\n"
     ]
    }
   ],
   "source": [
    "Fiducial_output = SSLIMPY.compute(cosmopars=cosmodict,\n",
    "                                  astropars=dict(),\n",
    "                                  BAOpars=fidBAO_dict,\n",
    "                                  obspars=obspars,\n",
    "                                  output=[\"Power spectrum\",\n",
    "                                          \"Covariance\"])\n"
   ]
  },
  {
   "cell_type": "code",
   "execution_count": 11,
   "id": "89ae33bb-364c-4eca-8faf-64ccbadf370a",
   "metadata": {},
   "outputs": [],
   "source": [
    "# get the power spectrum multipoles and the k vector\n",
    "Ps_fid = Fiducial_output[\"Power spectrum\"]\n",
    "k = Ps_fid.k\n",
    "PfidMoments = (np.array([Ps_fid.Pk_0bs, Ps_fid.Pk_2bs]) * Ps_fid.Pk_0bs.unit).to(u.mK**2*u.Mpc**3)"
   ]
  },
  {
   "cell_type": "code",
   "execution_count": 12,
   "id": "2985395b-ced0-436b-8ad8-9419bf48ffd9",
   "metadata": {},
   "outputs": [
    {
     "name": "stdout",
     "output_type": "stream",
     "text": [
      "(2, 23, 1)\n",
      "[npol,nk,nz]\n"
     ]
    }
   ],
   "source": [
    "print(PfidMoments.shape)\n",
    "print('[npol,nk,nz]')"
   ]
  },
  {
   "cell_type": "code",
   "execution_count": 13,
   "id": "29dfaf91-8317-4755-a36e-d07ae3d4956d",
   "metadata": {},
   "outputs": [
    {
     "data": {
      "text/plain": [
       "[<matplotlib.lines.Line2D at 0x788c0a2dbdc0>]"
      ]
     },
     "execution_count": 13,
     "metadata": {},
     "output_type": "execute_result"
    },
    {
     "data": {
      "image/png": "[encoded data removed]",
      "text/plain": [
       "<Figure size 640x480 with 1 Axes>"
      ]
     },
     "metadata": {},
     "output_type": "display_data"
    }
   ],
   "source": [
    "plt.semilogx(k,k*PfidMoments[0,:,0])\n",
    "plt.semilogx(k,k*PfidMoments[1,:,0])\n"
   ]
  },
  {
   "cell_type": "markdown",
   "id": "e65af424-5f4f-411f-a6d2-f06c43d9bf5e",
   "metadata": {},
   "source": [
    "### Derivatives"
   ]
  },
  {
   "cell_type": "markdown",
   "id": "13ce9b0e-6a0b-4e37-ba73-c05706b80e7c",
   "metadata": {},
   "source": [
    "Remember, the free parameters are:\n",
    "\n",
    "$$\\left\\lbrace \\alpha_\\parallel,\\,\\alpha_\\perp,\\, B,\\, \\beta,\\, \\sigma_v,\\, \\sigma_p,\\, \\pmb{a},\\, \\mathcal{B} \\right\\rbrace\\,,$$"
   ]
  },
  {
   "cell_type": "code",
   "execution_count": 14,
   "id": "c6a986ab-c280-4701-9ebb-cab2d460db24",
   "metadata": {},
   "outputs": [],
   "source": [
    "derivative_dic = dict()\n",
    "eps = 1e-2\n",
    "BAOpars = [\"alpha_par\", \"alpha_perp\",\"beta\",\"sigmap\",\"sigmav\"]\n",
    "obsparschange = [\"beam_FWHM\"]\n",
    "otherpars = [\"B\"]\n"
   ]
  },
  {
   "cell_type": "code",
   "execution_count": 15,
   "id": "7cf052d5-8812-4352-bf55-607a5f3b57b8",
   "metadata": {},
   "outputs": [
    {
     "name": "stdout",
     "output_type": "stream",
     "text": [
      "Done!\n",
      "Done!\n",
      "Done!\n",
      "Done!\n",
      "Done!\n",
      "Done!\n",
      "Done!\n",
      "Done!\n",
      "Done!\n",
      "Done!\n"
     ]
    }
   ],
   "source": [
    "\n",
    "for param in BAOpars:\n",
    "    BAO_var_dict = copy(fidBAO_dict)\n",
    "    \n",
    "    # do step\n",
    "    BAO_var_dict[param] = fidBAO_dict[param] * (1 + eps)\n",
    "    # compute power spectrum\n",
    "    Pobs = SSLIMPY.compute(cosmopars=cosmodict,\n",
    "                           astropars=dict(),\n",
    "                           BAOpars=BAO_var_dict,\n",
    "                           obspars=obspars\n",
    "                           )[\"Power spectrum\"]\n",
    "    dPp = np.array([Pobs.Pk_0bs, Pobs.Pk_2bs]) * Pobs.Pk_0bs.unit\n",
    "\n",
    "    BAO_var_dict[param] = fidBAO_dict[param] * (1 - eps)\n",
    "    Pobs = SSLIMPY.compute(cosmopars=cosmodict,\n",
    "                           astropars=dict(),\n",
    "                           BAOpars=BAO_var_dict,\n",
    "                           obspars=obspars,\n",
    "                           )[\"Power spectrum\"]\n",
    "    dPm = np.array([Pobs.Pk_0bs, Pobs.Pk_2bs]) * Pobs.Pk_0bs.unit\n",
    "\n",
    "    derivative_dic[param] = ((dPp - dPm) / (2 * eps * fidBAO_dict[param])).value"
   ]
  },
  {
   "cell_type": "code",
   "execution_count": 16,
   "id": "1641b6da-af25-4964-8d79-bf1172ccf8f9",
   "metadata": {},
   "outputs": [],
   "source": [
    "B = (bHI*THI*cosmodict[\"sigma8\"])**2\n",
    "derivative_dic[\"B\"] =  (PfidMoments/B).value\n",
    "\n",
    "\n"
   ]
  },
  {
   "cell_type": "code",
   "execution_count": 17,
   "id": "6c33c684-6f93-44ec-85f5-13fe6ffdef6d",
   "metadata": {},
   "outputs": [
    {
     "name": "stdout",
     "output_type": "stream",
     "text": [
      "Done!\n",
      "Done!\n"
     ]
    }
   ],
   "source": [
    "\n",
    "for param in obsparschange:\n",
    "    obs_var_dict = copy(obspars)\n",
    "    \n",
    "    # do step\n",
    "    obs_var_dict[param] = obspars[param] * (1 + eps)\n",
    "    # compute power spectrum\n",
    "    Pobs = SSLIMPY.compute(cosmopars=cosmodict,\n",
    "                           astropars=dict(),\n",
    "                           BAOpars=fidBAO_dict,\n",
    "                           obspars=obs_var_dict\n",
    "                           )[\"Power spectrum\"]\n",
    "    dPp = np.array([Pobs.Pk_0bs, Pobs.Pk_2bs]) * Pobs.Pk_0bs.unit\n",
    "\n",
    "    obs_var_dict[param] = obspars[param] * (1 - eps)\n",
    "    Pobs = SSLIMPY.compute(cosmopars=cosmodict,\n",
    "                           astropars=dict(),\n",
    "                           BAOpars=fidBAO_dict,\n",
    "                           obspars=obs_var_dict,\n",
    "                           )[\"Power spectrum\"]\n",
    "    dPm = np.array([Pobs.Pk_0bs, Pobs.Pk_2bs]) * Pobs.Pk_0bs.unit\n",
    "\n",
    "    derivative_dic[param] = ((dPp - dPm) / (2 * eps * obspars[param])).value"
   ]
  },
  {
   "cell_type": "code",
   "execution_count": 18,
   "id": "6cebc58c-6ad2-42de-b4e4-a908b6ab4b88",
   "metadata": {},
   "outputs": [],
   "source": [
    "#Broadband\n",
    "coeff_set = [0]*nmax*npoles\n",
    "bb_pars = ['a'+str(i+1) for i in range(len(coeff_set))]\n",
    "pkpoles = [Pobs.Pk_0bs[:,0],Pobs.Pk_2bs[:,0]]\n",
    "for p in range(len(coeff_set)):\n",
    "    coeff_set[p] = eps\n",
    "    pk0_plus, pk2_plus = add_bb(pkpoles,coeff_set,bb,nmax,npoles)\n",
    "    dPp = np.array([pk0_plus, pk2_plus])\n",
    "\n",
    "    coeff_set[p] = -eps\n",
    "    pk0_minus, pk2_minus = add_bb(pkpoles,coeff_set,bb,nmax,npoles)\n",
    "    dPm = np.array([pk0_minus, pk2_minus])\n",
    "\n",
    "    derivative_dic[bb_pars[p]] = (dPp - dPm) / (2 * eps)"
   ]
  },
  {
   "cell_type": "markdown",
   "id": "6a2961d8-27b5-47e3-8fd7-1bbadaa5e9e4",
   "metadata": {},
   "source": [
    "Check the derivatives we have done!"
   ]
  },
  {
   "cell_type": "code",
   "execution_count": 19,
   "id": "b49b5e5c-008f-48f3-b243-52b2a5cfa16f",
   "metadata": {},
   "outputs": [
    {
     "name": "stdout",
     "output_type": "stream",
     "text": [
      "dict_keys(['alpha_par', 'alpha_perp', 'beta', 'sigmap', 'sigmav', 'B', 'beam_FWHM', 'a1', 'a2', 'a3', 'a4', 'a5', 'a6'])\n"
     ]
    }
   ],
   "source": [
    "print(derivative_dic.keys())"
   ]
  },
  {
   "cell_type": "markdown",
   "id": "68682652-2103-46cf-ba41-07067078cecd",
   "metadata": {},
   "source": [
    "### Fisher"
   ]
  },
  {
   "cell_type": "code",
   "execution_count": 20,
   "id": "f706d1b4-42fa-445e-a90d-41c68bfd66bd",
   "metadata": {},
   "outputs": [
    {
     "name": "stdout",
     "output_type": "stream",
     "text": [
      "['alpha_par' 'alpha_perp' 'beta' 'sigmap' 'sigmav' 'B' 'beam_FWHM' 'a1'\n",
      " 'a2' 'a3' 'a4' 'a5' 'a6']\n",
      "['alpha_par' 'alpha_perp' 'beta' 'sigmap' 'sigmav' 'B' 'beam_FWHM']\n"
     ]
    }
   ],
   "source": [
    "allpars = np.array([*BAOpars, *otherpars, *obsparschange, *bb_pars])\n",
    "no_bbpars = np.array([*BAOpars, *otherpars, *obsparschange])\n",
    "print(allpars)\n",
    "print(no_bbpars)"
   ]
  },
  {
   "cell_type": "markdown",
   "id": "f5d738ca-3acd-47c7-99be-63c52d32f7e0",
   "metadata": {},
   "source": [
    "Get the covariance. By default, built as [nk,npol,npol,nz] "
   ]
  },
  {
   "cell_type": "code",
   "execution_count": 21,
   "id": "6cc9cdee-79c5-468a-8fce-76e5805f790c",
   "metadata": {},
   "outputs": [],
   "source": [
    "npol = 2\n",
    "nk = len(k)\n",
    "nz = 1"
   ]
  },
  {
   "cell_type": "code",
   "execution_count": 22,
   "id": "b8799ce9-2d45-4ff0-b11d-0c3200caa76a",
   "metadata": {},
   "outputs": [],
   "source": [
    "Cov = Fiducial_output[\"Covariance\"].gaussian_cov()\n",
    "invCov = np.empty((nk,npol,npol,nz), dtype=u.Quantity)\n",
    "z = Pobs.z\n",
    "for iz in range(len(z)):\n",
    "    invCov[:,:,:,iz] = np.linalg.inv(Cov[:,:npol,:npol,iz])\n",
    "invCov = invCov #/Cov.unit"
   ]
  },
  {
   "cell_type": "markdown",
   "id": "0995d740-459b-42fd-85c6-d4762de996d1",
   "metadata": {},
   "source": [
    "Get the Fisher matrix with all parameters"
   ]
  },
  {
   "cell_type": "code",
   "execution_count": 23,
   "id": "f9f98653-20cc-482d-a62e-c9959e47caa9",
   "metadata": {},
   "outputs": [],
   "source": [
    "Fisher_all = np.empty((*allpars.shape,*allpars.shape))\n",
    "for i, p1 in enumerate(allpars):\n",
    "    for j, p2 in enumerate(allpars):\n",
    "        # The index for k is k, ell is i, ell' is j\n",
    "        # Covaraiance has indixes k, i, j\n",
    "        # The derives have indixes i/j, k\n",
    "        # At the end every index is summed over\n",
    "        Fij = np.sum(\n",
    "            np.einsum(\n",
    "                \"ik...,kij...,jk...\",\n",
    "                derivative_dic[p1], \n",
    "                invCov,\n",
    "                derivative_dic[p2],\n",
    "            )\n",
    "        )\n",
    "        Fisher_all[i,j] = Fij"
   ]
  },
  {
   "cell_type": "markdown",
   "id": "77ceb8a9-6a10-4a7c-b073-c8cc89957c7b",
   "metadata": {},
   "source": [
    "Just to increase clarity, get a different one without the broadband parameters"
   ]
  },
  {
   "cell_type": "code",
   "execution_count": 24,
   "id": "d30f07cb-3782-46c4-9e5b-0aaf302912e5",
   "metadata": {},
   "outputs": [],
   "source": [
    "Fisher_nobb = np.empty((*no_bbpars.shape,*no_bbpars.shape))\n",
    "for i, p1 in enumerate(no_bbpars):\n",
    "    for j, p2 in enumerate(no_bbpars):\n",
    "        # The index for k is k, ell is i, ell' is j\n",
    "        # Covaraiance has indixes k, i, j\n",
    "        # The derives have indixes i/j, k\n",
    "        # At the end every index is summed over\n",
    "        Fij = np.sum(\n",
    "            np.einsum(\n",
    "                \"ik...,kij...,jk...\",\n",
    "                derivative_dic[p1], \n",
    "                invCov,\n",
    "                derivative_dic[p2],\n",
    "            )\n",
    "        )\n",
    "        Fisher_nobb[i,j] = Fij"
   ]
  },
  {
   "cell_type": "markdown",
   "id": "511f1ff4-80e2-4bea-9741-122bdc0db433",
   "metadata": {},
   "source": [
    "#### Do the same for the case in which we're not considering the bulk nonlinear suppression of BAO and without broadband marginalization"
   ]
  },
  {
   "cell_type": "code",
   "execution_count": 25,
   "id": "43569ac7-8c74-42f6-b4cb-a81abccbc791",
   "metadata": {},
   "outputs": [
    {
     "name": "stdout",
     "output_type": "stream",
     "text": [
      "#--------------------------------------------------#\n",
      "\n",
      "  SSSSS   SSSSS  L       i            PPPP   y    y \n",
      " S     S S     S L            m   m   P    P y   y  \n",
      " S       S       L     iii   m m m m  P    P  y y   \n",
      "  SSSSS   SSSSS  L       i   m  m  m  PPPP     y    \n",
      "       S       S L       i   m     m  P        y    \n",
      " S     S S     S L       i   m     m  P       y     \n",
      "  SSSSS   SSSSS  LLLLL iiiii m     m  P      y      \n",
      "\n",
      "#--------------------------------------------------#\n",
      "Done!\n"
     ]
    }
   ],
   "source": [
    "SSLIMPY_linear = sslimpy.sslimpy(settings_dict=settings2,\n",
    "                           cosmopars=cosmodict,\n",
    "                           BAOpars=fidBAO_dict,\n",
    "                         obspars_dict=obspars,\n",
    "                         astropars=dict())\n",
    "\n",
    "Linear_output = SSLIMPY_linear.compute(cosmopars=cosmodict,\n",
    "                                  astropars=dict(),\n",
    "                                  BAOpars=fidBAO_dict,\n",
    "                                  obspars=obspars,\n",
    "                                  output=[\"Power spectrum\",\n",
    "                                          \"Covariance\"])\n",
    "# get the power spectrum multipoles and the k vector\n",
    "Ps_linear = Linear_output[\"Power spectrum\"]\n",
    "k = Ps_linear.k\n",
    "PlinMoments = (np.array([Ps_linear.Pk_0bs, Ps_linear.Pk_2bs]) * Ps_linear.Pk_0bs.unit).to(u.mK**2*u.Mpc**3)"
   ]
  },
  {
   "cell_type": "code",
   "execution_count": 26,
   "id": "4294f78a-3540-4350-88cf-ed4438f93abe",
   "metadata": {},
   "outputs": [
    {
     "data": {
      "text/plain": [
       "[<matplotlib.lines.Line2D at 0x788c0a296ee0>]"
      ]
     },
     "execution_count": 26,
     "metadata": {},
     "output_type": "execute_result"
    },
    {
     "data": {
      "image/png": "[encoded data removed]",
      "text/plain": [
       "<Figure size 640x480 with 1 Axes>"
      ]
     },
     "metadata": {},
     "output_type": "display_data"
    }
   ],
   "source": [
    "plt.semilogx(k,k*PfidMoments[0,:,0])\n",
    "plt.semilogx(k,k*PlinMoments[0,:,0],c=colors[0],ls='--')\n",
    "plt.semilogx(k,k*PfidMoments[1,:,0])\n",
    "plt.semilogx(k,k*PlinMoments[1,:,0],c=colors[1],ls='--')\n",
    "#plt.semilogx(k,k*SSLIMPY.fiducialcosmo.matpow(k,0.61))"
   ]
  },
  {
   "cell_type": "code",
   "execution_count": 27,
   "id": "492878d0-2c10-413f-8fcb-1797fb3f5f8d",
   "metadata": {},
   "outputs": [
    {
     "data": {
      "image/png": "[encoded data removed]",
      "text/plain": [
       "<Figure size 640x480 with 1 Axes>"
      ]
     },
     "metadata": {},
     "output_type": "display_data"
    }
   ],
   "source": [
    "plt.semilogx(k,PlinMoments[0,:,0]/PfidMoments[0,:,0])\n",
    "plt.semilogx(k,PlinMoments[1,:,0]/PfidMoments[1,:,0])\n",
    "plt.grid()\n",
    "#plt.semilogx(k,k*SSLIMPY.fiducialcosmo.matpow(k,0.61))"
   ]
  },
  {
   "cell_type": "code",
   "execution_count": 28,
   "id": "c62b906d-5060-4996-a395-71d79e7414b8",
   "metadata": {},
   "outputs": [],
   "source": [
    "lin_derivative_dic = dict()\n",
    "eps = 1e-2\n",
    "BAOpars = [\"alpha_par\", \"alpha_perp\",\"beta\",\"sigmap\"]\n",
    "obsparschange = [\"beam_FWHM\"]\n",
    "otherpars = [\"B\"]\n"
   ]
  },
  {
   "cell_type": "code",
   "execution_count": 29,
   "id": "20a405e9-18f6-40f5-8750-90928f4e3896",
   "metadata": {},
   "outputs": [
    {
     "name": "stdout",
     "output_type": "stream",
     "text": [
      "Done!\n",
      "Done!\n",
      "Done!\n",
      "Done!\n",
      "Done!\n",
      "Done!\n",
      "Done!\n",
      "Done!\n"
     ]
    }
   ],
   "source": [
    "\n",
    "for param in BAOpars:\n",
    "    BAO_var_dict = copy(fidBAO_dict)\n",
    "    \n",
    "    # do step\n",
    "    BAO_var_dict[param] = fidBAO_dict[param] * (1 + eps)\n",
    "    # compute power spectrum\n",
    "    Pobs = SSLIMPY_linear.compute(cosmopars=cosmodict,\n",
    "                           astropars=dict(),\n",
    "                           BAOpars=BAO_var_dict,\n",
    "                           obspars=obspars\n",
    "                           )[\"Power spectrum\"]\n",
    "    dPp = np.array([Pobs.Pk_0bs, Pobs.Pk_2bs]) * Pobs.Pk_0bs.unit\n",
    "\n",
    "    BAO_var_dict[param] = fidBAO_dict[param] * (1 - eps)\n",
    "    Pobs = SSLIMPY_linear.compute(cosmopars=cosmodict,\n",
    "                           astropars=dict(),\n",
    "                           BAOpars=BAO_var_dict,\n",
    "                           obspars=obspars,\n",
    "                           )[\"Power spectrum\"]\n",
    "    dPm = np.array([Pobs.Pk_0bs, Pobs.Pk_2bs]) * Pobs.Pk_0bs.unit\n",
    "\n",
    "    lin_derivative_dic[param] = ((dPp - dPm) / (2 * eps * fidBAO_dict[param])).value"
   ]
  },
  {
   "cell_type": "code",
   "execution_count": 30,
   "id": "335b83c2-47aa-476a-9009-d268cce18719",
   "metadata": {},
   "outputs": [],
   "source": [
    "B = (bHI*THI*cosmodict[\"sigma8\"])**2\n",
    "lin_derivative_dic[\"B\"] =  (PlinMoments/B).value\n",
    "\n",
    "\n"
   ]
  },
  {
   "cell_type": "code",
   "execution_count": 31,
   "id": "99f3bf27-60c0-4509-919d-185af9ce7763",
   "metadata": {},
   "outputs": [
    {
     "name": "stdout",
     "output_type": "stream",
     "text": [
      "Done!\n",
      "Done!\n"
     ]
    }
   ],
   "source": [
    "\n",
    "for param in obsparschange:\n",
    "    obs_var_dict = copy(obspars)\n",
    "    \n",
    "    # do step\n",
    "    obs_var_dict[param] = obspars[param] * (1 + eps)\n",
    "    # compute power spectrum\n",
    "    Pobs = SSLIMPY_linear.compute(cosmopars=cosmodict,\n",
    "                           astropars=dict(),\n",
    "                           BAOpars=fidBAO_dict,\n",
    "                           obspars=obs_var_dict\n",
    "                           )[\"Power spectrum\"]\n",
    "    dPp = np.array([Pobs.Pk_0bs, Pobs.Pk_2bs]) * Pobs.Pk_0bs.unit\n",
    "\n",
    "    obs_var_dict[param] = obspars[param] * (1 - eps)\n",
    "    Pobs = SSLIMPY_linear.compute(cosmopars=cosmodict,\n",
    "                           astropars=dict(),\n",
    "                           BAOpars=fidBAO_dict,\n",
    "                           obspars=obs_var_dict,\n",
    "                           )[\"Power spectrum\"]\n",
    "    dPm = np.array([Pobs.Pk_0bs, Pobs.Pk_2bs]) * Pobs.Pk_0bs.unit\n",
    "\n",
    "    lin_derivative_dic[param] = ((dPp - dPm) / (2 * eps * obspars[param])).value"
   ]
  },
  {
   "cell_type": "code",
   "execution_count": 32,
   "id": "1100f6d5-bc3d-44fd-a5fc-428d8ad029b6",
   "metadata": {},
   "outputs": [
    {
     "name": "stdout",
     "output_type": "stream",
     "text": [
      "['alpha_par' 'alpha_perp' 'beta' 'sigmap' 'B' 'beam_FWHM']\n"
     ]
    }
   ],
   "source": [
    "no_bbpars = np.array([*BAOpars, *otherpars, *obsparschange])\n",
    "print(no_bbpars)"
   ]
  },
  {
   "cell_type": "code",
   "execution_count": 33,
   "id": "866590d6-ae82-461b-b6ba-5268ae99e493",
   "metadata": {},
   "outputs": [],
   "source": [
    "linCov = Linear_output[\"Covariance\"].gaussian_cov()\n",
    "lininvCov = np.empty((nk,npol,npol,nz), dtype=u.Quantity)\n",
    "z = Pobs.z\n",
    "for iz in range(len(z)):\n",
    "    lininvCov[:,:,:,iz] = np.linalg.inv(linCov[:,:npol,:npol,iz])\n",
    "lininvCov = lininvCov #/Cov.unit"
   ]
  },
  {
   "cell_type": "code",
   "execution_count": 34,
   "id": "3287a037-2827-4f49-898b-41b3b7a2bcaa",
   "metadata": {},
   "outputs": [],
   "source": [
    "linFisher_nobb = np.empty((*no_bbpars.shape,*no_bbpars.shape))\n",
    "for i, p1 in enumerate(no_bbpars):\n",
    "    for j, p2 in enumerate(no_bbpars):\n",
    "        # The index for k is k, ell is i, ell' is j\n",
    "        # Covaraiance has indixes k, i, j\n",
    "        # The derives have indixes i/j, k\n",
    "        # At the end every index is summed over\n",
    "        Fij = np.sum(\n",
    "            np.einsum(\n",
    "                \"ik...,kij...,jk...\",\n",
    "                lin_derivative_dic[p1], \n",
    "                lininvCov,\n",
    "                lin_derivative_dic[p2],\n",
    "            )\n",
    "        )\n",
    "        linFisher_nobb[i,j] = Fij"
   ]
  },
  {
   "cell_type": "markdown",
   "id": "aeb30e15-079e-49d5-bdfe-d57b55be34df",
   "metadata": {},
   "source": [
    "### Plot constraints"
   ]
  },
  {
   "cell_type": "markdown",
   "id": "9f76db23-27c7-4533-860f-2376e01eb71a",
   "metadata": {},
   "source": [
    "Marginalize over all parameters but $\\alpha_\\parallel$ and $\\alpha_\\perp$. Have another case also including $\\beta$"
   ]
  },
  {
   "cell_type": "code",
   "execution_count": 35,
   "id": "16cc70a8-0e63-438a-992d-21292bd98c13",
   "metadata": {},
   "outputs": [],
   "source": [
    "Covpar_all = np.linalg.inv(Fisher_all)\n",
    "Covpar_nobb = np.linalg.inv(Fisher_nobb)\n",
    "linCovpar_nobb = np.linalg.inv(linFisher_nobb)"
   ]
  },
  {
   "cell_type": "code",
   "execution_count": 44,
   "id": "43a0be29-174d-44c0-beed-17447bb4c22f",
   "metadata": {},
   "outputs": [
    {
     "data": {
      "image/png": "[encoded data removed]",
      "text/plain": [
       "<Figure size 700x700 with 4 Axes>"
      ]
     },
     "metadata": {},
     "output_type": "display_data"
    }
   ],
   "source": [
    "names = [r'$\\alpha_\\parallel$',r'$\\alpha_\\perp$',r'$\\beta$']\n",
    "NPAR = 3\n",
    "fiducial_set_vals = [1,1,beta]\n",
    "\n",
    "fig = plt.figure(figsize=(7,7))\n",
    "gs = gridspec.GridSpec(NPAR, NPAR,wspace=0,hspace=0,top=0.97,left=0.1,bottom=0.07,right=0.97)\n",
    "\n",
    "for i in range(NPAR-1)[::-1]:\n",
    "    for j in range(i,NPAR-1):\n",
    "        ax = plt.subplot(gs[j,i])\n",
    "        #ax.locator_params(nbins=4,tight=True)\n",
    "        center = np.array([fiducial_set_vals[i],fiducial_set_vals[j+1]])\n",
    "        plot_2d(Covpar_nobb,[i,j+1],center,ax,color1=colors[4],color2=colors[4],filled=True,TwoSigma=True,zorder=1,alpha=[.7,0.4])\n",
    "        plot_2d(Covpar_all,[i,j+1],center,ax,color1=colors[0],color2=colors[0],filled=True,TwoSigma=True,zorder=2,alpha=[.9,0.5])\n",
    "        plot_2d(linCovpar_nobb,[i,j+1],center,ax,color1=colors[1],color2=colors[1],filled=True,TwoSigma=True,zorder=3,alpha=[.9,0.5])\n",
    "\n",
    "        ax.scatter(center[0],center[1],marker='*',s=100,color='lime',edgecolors='k',zorder=10)\n",
    "        ax.grid()\n",
    "        if j+1 == NPAR-1:\n",
    "            ax.set_xlabel(names[i],fontsize=24)\n",
    "            ax.tick_params(axis='both',width=1,length=8,labelsize=20)\n",
    "        if i == 0:\n",
    "            ax.set_ylabel(names[j+1],fontsize=24)\n",
    "            ax.tick_params(axis='both',width=1,length=8,labelsize=20)\n",
    "            if j + 1 < NPAR-1:\n",
    "                ax.tick_params(axis='x',width=1,length=8,labelsize=0)\n",
    "        else:\n",
    "            ax.set_yticks([])\n",
    "\n",
    "ax = plt.subplot(gs[0,1])\n",
    "ax.axis('off')\n",
    "ax.set_xlim(-1,1)\n",
    "ax.set_ylim(-1,1)\n",
    "\n",
    "#ax = plt.subplot(gs[1,2])\n",
    "proxy = [plt.Rectangle((0,0),1,1,fc = colors[1],alpha=0.8),plt.Rectangle((0,0),1,1,fc = colors[4],alpha=1),plt.Rectangle((0,0),1,1,fc = colors[0],alpha=1)]\n",
    "ax.legend(proxy, [ r'Linear w/o Marg.',r'w/o Marg. over broadband',r'Marg. over broadband'],\n",
    "          handlelength=1.4,frameon=False, fontsize=15,\n",
    "         loc='center left')\n",
    "ax.axis('off')\n",
    "\n",
    "plt.show()"
   ]
  },
  {
   "cell_type": "code",
   "execution_count": 48,
   "id": "c57cb534-c606-4e30-988f-5e023ef7580d",
   "metadata": {},
   "outputs": [
    {
     "data": {
      "image/png": "[encoded data removed]",
      "text/plain": [
       "<Figure size 700x700 with 1 Axes>"
      ]
     },
     "metadata": {},
     "output_type": "display_data"
    }
   ],
   "source": [
    "names = [r'$\\alpha_\\parallel$',r'$\\alpha_\\perp$',r'$\\beta$']\n",
    "NPAR = 2\n",
    "fiducial_set_vals = [1,1,beta]\n",
    "\n",
    "fig = plt.figure(figsize=(7,7))\n",
    "gs = gridspec.GridSpec(NPAR, NPAR,wspace=0,hspace=0,top=0.97,left=0.1,bottom=0.07,right=0.97)\n",
    "\n",
    "for i in range(NPAR-1)[::-1]:\n",
    "    for j in range(i,NPAR-1):\n",
    "        ax = plt.subplot(gs[j,i])\n",
    "        #ax.locator_params(nbins=4,tight=True)\n",
    "        center = np.array([fiducial_set_vals[i],fiducial_set_vals[j+1]])\n",
    "        plot_2d(Covpar_nobb,[i,j+1],center,ax,color1=colors[4],color2=colors[4],filled=True,TwoSigma=True,zorder=1,alpha=[.7,0.4])\n",
    "        plot_2d(Covpar_all,[i,j+1],center,ax,color1=colors[0],color2=colors[0],filled=True,TwoSigma=True,zorder=2,alpha=[.9,0.5])\n",
    "        plot_2d(linCovpar_nobb,[i,j+1],center,ax,color1=colors[1],color2=colors[1],filled=True,TwoSigma=True,zorder=3,alpha=[.9,0.5])\n",
    "\n",
    "        ax.scatter(center[0],center[1],marker='*',s=100,color='lime',edgecolors='k',zorder=10)\n",
    "        ax.grid()\n",
    "        if j+1 == NPAR-1:\n",
    "            ax.set_xlabel(names[i],fontsize=24)\n",
    "            ax.tick_params(axis='both',width=1,length=8,labelsize=20)\n",
    "        if i == 0:\n",
    "            ax.set_ylabel(names[j+1],fontsize=24)\n",
    "            ax.tick_params(axis='both',width=1,length=8,labelsize=20)\n",
    "            if j + 1 < NPAR-1:\n",
    "                ax.tick_params(axis='x',width=1,length=8,labelsize=0)\n",
    "        else:\n",
    "            ax.set_yticks([])\n",
    "\n",
    "proxy = [plt.Rectangle((0,0),1,1,fc = colors[1],alpha=0.8),plt.Rectangle((0,0),1,1,fc = colors[4],alpha=1),plt.Rectangle((0,0),1,1,fc = colors[0],alpha=1)]\n",
    "ax.legend(proxy, [ r'Linear w/o Marg.',r'w/o Marg. over broadband',r'Marg. over broadband'],\n",
    "          handlelength=1.4,frameon=False, fontsize=12,\n",
    "         loc='upper left')\n",
    "ax.set_ylim(-2,5.2)\n",
    "\n",
    "plt.show()"
   ]
  },
  {
   "cell_type": "code",
   "execution_count": null,
   "id": "f30c998a-b6af-45b1-b7da-0bbf0ddab4b1",
   "metadata": {},
   "outputs": [],
   "source": []
  },
  {
   "cell_type": "code",
   "execution_count": null,
   "id": "52593e68-5015-42b1-a49c-30377adfd8ca",
   "metadata": {},
   "outputs": [],
   "source": []
  }
 ],
 "metadata": {
  "kernelspec": {
   "display_name": "Python 3 (ipykernel)",
   "language": "python",
   "name": "python3"
  },
  "language_info": {
   "codemirror_mode": {
    "name": "ipython",
    "version": 3
   },
   "file_extension": ".py",
   "mimetype": "text/x-python",
   "name": "python",
   "nbconvert_exporter": "python",
   "pygments_lexer": "ipython3",
   "version": "3.9.16"
  }
 },
 "nbformat": 4,
 "nbformat_minor": 5
}
