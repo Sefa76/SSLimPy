{
 "cells": [
  {
   "cell_type": "markdown",
   "id": "b043f00c-881f-40a9-a36a-53049c2da828",
   "metadata": {},
   "source": [
    "This is a notebook to do the forecast for MeerKLASS using the new version of the lim code. "
   ]
  },
  {
   "cell_type": "code",
   "execution_count": 1,
   "id": "a69dd3db-061d-43cd-89cf-2d2a2f33cdbd",
   "metadata": {},
   "outputs": [],
   "source": [
    "# import packages\n",
    "import SSLimPy.interface.sslimpy as sslimpy\n",
    "import numpy as np\n",
    "import astropy.units as u\n",
    "import astropy.constants as cu\n",
    "from copy import copy\n",
    "import matplotlib.pyplot as plt\n",
    "import seaborn as sns\n",
    "import astropy\n",
    "\n",
    "from scipy.special import legendre\n",
    "\n",
    "import matplotlib.gridspec as gridspec\n",
    "import matplotlib\n",
    "\n",
    "from scipy.interpolate import interp1d\n",
    "\n",
    "kitsune   = '#D9972F'\n",
    "seiheki   = '#478384'\n",
    "shuan     = '#740A00'\n",
    "aonibi      = '#324356'\n",
    "shion       = '#968ABD'\n",
    "\n",
    "matplotlib.rcParams['text.usetex'] = True\n",
    "plt.rcParams['text.latex.preamble'] = r\"\\usepackage{bm} \\usepackage{amsmath}\"\n",
    "colors = ['#9e1b1b','#6cb6c4',kitsune,'#a152d9','#0b3e45','#46b52b','#787575']\n",
    "plt.rcParams['axes.prop_cycle'] = plt.cycler(color=colors)\n",
    "plt.rcParams['lines.linewidth'] = 3.0\n",
    "plt.rcParams['axes.linewidth'] = 2.\n",
    "\n",
    "%matplotlib inline"
   ]
  },
  {
   "cell_type": "markdown",
   "id": "23650d67-ee41-4423-b0e4-0f8e03c08863",
   "metadata": {},
   "source": [
    "### Power spectrum model"
   ]
  },
  {
   "cell_type": "markdown",
   "id": "26a24525-0ff9-4aab-8925-9640a4076705",
   "metadata": {},
   "source": [
    "We are going to use the following model for the power spectrum. Considering only the auto power spectrum of HI 21cm, and assuming that we want to do a BAO analysis (and neglecting any shot noise), we have"
   ]
  },
  {
   "cell_type": "markdown",
   "id": "70440d39-2c0b-4467-98be-e0561abb16d5",
   "metadata": {},
   "source": [
    "$$P(k,\\mu) = B\\frac{1+\\beta\\mu^2}{1+(k\\mu\\sigma_{{\\rm pv}})^2}P_m(k)W(k)\\,,$$\n",
    "where $W(k)$ is the suppression by the beam, and $k$ and $\\mu$ are affected by the AP effect as\n",
    "$$ k^{\\rm true} = \\frac{k^{\\rm meas}}{\\alpha_\\perp}\\left[1+\\left(\\mu\\right)^2\\left((F_{\\rm proj}^{(i)})^{-2}-1\\right)\t\\right]^{1/2}\\,, $$\n",
    "$$ \\mu^{\\rm true} = \\frac{\\mu^{\\rm meas}}{F_{\\rm proj}^{(i)}}\\left[1+\\left(\\mu\\right)^2\\left((F_{\\rm proj}^{(i)})^{-2}-1\\right)\t\\right]^{-1/2},$$ \n",
    "with $F_{\\rm proj}=\\alpha_\\parallel/\\alpha_\\perp$ and we know\n",
    "$$\\alpha_\\parallel = \\frac{\\left(Hr_{\\rm d}\\right)^{\\rm fid}}{Hr_{\\rm d}}\\,,\\qquad \\alpha_\\perp = \\frac{D_M/r_{\\rm d}}{\\left(D_M/r_{\\rm d}\\right)^{\\rm fid}} \\,.$$ \n",
    "\n",
    "Note here that $P_m$ already includes the suppression on the BAO amplitude due to the nonlinear bulk velocities at large scales. \n",
    "\n",
    "The final data vector is the concatenation of the monopole and quadrupole of the power spectrum, which are computed as\n",
    "$$P_\\ell = \\frac{2\\ell+1}{2}\\int{\\rm d}\\mu P(k,\\mu) + \\mathcal{D}_\\ell(k)\\,,$$\n",
    "where $\\mathcal{D}_\\ell$ is a functional to marginalize over the broad (the smooth shape of the power spectrum). We follow the current DESI pipeline and use the implementation in the barry code which uses splines. More information can be found in the DESI BAO paper with galaxies and quasars. Note that this functional aims to marginalize over potential systematics (both theoretical and observations) affecting the smooth shape of the power spectrum, leaving the BAO feature as the only marker, which is a good thing because is the only one which is actually very robust. Therefore, we need a different functional for each multipole and patch on the sky (i.e., compute the Fisher matrix for each patch, marginalize over the coefficients of this functional, and combine all patches after that).\n",
    "\n",
    "For the covariance, we assume a Gaussian covariance. In this case, there are 4 blocks (for the auto and cross of each multipole). Each block is diagonal\n",
    "\n",
    "Assume we have a single patch and we consider only the auto for MeerKLASS. In such case, we have the following parameters:\n",
    "$$\\left\\lbrace \\alpha_\\parallel,\\,\\alpha_\\perp,\\, B,\\, \\beta,\\, \\sigma_v,\\, \\pmb{a},\\, \\mathcal{B} \\right\\rbrace\\,,$$ where $B$ is equivalent to the degenerate uncertainties of the product of $\\langle Tb\\rangle\\sigma_8$ and $\\pmb{a}$ are the coefficients of $\\mathcal{D}_\\ell$, and $\\mathcal{B}$ accounts for the beam."
   ]
  },
  {
   "cell_type": "markdown",
   "id": "2b2ae3a6-f99a-4108-acd8-5c624f2efbca",
   "metadata": {},
   "source": [
    "### Compute power spectrum at the fiducial value of the parameters"
   ]
  },
  {
   "cell_type": "markdown",
   "id": "4c785285-a08a-48fd-8d54-1aa34763c893",
   "metadata": {},
   "source": [
    "General tools"
   ]
  },
  {
   "cell_type": "code",
   "execution_count": 2,
   "id": "62028730-bde6-443d-b2b9-bc5a20419eb0",
   "metadata": {},
   "outputs": [],
   "source": [
    "# Tools\n",
    "\n",
    "def nu_from_lambda(lam):\n",
    "    return (cu.c/lam).to(u.MHz)\n",
    "\n",
    "def lambda_from_nu(nu):\n",
    "    return (cu.c/nu).to(u.um)\n",
    "\n",
    "def plot_2d(covmat,index,center,ax,color1,color2,TwoSigma=True,filled=True,factors=None,alpha=[1,1],zorder=1):\n",
    "    '''\n",
    "    Paints 2d ellipses representing forecast constraints from the Fisher matrix. \n",
    "    Uses https://arxiv.org/pdf/0906.4123.pdf\n",
    "    '''\n",
    "    #Define the 2x2 covariance matrix from the covariance matrix obtained from the inverse of the Fisher\n",
    "    matrix = covmat[np.ix_(index,index)]\n",
    "    clr = [color1,color2]\n",
    "    #Rescale the errors if needed\n",
    "    if factors: \n",
    "        s1 = matrix[0,0]**0.5*factors[0]\n",
    "        s2 = matrix[1,1]**0.5*factors[1]\n",
    "        s12 = matrix[0,1]*factors[0]*factors[1]\n",
    "        center[0] *= factors[0]\n",
    "        center[1] *= factors[1]\n",
    "    else:\n",
    "        s1 = matrix[0,0]**0.5\n",
    "        s2 = matrix[1,1]**0.5\n",
    "        s12 = matrix[0,1]\n",
    "        \n",
    "    rho = s12/s1/s2\n",
    "    #print 'correlation =', rho\n",
    "    #1sigma and 2sigma Delta chi2\n",
    "    Deltachi2 = 2.3\n",
    "    TwoSigmaDeltachi2 = 6.17\n",
    "    \n",
    "    xpar = np.linspace(-4*s1,4*s1,64)\n",
    "    ypar = np.linspace(-4*s2,4*s2,64)\n",
    "    xi_grid, yi_grid = np.meshgrid(xpar,ypar)\n",
    "    #Define contours (ellipses) corresponding to chi2\n",
    "    chi2 = ((xi_grid/s1)**2+(yi_grid/s2)**2-2.*rho*(xi_grid/s1)*(yi_grid/s2))/(1-rho**2)\n",
    "    \n",
    "    #Paint the contours\n",
    "    if filled:\n",
    "        if TwoSigma:\n",
    "            ax.contourf(xi_grid+center[0],yi_grid+center[1],chi2,[0,TwoSigmaDeltachi2],colors=clr[1],alpha=alpha[1],zorder=zorder)\n",
    "        ax.contourf(xi_grid+center[0],yi_grid+center[1],chi2,[0,Deltachi2],colors=clr[0],alpha=alpha[0],zorder=zorder)\n",
    "    if TwoSigma:\n",
    "        ax.contour(xi_grid+center[0],yi_grid+center[1],chi2,[TwoSigmaDeltachi2],colors=clr[1],linewidths=1,alpha=alpha[0],zorder=zorder)\n",
    "    ax.contour(xi_grid+center[0],yi_grid+center[1],chi2,[Deltachi2],colors=clr[0],linewidths=1,alpha=alpha[0],zorder=zorder)\n",
    "\n",
    "    ax.scatter(center[0],center[1],marker='o',color='k',s=20,zorder=6,edgecolors='k',lw=1)\n",
    "    return\n"
   ]
  },
  {
   "cell_type": "markdown",
   "id": "dff8b18e-8964-448f-87ce-aea64c8a72d9",
   "metadata": {},
   "source": [
    "MeerKLASS functions to get values"
   ]
  },
  {
   "cell_type": "code",
   "execution_count": 3,
   "id": "717bf9c7-b6bf-4340-917a-388bdf3c81d5",
   "metadata": {},
   "outputs": [],
   "source": [
    "def get_kvec(Vsurvey):\n",
    "    '''\n",
    "    Get the kvector for a given survey volume \n",
    "    '''\n",
    "    Vsurvey = Vsurvey.to(u.Mpc**3)\n",
    "    kmin = 2*np.pi/Vsurvey**(1/3)\n",
    "    kmax = 0.1/u.Mpc\n",
    "    kvec_edge = np.arange(kmin.value,kmax.value,kmin.value)*kmin.unit\n",
    "    kvec = 0.5*(kvec_edge[:-1]+kvec_edge[1:])\n",
    "    return kvec\n",
    "\n",
    "def get_volume(M,Omega_field,zc,dz):\n",
    "    '''\n",
    "    Get the probed volume as function of area, z_center (zc) and redshift bin width (dz)\n",
    "    '''\n",
    "    zmin,zmax = zc-0.5*dz,zc+0.5*dz\n",
    "    Lside = M.fiducialcosmo.comoving(zmax)-M.fiducialcosmo.comoving(zmin)\n",
    "    Stot = M.fiducialcosmo.comoving(zc)**2*(Omega_field/(1.*u.rad**2)).decompose()\n",
    "    return Lside*Stot\n",
    "\n",
    "def THI_mean(z):\n",
    "    '''\n",
    "    Mean T_HI temperature\n",
    "    '''\n",
    "    return (0.0559+0.2324*z-0.024*z**2)*u.mK\n",
    "\n",
    "def bHI_mean(z):\n",
    "    '''\n",
    "    mean HI bias\n",
    "    '''\n",
    "    return 0.67+0.18*z+0.05*z**2\n",
    "\n",
    "def get_beam(zc,D):\n",
    "    ''''\n",
    "    Get the beam width as function of diameter, redshift\n",
    "    '''\n",
    "    nuHI = nu_from_lambda(21*u.cm)\n",
    "    return (1.22*cu.c/nuHI*(1+zc)/D).decompose()*u.rad\n",
    "\n",
    "def B_beam(k,mu,zc,beam,M):\n",
    "    '''\n",
    "    Beam smoothing\n",
    "    '''\n",
    "    return np.exp(-k[:,None]**2*(1-mu[None,:]**2)*(M.fiducialcosmo.angdist(zc)*(1+zc)*beam/u.rad)**2/(16*np.log(2)))\n"
   ]
  },
  {
   "cell_type": "markdown",
   "id": "7321bb51-7ee9-4924-be06-fd5940524551",
   "metadata": {},
   "source": [
    "Broadband functional computations"
   ]
  },
  {
   "cell_type": "code",
   "execution_count": 4,
   "id": "9cb8ca47-526b-46b3-b390-2ba5ddd8b92c",
   "metadata": {},
   "outputs": [],
   "source": [
    "def prep_broadband(k,M,npoles=2):\n",
    "    '''\n",
    "    Prepares the spline for the broadband\n",
    "    '''\n",
    "    Delta = 2*np.pi/(147*u.Mpc)\n",
    "    n_max = int((k[-1]-k[0])/Delta)+1\n",
    "    # W3 is the Piecewise Cubic Spline (fourth-order) interpolation function\n",
    "    x = np.fabs(np.array([k / Delta - (n - 1) for n in range(n_max)]))\n",
    "    W3 = np.where(x <= 1, 4.0 - 6.0 * x**2 + 3.0 * x**3, np.where(x <= 2, (2.0 - x) ** 3, 0.0)) / 6.0\n",
    "    # Store the W3 values in the broadband array\n",
    "    poly_bb = np.zeros((n_max * npoles, npoles, len(k)))\n",
    "    for i, pole in enumerate(range(npoles)):\n",
    "        poly_bb[n_max * i : n_max * (i + 1), pole] = W3\n",
    "    return n_max, poly_bb\n",
    "            \n",
    "def add_bb(pkpoles,coeffs,bb,n_max,npoles):\n",
    "    '''\n",
    "    adds the broadband spline to the Pk multipoles\n",
    "    '''\n",
    "    pkmuls = copy.deepcopy(pkpoles)\n",
    "    count = 0\n",
    "    for j,pole in enumerate(range(npoles)):\n",
    "        for n,ip in enumerate(range(n_max)):\n",
    "            if n_max == 3 and j == 1:\n",
    "                count = 1\n",
    "            else:\n",
    "                count = 0\n",
    "            pkmuls[j] += coeffs[npoles*j+n+count]*bb[npoles*j+n+count,pole,:]*pkpoles[0].unit\n",
    "    return pkmuls\n",
    "\n",
    "def Tsys(zc):\n",
    "    '''\n",
    "    Returns the effective system temperature as function of z\n",
    "    '''\n",
    "    nuObs = np.array([5.800000000000000000e+02,6.000000000000000000e+02, 6.500000000000000000e+02, 7.000000000000000000e+02, \n",
    "                      7.500000000000000000e+02, 8.000000000000000000e+02, 8.500000000000000000e+02, 9.000000000000000000e+02, \n",
    "                       9.500000000000000000e+02, 1.000000000000000000e+03])\n",
    "    Tsys= np.array([3.145097253000000137e+01, 3.030244111000000018e+01, 2.793684247999999926e+01, 2.610862067000000053e+01, \n",
    "                   2.465761523999999838e+01, 2.347801079999999985e+01, 2.249790518000000006e+01, 2.166722859000000057e+01, \n",
    "                   2.095035455000000013e+01, 2.032144411000000161e+01])\n",
    "\n",
    "    nuHI = nu_from_lambda(21*u.cm)\n",
    "    nuHI_Obs = nuHI/(1+zc)\n",
    "\n",
    "    fsys = 0.72\n",
    "    \n",
    "    Tsys_nu = interp1d(nuObs,Tsys)(nuHI_Obs)*u.K*fsys\n",
    "    return Tsys_nu"
   ]
  },
  {
   "cell_type": "markdown",
   "id": "39a69292-1a49-4165-9647-15a4349fca97",
   "metadata": {},
   "source": [
    "Dummy call"
   ]
  },
  {
   "cell_type": "code",
   "execution_count": 5,
   "id": "efa1afa9-87c8-4f4e-bb40-e2b7ca6299b2",
   "metadata": {},
   "outputs": [],
   "source": [
    "cosmodict={\"h\":0.6774,\n",
    "           \"Omegam\":0.31,\n",
    "           \"Omegab\":0.05,\n",
    "           \"sigma8\":0.82,\n",
    "           \"mnu\":0.06,\n",
    "           \"ns\":0.967}"
   ]
  },
  {
   "cell_type": "code",
   "execution_count": 6,
   "id": "75d6bfb0-51d7-44ca-9103-a5b89842db46",
   "metadata": {},
   "outputs": [
    {
     "name": "stdout",
     "output_type": "stream",
     "text": [
      "#--------------------------------------------------#\n",
      "\n",
      "  SSSSS   SSSSS  L       i            PPPP   y    y \n",
      " S     S S     S L            m   m   P    P y   y  \n",
      " S       S       L     iii   m m m m  P    P  y y   \n",
      "  SSSSS   SSSSS  L       i   m  m  m  PPPP     y    \n",
      "       S       S L       i   m     m  P        y    \n",
      " S     S S     S L       i   m     m  P       y     \n",
      "  SSSSS   SSSSS  LLLLL iiiii m     m  P      y      \n",
      "\n",
      "#--------------------------------------------------#\n",
      "4.0 deg2\n",
      "Done!\n"
     ]
    }
   ],
   "source": [
    "settings = {\"code\":\"class\",\"TracerPowerSpectrum\":\"clustering\"}\n",
    "\n",
    "dummy = sslimpy.sslimpy(settings_dict=settings,\n",
    "                           cosmopars=cosmodict)\n",
    "dummy_output = dummy.compute(cosmopars=cosmodict,output=[\"Power spectrum\"],\n",
    "                              astropars=dict(),\n",
    "                              BAOpars = dict())\n",
    "\n"
   ]
  },
  {
   "cell_type": "code",
   "execution_count": 7,
   "id": "22232fcc-c8b8-4d91-9724-d97e7915a6ae",
   "metadata": {},
   "outputs": [],
   "source": [
    "M = dummy_output[\"Power spectrum\"]"
   ]
  },
  {
   "cell_type": "code",
   "execution_count": 8,
   "id": "2c8cac59-9980-4161-aa67-670cec7cd4e2",
   "metadata": {},
   "outputs": [],
   "source": [
    "# set redshift and quantites for MeerKLASS\n",
    "zc = 0.61\n",
    "dz = 0.1\n",
    "THI = THI_mean(zc)\n",
    "bHI = bHI_mean(zc)\n",
    "s8 = M.fiducialcosmo.sigma8_of_z(zc)\n",
    "Tbs8 = THI*bHI*s8\n",
    "f = M.fiducialcosmo.growth_rate(0.08/u.Mpc,zc,'clustering')\n",
    "D = 13.5*u.m #Diameter of dish\n",
    "beam = get_beam(zc,D)\n",
    "npoles = 2\n",
    "T_sys = Tsys(zc)\n",
    "Omega_field = 7500*u.deg**2\n",
    "\n",
    "#derived from survey\n",
    "V = get_volume(M,Omega_field,zc,dz)\n",
    "kvec = get_kvec(V)\n",
    "mu = np.linspace(-1,1,128)\n",
    "nmax, bb = prep_broadband(kvec,M,npoles=npoles)\n",
    "\n",
    "nuHI = nu_from_lambda(21*u.cm).to(u.GHz)\n",
    "nuObs = nuHI/(1+zc)\n",
    "Delta_nu = nuHI/(1+zc-dz) - nuHI/(1+zc+dz)"
   ]
  },
  {
   "cell_type": "markdown",
   "id": "e52321bf-de11-4452-9067-74ab88aca516",
   "metadata": {},
   "source": [
    "Now that we got everything, do the actual run"
   ]
  },
  {
   "cell_type": "code",
   "execution_count": 9,
   "id": "42408424-c14f-46f3-857e-4454c5074690",
   "metadata": {},
   "outputs": [],
   "source": [
    "cosmodict={\"h\":0.6774,\n",
    "           \"Omegam\":0.31,\n",
    "           \"Omegab\":0.05,\n",
    "           \"sigma8\":0.82,\n",
    "           \"mnu\":0.06,\n",
    "           \"ns\":0.967}\n",
    "\n",
    "fidBAO_dict = {\n",
    "    \"alpha_par\": 1,\n",
    "    \"alpha_perp\": 1,\n",
    "    \"sigmap\": 7 * u.Mpc,\n",
    "    \"bmean\": bHI,\n",
    "    \"Tmean\": THI.to(u.K),\n",
    "    \"Pshot\": 0.*M.Pk_0bs.unit\n",
    "    }\n",
    "\n",
    "settings = {\"code\":\"class\",\n",
    "            \"do_RSD\" : True,\n",
    "            \"nonlinearRSD\" : True,\n",
    "            \"FoG_damp\" : \"ISTF_like\",\n",
    "            \"halo_model_PS\" : True,\n",
    "            \"Smooth_window\" :False,\n",
    "            \"Smooth_resolution\":True,\n",
    "            \"output\" : [\"Power spectrum\"],\n",
    "            \"TracerPowerSpectrum\":\"clustering\",\n",
    "            \"kmin\": (kvec[0]-np.diff(kvec)[0])*1e-1,\n",
    "            \"kmax\": (kvec[-1]+np.diff(kvec)[0])*10,\n",
    "            \"nk\": len(kvec)*10,\n",
    "            }\n",
    "\n",
    "specs = {'Tsys_NEFD' : T_sys,\n",
    "  'Nfeeds' : 1,\n",
    "  'beam_FWHM' : beam.to(u.arcmin)*0.1,\n",
    "  'nu': nuHI,\n",
    "  'nuObs': nuObs,\n",
    "  'Delta_nu' : Delta_nu,\n",
    "  'dnu' : 0*u.MHz,\n",
    "  'tobs' : 1300*u.h,\n",
    "  'nD' : 60,\n",
    "  'Omega_field' : Omega_field,\n",
    "  'Nfield' : 1,\n",
    "  'N_FG_par' : 1,\n",
    "  'N_FG_perp' : 1,\n",
    "  'do_FG_wedge' : False,\n",
    "  'a_FG' : 0.,\n",
    "  'b_FG' : 0.}"
   ]
  },
  {
   "cell_type": "code",
   "execution_count": 10,
   "id": "f6ab8dde-f7b0-49db-a61a-629db8d37777",
   "metadata": {},
   "outputs": [
    {
     "name": "stdout",
     "output_type": "stream",
     "text": [
      "#--------------------------------------------------#\n",
      "\n",
      "  SSSSS   SSSSS  L       i            PPPP   y    y \n",
      " S     S S     S L            m   m   P    P y   y  \n",
      " S       S       L     iii   m m m m  P    P  y y   \n",
      "  SSSSS   SSSSS  L       i   m  m  m  PPPP     y    \n",
      "       S       S L       i   m     m  P        y    \n",
      " S     S S     S L       i   m     m  P       y     \n",
      "  SSSSS   SSSSS  LLLLL iiiii m     m  P      y      \n",
      "\n",
      "#--------------------------------------------------#\n"
     ]
    }
   ],
   "source": [
    "SSLIMPY = sslimpy.sslimpy(settings_dict=settings,\n",
    "                           cosmopars=cosmodict,\n",
    "                           BAOpars=fidBAO_dict,\n",
    "                         specifications=specs)"
   ]
  },
  {
   "cell_type": "code",
   "execution_count": 11,
   "id": "9878e793-7b60-4244-83a4-fbc07950917e",
   "metadata": {},
   "outputs": [
    {
     "name": "stdout",
     "output_type": "stream",
     "text": [
      "7500.0 deg2\n",
      "Done!\n"
     ]
    }
   ],
   "source": [
    "Fiducial_output = SSLIMPY.compute(cosmopars=cosmodict,\n",
    "                                  astropars=dict(),\n",
    "                                  BAOpars=fidBAO_dict,\n",
    "                                  output=[\"Power spectrum\",\n",
    "                                          \"Covariance\"])"
   ]
  },
  {
   "cell_type": "code",
   "execution_count": 12,
   "id": "89ae33bb-364c-4eca-8faf-64ccbadf370a",
   "metadata": {},
   "outputs": [],
   "source": [
    "# get the power spectrum multipoles and the k vector\n",
    "Ps_fid = Fiducial_output[\"Power spectrum\"]\n",
    "k = Ps_fid.k\n",
    "PfidMoments = np.array([Ps_fid.Pk_0bs, Ps_fid.Pk_2bs]).reshape(2*len(k)) * Ps_fid.Pk_0bs.unit"
   ]
  },
  {
   "cell_type": "code",
   "execution_count": 13,
   "id": "6a0b2bb1-6c11-4e81-bbe0-100153f3c507",
   "metadata": {},
   "outputs": [
    {
     "data": {
      "text/plain": [
       "(229, 1)"
      ]
     },
     "execution_count": 13,
     "metadata": {},
     "output_type": "execute_result"
    }
   ],
   "source": [
    "Ps_fid.Pk_0bs.shape"
   ]
  },
  {
   "cell_type": "code",
   "execution_count": 14,
   "id": "4859f93a-32c7-41c3-b60a-5a60b58a6515",
   "metadata": {},
   "outputs": [
    {
     "data": {
      "text/plain": [
       "(229, 127, 1)"
      ]
     },
     "execution_count": 14,
     "metadata": {},
     "output_type": "execute_result"
    }
   ],
   "source": [
    "Ps_fid.Pk_Obs.shape"
   ]
  },
  {
   "cell_type": "code",
   "execution_count": 15,
   "id": "d9118466-a971-4d01-a743-8a0173d9a11d",
   "metadata": {},
   "outputs": [
    {
     "data": {
      "text/plain": [
       "[<matplotlib.lines.Line2D at 0x7824884867f0>]"
      ]
     },
     "execution_count": 15,
     "metadata": {},
     "output_type": "execute_result"
    },
    {
     "data": {
      "image/png": "[encoded data removed]",
      "text/plain": [
       "<Figure size 640x480 with 1 Axes>"
      ]
     },
     "metadata": {},
     "output_type": "display_data"
    }
   ],
   "source": [
    "plt.loglog(k,Ps_fid.Pk_Obs[:,63,0])\n",
    "plt.loglog(k,Ps_fid.Pk_Obs[:,0,0])\n",
    "plt.loglog(k,SSLIMPY.fiducialcosmo.matpow(k,0.5))"
   ]
  },
  {
   "cell_type": "code",
   "execution_count": 16,
   "id": "4d47c4c6-3239-44bb-99d6-d20c1de4c319",
   "metadata": {},
   "outputs": [
    {
     "data": {
      "text/plain": [
       "[<matplotlib.lines.Line2D at 0x7824694dc040>]"
      ]
     },
     "execution_count": 16,
     "metadata": {},
     "output_type": "execute_result"
    },
    {
     "data": {
      "image/png": "[encoded data removed]",
      "text/plain": [
       "<Figure size 640x480 with 1 Axes>"
      ]
     },
     "metadata": {},
     "output_type": "display_data"
    }
   ],
   "source": [
    "plt.semilogx(k,k**1.5*Ps_fid.Pk_0bs[:,0])\n",
    "#plt.loglog(k,Ps_fid.Pk_0bs)"
   ]
  },
  {
   "cell_type": "code",
   "execution_count": 17,
   "id": "32f7498d-4a5e-4eb1-bd2c-271dc82f547a",
   "metadata": {},
   "outputs": [
    {
     "data": {
      "text/plain": [
       "1.0"
      ]
     },
     "execution_count": 17,
     "metadata": {},
     "output_type": "execute_result"
    }
   ],
   "source": [
    "(u.rad**2).to(u.sr)"
   ]
  },
  {
   "cell_type": "markdown",
   "id": "e65af424-5f4f-411f-a6d2-f06c43d9bf5e",
   "metadata": {},
   "source": [
    "### Derivatives"
   ]
  },
  {
   "cell_type": "markdown",
   "id": "13ce9b0e-6a0b-4e37-ba73-c05706b80e7c",
   "metadata": {},
   "source": [
    "Remember, the free parameters are:\n",
    "\n",
    "$$\\left\\lbrace \\alpha_\\parallel,\\,\\alpha_\\perp,\\, B,\\, \\beta,\\, \\sigma_v,\\, \\pmb{a},\\, \\mathcal{B} \\right\\rbrace\\,,$$"
   ]
  },
  {
   "cell_type": "code",
   "execution_count": 20,
   "id": "c6a986ab-c280-4701-9ebb-cab2d460db24",
   "metadata": {},
   "outputs": [],
   "source": [
    "derivative_dic = dict()\n",
    "eps = 1e-2\n",
    "BAOpars = [\"alpha_par\", \"alpha_perp\", \"sigmap\",\"beta\"]\n",
    "otherpars = [\"B\",\"beam\"]\n"
   ]
  },
  {
   "cell_type": "code",
   "execution_count": null,
   "id": "7cf052d5-8812-4352-bf55-607a5f3b57b8",
   "metadata": {},
   "outputs": [],
   "source": [
    "\n",
    "for param in pars:\n",
    "    BAO_var_dict = copy(fidBAO_dict)\n",
    "    \n",
    "    # do step\n",
    "    BAO_var_dict[param] = BAO_var_dict[param] * (1 + eps)\n",
    "    # compute power spectrum\n",
    "    Pobs = SSLIMPY.compute(cosmopars=cosmodict,\n",
    "                           astropars=dict(),\n",
    "                           BAOpars=BAO_var_dict,\n",
    "                           )[\"Power spectrum\"]\n",
    "    dPp = np.array([Pobs.Pk_0bs, Pobs.Pk_2bs]).reshape(2*len(k)) * Pobs.Pk_0bs.unit\n",
    "\n",
    "    BAO_var_dict[param] = BAO_var_dict[param] * (1 - eps)\n",
    "    Pobs = SSLIMPY.compute(cosmopars=cosmodict,\n",
    "                           astropars=dict(),\n",
    "                           BAOpars=BAO_var_dict,\n",
    "                           )[\"Power spectrum\"]\n",
    "    dPm = np.array([Pobs.Pk_0bs, Pobs.Pk_2bs]).reshape(2*len(k)) * Pobs.Pk_0bs.unit\n",
    "\n",
    "    derivative_dic[param] = (dPp - dPm) / (2 * eps * fidBAO_dict[param])"
   ]
  },
  {
   "cell_type": "code",
   "execution_count": null,
   "id": "1641b6da-af25-4964-8d79-bf1172ccf8f9",
   "metadata": {},
   "outputs": [],
   "source": [
    "B = (bHI*THI*cosmodict[\"sigma8\"])**2\n",
    "derivative_dict[\"B\"] =  PfidMoments/B\n",
    "\n",
    "#HERE WE NEED TO HAVE THE DERIVATIVE FOR THE BEAM\n",
    "derivative_dict[\"beam\"] =  PfidMoments/B #DUMMY\n"
   ]
  },
  {
   "cell_type": "code",
   "execution_count": 24,
   "id": "6cebc58c-6ad2-42de-b4e4-a908b6ab4b88",
   "metadata": {},
   "outputs": [],
   "source": [
    "#Broadband\n",
    "coeff_set = [0]*nmax*npoles\n",
    "bb_pars = ['a'+str(i+1) for i in range(len(coeff_set))]\n",
    "pkpoles = [Pobs.Pk_0bs[:,0],Pobs.Pk_2bs[:,0]]\n",
    "for p in range(len(coeff_set)):\n",
    "    coeff_set[p] = eps\n",
    "    pk0_plus, pk2_plus = add_bb(pkpoles,coeff_set,bb,nmax,npoles)\n",
    "    dPp = np.array([pk0_plus, pk2_plus]).reshape(2*len(k))\n",
    "\n",
    "    coeff_set[p] = -eps\n",
    "    pk0_minus, pk2_minus = add_bb(pkpoles,coeff_set,bb,nmax,npoles)\n",
    "    dPm = np.array([pk0_minus, pk2_minus]).reshape(2*len(k))\n",
    "\n",
    "    derivative_dic[bb_pars[p]] = (dPp - dPm) / (2 * eps)"
   ]
  },
  {
   "cell_type": "markdown",
   "id": "68682652-2103-46cf-ba41-07067078cecd",
   "metadata": {},
   "source": [
    "### Fisher"
   ]
  },
  {
   "cell_type": "code",
   "execution_count": null,
   "id": "f706d1b4-42fa-445e-a90d-41c68bfd66bd",
   "metadata": {},
   "outputs": [],
   "source": [
    "allpars = np.array([*BAOpars, *otherpars,*bb_pars])"
   ]
  },
  {
   "cell_type": "code",
   "execution_count": null,
   "id": "b8799ce9-2d45-4ff0-b11d-0c3200caa76a",
   "metadata": {},
   "outputs": [],
   "source": [
    "Cov = Fiducial_output[\"Covariance\"].gaussian_cov()\n",
    "invCov = np.empty(Cov.shape, dtype=u.Quantity)\n",
    "z = Pobs.z\n",
    "for iz in range(len(z)):\n",
    "    invCov[:,:,:,iz] = np.linalg.inv(Cov[:,:,:,iz])\n",
    "invCov = invCov /Cov.unit"
   ]
  },
  {
   "cell_type": "code",
   "execution_count": null,
   "id": "f9f98653-20cc-482d-a62e-c9959e47caa9",
   "metadata": {},
   "outputs": [],
   "source": [
    "Fisher = np.empty((*allpars.shape,*allpars.shape), dtype=u.Quantity)\n",
    "for i, p1 in enumerate(allpars):\n",
    "    for j, p2 in enumerate(allpars):\n",
    "        # The index for k is k, ell is i, ell' is j\n",
    "        # Covaraiance has indixes k, i, j\n",
    "        # The derives have indixes i/j, k\n",
    "        # At the end every index is summed over\n",
    "        Fij = np.sum(\n",
    "            np.einsum(\n",
    "                \"ik...,kij...,jk...\",\n",
    "                derivative_dic[p1], \n",
    "                invCov,\n",
    "                derivative_dic[p2],\n",
    "            )\n",
    "        )\n",
    "        Fisher[i,j] = Fij"
   ]
  }
 ],
 "metadata": {
  "kernelspec": {
   "display_name": "Python 3 (ipykernel)",
   "language": "python",
   "name": "python3"
  },
  "language_info": {
   "codemirror_mode": {
    "name": "ipython",
    "version": 3
   },
   "file_extension": ".py",
   "mimetype": "text/x-python",
   "name": "python",
   "nbconvert_exporter": "python",
   "pygments_lexer": "ipython3",
   "version": "3.9.16"
  }
 },
 "nbformat": 4,
 "nbformat_minor": 5
}
