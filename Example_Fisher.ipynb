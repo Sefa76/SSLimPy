{
 "cells": [
  {
   "cell_type": "code",
   "execution_count": 25,
   "id": "1687d6ad-b11b-413a-9ae5-3a3fb34db1f9",
   "metadata": {},
   "outputs": [],
   "source": [
    "import SSLimPy.interface.sslimpy as sslimpy\n",
    "import numpy as np\n",
    "import astropy.units as u\n",
    "from copy import copy\n",
    "import matplotlib.pyplot as plt"
   ]
  },
  {
   "cell_type": "markdown",
   "id": "fc6d3dad",
   "metadata": {},
   "source": [
    "# Compute Cosmology at the fiducial value"
   ]
  },
  {
   "cell_type": "code",
   "execution_count": 15,
   "id": "e9fa60e6",
   "metadata": {},
   "outputs": [],
   "source": [
    "cosmodict={\"h\":0.6774,\n",
    "           \"Omegam\":0.31,\n",
    "           \"Omegab\":0.05,\n",
    "           \"As\":2.142e-9,\n",
    "           \"mnu\":0.06,\n",
    "           \"ns\":0.967}\n",
    "\n",
    "settings = {\"code\":\"class\",\n",
    "            \"do_RSD\" : True,\n",
    "            \"nonlinearRSD\" : True,\n",
    "            \"FoG_damp\" : \"ISTF_like\",\n",
    "            \"halo_model_PS\" : True,\n",
    "            \"Smooth_window\" : False,\n",
    "            \"output\" : [\"Power spectrum\"],\n",
    "            \"TracerPowerSpectrum\":\"clustering\",\n",
    "            }"
   ]
  },
  {
   "cell_type": "code",
   "execution_count": 16,
   "id": "bcec95cb-6bad-442e-8a23-cb034e50c7d9",
   "metadata": {},
   "outputs": [
    {
     "name": "stdout",
     "output_type": "stream",
     "text": [
      "#--------------------------------------------------#\n",
      "\n",
      "  SSSSS   SSSSS  L       i            PPPP   y    y \n",
      " S     S S     S L            m   m   P    P y   y  \n",
      " S       S       L     iii   m m m m  P    P  y y   \n",
      "  SSSSS   SSSSS  L       i   m  m  m  PPPP     y    \n",
      "       S       S L       i   m     m  P        y    \n",
      " S     S S     S L       i   m     m  P       y     \n",
      "  SSSSS   SSSSS  LLLLL iiiii m     m  P      y      \n",
      "\n",
      "#--------------------------------------------------#\n"
     ]
    }
   ],
   "source": [
    "SSLIMPY = sslimpy.sslimpy(settings_dict=settings,\n",
    "                           cosmopars=cosmodict,\n",
    "                           specifications=\"input/survey_files/forecast_test.yaml\")"
   ]
  },
  {
   "cell_type": "markdown",
   "id": "cbe38bb0-1811-4e0e-96d5-f5a890082932",
   "metadata": {},
   "source": [
    "Just to show how to do a fisher forecast we choose following free parameters\n",
    "\n",
    "$\\left\\lbrace\\alpha_\\parallel, \\alpha_\\perp,  \\sigma_v, T_{\\rm CO}, b_{\\rm CO}, A_s, \\right\\rbrace$"
   ]
  },
  {
   "cell_type": "code",
   "execution_count": 17,
   "id": "59b5342c",
   "metadata": {},
   "outputs": [],
   "source": [
    "fidBAO_dict = {\n",
    "    \"alpha_par\": 1,\n",
    "    \"alpha_perp\": 1,\n",
    "    \"sigma_v\": 5 * u.Mpc**2,\n",
    "    \"bmean\": 2,\n",
    "    \"Tmean\": 0.4 * u.mK,\n",
    "    }"
   ]
  },
  {
   "cell_type": "markdown",
   "id": "e783f0c4",
   "metadata": {},
   "source": [
    "Obtain fiducial power spectrum and covariance"
   ]
  },
  {
   "cell_type": "code",
   "execution_count": 18,
   "id": "0c28ff04",
   "metadata": {},
   "outputs": [
    {
     "name": "stdout",
     "output_type": "stream",
     "text": [
      "Done!\n"
     ]
    },
    {
     "name": "stderr",
     "output_type": "stream",
     "text": [
      "/home/sefa/Schreibtisch/LIM-code/SSLimPy/SSLimPy/LIMsurvey/PowerSpectra.py:749: RuntimeWarning: divide by zero encountered in log\n",
      "  logP = np.log(Pk_Obs.value)\n",
      "/home/sefa/Schreibtisch/LIM-code/SSLimPy/SSLimPy/interface/sslimpy.py:89: UserWarning: Output Power spectrum asked for not recognised \n",
      " Skiped\n",
      "  warn(\"Output {} asked for not recognised \\n Skiped\".format(obs))\n"
     ]
    }
   ],
   "source": [
    "Fiducial_output = SSLIMPY.compute(cosmopars=cosmodict,\n",
    "                                  astropars=dict(),\n",
    "                                  BAOpars=fidBAO_dict,\n",
    "                                  output=[\"Power spectrum\",\n",
    "                                          \"Covariance\"])\n"
   ]
  },
  {
   "cell_type": "code",
   "execution_count": 27,
   "id": "c0423127",
   "metadata": {},
   "outputs": [],
   "source": [
    "\n",
    "Ps_fid = Fiducial_output[\"Power spectrum\"]\n",
    "PfidMoments = np.array([Ps_fid.Pk_0bs,Ps_fid.Pk_2bs,Ps_fid.Pk_4bs])\n",
    "Cov = Fiducial_output[\"Covariance\"].gaussian_cov()"
   ]
  },
  {
   "cell_type": "code",
   "execution_count": 20,
   "id": "d0ca8c5b",
   "metadata": {},
   "outputs": [],
   "source": [
    "derivative_dic = dict()\n",
    "eps = 1e-2"
   ]
  },
  {
   "cell_type": "markdown",
   "id": "aed58afc",
   "metadata": {},
   "source": [
    "# Cosmo Derivs"
   ]
  },
  {
   "cell_type": "code",
   "execution_count": 21,
   "id": "367aca82",
   "metadata": {},
   "outputs": [
    {
     "name": "stdout",
     "output_type": "stream",
     "text": [
      "Done!\n",
      "Done!\n"
     ]
    }
   ],
   "source": [
    "cosmo_free_pars = [\"As\"]\n",
    "\n",
    "for param in cosmo_free_pars:\n",
    "    cosmo_var_dict = copy(cosmodict)\n",
    "    \n",
    "    # do step\n",
    "    cosmo_var_dict[param] = cosmodict[param] * ( 1 + eps)\n",
    "    # compute power spectrum\n",
    "    Pobs = SSLIMPY.compute(cosmopars=cosmo_var_dict,\n",
    "                                    astropars=dict(),\n",
    "                                    BAOpars=fidBAO_dict,\n",
    "                                    )[\"Power spectrum\"]\n",
    "    dPp = np.array([Pobs.Pk_0bs, Pobs.Pk_2bs, Pobs.Pk_4bs])\n",
    "\n",
    "    cosmo_var_dict[param] = cosmodict[param] * ( 1 - eps)\n",
    "    Pobs = SSLIMPY.compute(cosmopars=cosmo_var_dict,\n",
    "                                    astropars=dict(),\n",
    "                                    BAOpars=fidBAO_dict,\n",
    "                                    )[\"Power spectrum\"]\n",
    "    dPm = np.array([Pobs.Pk_0bs, Pobs.Pk_2bs, Pobs.Pk_4bs])\n",
    "\n",
    "    derivative_dic[param] = (dPp - dPm) / (2 * eps * cosmodict[param])"
   ]
  },
  {
   "cell_type": "markdown",
   "id": "fa228814",
   "metadata": {},
   "source": [
    "# Nuisance Derivs"
   ]
  },
  {
   "cell_type": "code",
   "execution_count": 22,
   "id": "c0f718b0",
   "metadata": {},
   "outputs": [
    {
     "name": "stdout",
     "output_type": "stream",
     "text": [
      "Done!\n",
      "Done!\n",
      "Done!\n",
      "Done!\n",
      "Done!\n",
      "Done!\n",
      "Done!\n",
      "Done!\n",
      "Done!\n",
      "Done!\n"
     ]
    }
   ],
   "source": [
    "nuiscance_free_pars = [ \"alpha_par\", \"alpha_perp\", \"sigma_v\", \"bmean\", \"Tmean\"]\n",
    "\n",
    "for param in nuiscance_free_pars:\n",
    "    BAO_var_dict = copy(fidBAO_dict)\n",
    "    \n",
    "    # do step\n",
    "    BAO_var_dict[param] = BAO_var_dict[param] * (1 + eps)\n",
    "    # compute power spectrum\n",
    "    Pobs = SSLIMPY.compute(cosmopars=cosmodict,\n",
    "                           astropars=dict(),\n",
    "                           BAOpars=BAO_var_dict,\n",
    "                           )[\"Power spectrum\"]\n",
    "    dPp = np.array([Pobs.Pk_0bs, Pobs.Pk_2bs, Pobs.Pk_4bs])\n",
    "\n",
    "    BAO_var_dict[param] = BAO_var_dict[param] * (1 - eps)\n",
    "    Pobs = SSLIMPY.compute(cosmopars=cosmodict,\n",
    "                           astropars=dict(),\n",
    "                           BAOpars=BAO_var_dict,\n",
    "                           )[\"Power spectrum\"]\n",
    "    dPm = np.array([Pobs.Pk_0bs, Pobs.Pk_2bs, Pobs.Pk_4bs])\n",
    "\n",
    "    derivative_dic[param] = (dPp - dPm) / (2 * eps * fidBAO_dict[param])"
   ]
  }
 ],
 "metadata": {
  "kernelspec": {
   "display_name": "Python 3 (ipykernel)",
   "language": "python",
   "name": "python3"
  },
  "language_info": {
   "codemirror_mode": {
    "name": "ipython",
    "version": 3
   },
   "file_extension": ".py",
   "mimetype": "text/x-python",
   "name": "python",
   "nbconvert_exporter": "python",
   "pygments_lexer": "ipython3",
   "version": "3.10.12"
  }
 },
 "nbformat": 4,
 "nbformat_minor": 5
}
