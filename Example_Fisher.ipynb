{
 "cells": [
  {
   "cell_type": "code",
   "execution_count": null,
   "id": "1687d6ad-b11b-413a-9ae5-3a3fb34db1f9",
   "metadata": {},
   "outputs": [],
   "source": [
    "import SSLimPy.interface.sslimpy as sslimpy\n",
    "import numpy as np\n",
    "import astropy.units as u\n",
    "from copy import copy\n",
    "import matplotlib.pyplot as plt\n",
    "import seaborn as sns\n",
    "import astropy\n",
    "from getdist.gaussian_mixtures import GaussianND\n",
    "from getdist import plots\n",
    "\n",
    "color_palette = sns.color_palette(\"colorblind\")\n",
    "color_palette"
   ]
  },
  {
   "cell_type": "markdown",
   "id": "fc6d3dad",
   "metadata": {},
   "source": [
    "# Compute Cosmology at the fiducial value"
   ]
  },
  {
   "cell_type": "code",
   "execution_count": null,
   "id": "e9fa60e6",
   "metadata": {},
   "outputs": [],
   "source": [
    "cosmodict={\"h\":0.6774,\n",
    "           \"Omegam\":0.31,\n",
    "           \"Omegab\":0.05,\n",
    "           \"sigma8\":0.82,\n",
    "           \"mnu\":0.06,\n",
    "           \"ns\":0.967}\n",
    "\n",
    "fidBAO_dict = {\n",
    "    \"alpha_par\": 1,\n",
    "    \"alpha_perp\": 1,\n",
    "    \"sigmav\": 3 * u.Mpc,\n",
    "    \"bmean\": 1.7,\n",
    "    \"Tmean\": 1.5 * u.uK,\n",
    "    }\n",
    "\n",
    "settings = {\"code\":\"class\",\n",
    "            \"do_RSD\" : True,\n",
    "            \"nonlinearRSD\" : True,\n",
    "            \"FoG_damp\" : \"ISTF_like\",\n",
    "            \"halo_model_PS\" : True,\n",
    "            \"Smooth_window\" : True,\n",
    "            \"output\" : [\"Power spectrum\"],\n",
    "            \"TracerPowerSpectrum\":\"clustering\",\n",
    "            \"kmin\": 1.e-3 * u.Mpc**-1,\n",
    "            \"kmax\": 0.1 * u.Mpc**-1,\n",
    "            \"nk\": 100,\n",
    "            }"
   ]
  },
  {
   "cell_type": "code",
   "execution_count": null,
   "id": "bcec95cb-6bad-442e-8a23-cb034e50c7d9",
   "metadata": {},
   "outputs": [],
   "source": [
    "SSLIMPY = sslimpy.sslimpy(settings_dict=settings,\n",
    "                           cosmopars=cosmodict,\n",
    "                           BAOpars=fidBAO_dict, \n",
    "                           specifications=\"input/survey_files/forecast_test.yaml\")"
   ]
  },
  {
   "cell_type": "markdown",
   "id": "cbe38bb0-1811-4e0e-96d5-f5a890082932",
   "metadata": {},
   "source": [
    "Just to show how to do a fisher forecast we choose following free parameters\n",
    "\n",
    "$\\left\\lbrace\\alpha_\\parallel, \\alpha_\\perp,  \\sigma_v, T_{\\rm CO}, b_{\\rm CO}, \\sigma_8, \\right\\rbrace$"
   ]
  },
  {
   "cell_type": "markdown",
   "id": "e783f0c4",
   "metadata": {},
   "source": [
    "Obtain fiducial power spectrum and covariance"
   ]
  },
  {
   "cell_type": "code",
   "execution_count": null,
   "id": "0c28ff04",
   "metadata": {},
   "outputs": [],
   "source": [
    "Fiducial_output = SSLIMPY.compute(cosmopars=cosmodict,\n",
    "                                  astropars=dict(),\n",
    "                                  BAOpars=fidBAO_dict,\n",
    "                                  output=[\"Power spectrum\",\n",
    "                                          \"Covariance\"])\n"
   ]
  },
  {
   "cell_type": "markdown",
   "id": "89f3887e",
   "metadata": {},
   "source": [
    "Check the fiducial power spectra and (inverse) covariance"
   ]
  },
  {
   "cell_type": "code",
   "execution_count": null,
   "id": "8a059abb",
   "metadata": {},
   "outputs": [],
   "source": [
    "Ps_fid = Fiducial_output[\"Power spectrum\"]\n",
    "PfidMoments = np.array([Ps_fid.Pk_0bs, Ps_fid.Pk_2bs, Ps_fid.Pk_4bs]) * Ps_fid.Pk_0bs.unit\n",
    "k = Ps_fid.k"
   ]
  },
  {
   "cell_type": "code",
   "execution_count": null,
   "id": "df6183e1",
   "metadata": {},
   "outputs": [],
   "source": [
    "colors= iter(color_palette)\n",
    "for i in range(3):\n",
    "    c = next(colors)\n",
    "    plt.loglog(k,PfidMoments[i,:,0], c=c)\n",
    "    plt.loglog(k,-PfidMoments[i,:,0], ls=\"--\", c=c)\n"
   ]
  },
  {
   "cell_type": "code",
   "execution_count": null,
   "id": "d0ca8c5b",
   "metadata": {},
   "outputs": [],
   "source": [
    "derivative_dic = dict()\n",
    "eps = 1e-2"
   ]
  },
  {
   "cell_type": "markdown",
   "id": "aed58afc",
   "metadata": {},
   "source": [
    "# Cosmo Derivs"
   ]
  },
  {
   "cell_type": "code",
   "execution_count": null,
   "id": "367aca82",
   "metadata": {},
   "outputs": [],
   "source": [
    "cosmo_free_pars = [\"sigma8\"]\n",
    "\n",
    "for param in cosmo_free_pars:\n",
    "    cosmo_var_dict = copy(cosmodict)\n",
    "    \n",
    "    # do step\n",
    "    cosmo_var_dict[param] = cosmodict[param] * ( 1 + eps)\n",
    "    # compute power spectrum\n",
    "    Pobs = SSLIMPY.compute(cosmopars=cosmo_var_dict,\n",
    "                                    astropars=dict(),\n",
    "                                    BAOpars=fidBAO_dict,\n",
    "                                    )[\"Power spectrum\"]\n",
    "    dPp = np.array([Pobs.Pk_0bs, Pobs.Pk_2bs, Pobs.Pk_4bs]) * Pobs.Pk_Obs.unit\n",
    "\n",
    "    cosmo_var_dict[param] = cosmodict[param] * ( 1 - eps)\n",
    "    Pobs = SSLIMPY.compute(cosmopars=cosmo_var_dict,\n",
    "                                    astropars=dict(),\n",
    "                                    BAOpars=fidBAO_dict,\n",
    "                                    )[\"Power spectrum\"]\n",
    "    dPm = np.array([Pobs.Pk_0bs, Pobs.Pk_2bs, Pobs.Pk_4bs]) * Pobs.Pk_Obs.unit\n",
    "\n",
    "    derivative_dic[param] = (dPp - dPm) / (2 * eps * cosmodict[param])"
   ]
  },
  {
   "cell_type": "markdown",
   "id": "fa228814",
   "metadata": {},
   "source": [
    "# Nuisance Derivs"
   ]
  },
  {
   "cell_type": "code",
   "execution_count": null,
   "id": "c0f718b0",
   "metadata": {},
   "outputs": [],
   "source": [
    "nuiscance_free_pars = [ \"alpha_par\", \"alpha_perp\", \"sigmav\", \"bmean\", \"Tmean\"]\n",
    "\n",
    "for param in nuiscance_free_pars:\n",
    "    BAO_var_dict = copy(fidBAO_dict)\n",
    "    \n",
    "    # do step\n",
    "    BAO_var_dict[param] = BAO_var_dict[param] * (1 + eps)\n",
    "    # compute power spectrum\n",
    "    Pobs = SSLIMPY.compute(cosmopars=cosmodict,\n",
    "                           astropars=dict(),\n",
    "                           BAOpars=BAO_var_dict,\n",
    "                           )[\"Power spectrum\"]\n",
    "    dPp = np.array([Pobs.Pk_0bs, Pobs.Pk_2bs, Pobs.Pk_4bs]) * Pobs.Pk_Obs.unit\n",
    "\n",
    "    BAO_var_dict[param] = BAO_var_dict[param] * (1 - eps)\n",
    "    Pobs = SSLIMPY.compute(cosmopars=cosmodict,\n",
    "                           astropars=dict(),\n",
    "                           BAOpars=BAO_var_dict,\n",
    "                           )[\"Power spectrum\"]\n",
    "    dPm = np.array([Pobs.Pk_0bs, Pobs.Pk_2bs, Pobs.Pk_4bs]) * Pobs.Pk_Obs.unit\n",
    "\n",
    "    derivative_dic[param] = (dPp - dPm) / (2 * eps * fidBAO_dict[param])"
   ]
  },
  {
   "cell_type": "markdown",
   "id": "bf2b39d9",
   "metadata": {},
   "source": [
    "# Construct Fisher matrix "
   ]
  },
  {
   "cell_type": "code",
   "execution_count": null,
   "id": "20df567f",
   "metadata": {},
   "outputs": [],
   "source": [
    "allpars = np.array([*cosmo_free_pars, *nuiscance_free_pars])"
   ]
  },
  {
   "cell_type": "code",
   "execution_count": null,
   "id": "532802f5",
   "metadata": {},
   "outputs": [],
   "source": [
    "Cov = Fiducial_output[\"Covariance\"].gaussian_cov()\n",
    "invCov = np.empty(Cov.shape, dtype=u.Quantity)\n",
    "z = Pobs.z\n",
    "for iz in range(len(z)):\n",
    "    invCov[:,:,:,iz] = np.linalg.inv(Cov[:,:,:,iz])\n",
    "invCov = invCov /Cov.unit"
   ]
  },
  {
   "cell_type": "code",
   "execution_count": null,
   "id": "e7b5a439",
   "metadata": {},
   "outputs": [],
   "source": [
    "Fisher = np.empty((*allpars.shape,*allpars.shape), dtype=u.Quantity)\n",
    "for i, p1 in enumerate(allpars):\n",
    "    for j, p2 in enumerate(allpars):\n",
    "        # The index for k is k, ell is i, ell' is j\n",
    "        # Covaraiance has indixes k, i, j\n",
    "        # The derives have indixes i/j, k\n",
    "        # At the end every index is summed over\n",
    "        Fij = np.sum(\n",
    "            np.einsum(\n",
    "                \"ik...,kij...,jk...\",\n",
    "                derivative_dic[p1], \n",
    "                invCov,\n",
    "                derivative_dic[p2],\n",
    "            )\n",
    "        )\n",
    "        Fisher[i,j] = Fij"
   ]
  },
  {
   "cell_type": "code",
   "execution_count": null,
   "id": "1f20db52",
   "metadata": {},
   "outputs": [],
   "source": [
    "_unitless = np.empty((*allpars.shape,*allpars.shape))\n",
    "for i, p1 in enumerate(allpars):\n",
    "    for j, p2 in enumerate(allpars):\n",
    "        _unitless[i,j] = Fisher[i,j].value"
   ]
  },
  {
   "cell_type": "code",
   "execution_count": null,
   "id": "c43069bf",
   "metadata": {},
   "outputs": [],
   "source": [
    "invFisher = np.linalg.inv(_unitless)"
   ]
  },
  {
   "cell_type": "code",
   "execution_count": null,
   "id": "48ed9d42",
   "metadata": {},
   "outputs": [],
   "source": [
    "invFisher"
   ]
  },
  {
   "cell_type": "markdown",
   "id": "03915ffc",
   "metadata": {},
   "source": [
    "Plot the Fisher lets see"
   ]
  },
  {
   "cell_type": "code",
   "execution_count": null,
   "id": "da1f2d81",
   "metadata": {},
   "outputs": [],
   "source": [
    "mean = [0.82, 1, 1, 3, 1.7, 1.5]\n"
   ]
  },
  {
   "cell_type": "code",
   "execution_count": null,
   "id": "4e1421e6",
   "metadata": {},
   "outputs": [],
   "source": [
    "print(mean)\n",
    "print(allpars)\n",
    "print([np.sqrt(invFisher[i,i]) for i in range(_unitless.shape[0])])"
   ]
  },
  {
   "cell_type": "code",
   "execution_count": null,
   "id": "30c4b88f",
   "metadata": {},
   "outputs": [],
   "source": [
    "colors = [sns.color_palette('colorblind')[ii] for ii in [2]]"
   ]
  },
  {
   "cell_type": "code",
   "execution_count": null,
   "id": "eb09750d",
   "metadata": {},
   "outputs": [],
   "source": [
    "gauss1=GaussianND(mean=mean, cov=_unitless ,names=allpars ,is_inv_cov=True)\n",
    "g = plots.get_subplot_plotter(rc_sizes=True,subplot_size = 6,subplot_size_ratio= 1,width_inch=6)\n",
    "g.triangle_plot([gauss1],filled=[False],params=allpars,legend_labels=[r'Default'],contour_lws=[1],colors=colors, contour_colors=colors)"
   ]
  }
 ],
 "metadata": {
  "kernelspec": {
   "display_name": "Python 3 (ipykernel)",
   "language": "python",
   "name": "python3"
  },
  "language_info": {
   "codemirror_mode": {
    "name": "ipython",
    "version": 3
   },
   "file_extension": ".py",
   "mimetype": "text/x-python",
   "name": "python",
   "nbconvert_exporter": "python",
   "pygments_lexer": "ipython3",
   "version": "3.10.12"
  }
 },
 "nbformat": 4,
 "nbformat_minor": 5
}
