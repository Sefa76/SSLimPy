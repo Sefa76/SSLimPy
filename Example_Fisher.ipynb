{
 "cells": [
  {
   "cell_type": "code",
   "execution_count": null,
   "id": "1687d6ad-b11b-413a-9ae5-3a3fb34db1f9",
   "metadata": {},
   "outputs": [],
   "source": [
    "import SSLimPy.interface.sslimpy as sslimpy\n",
    "import astropy.units as u"
   ]
  },
  {
   "cell_type": "markdown",
   "id": "fc6d3dad",
   "metadata": {},
   "source": [
    "# Compute Cosmology at the fiducial value"
   ]
  },
  {
   "cell_type": "code",
   "execution_count": null,
   "id": "e9fa60e6",
   "metadata": {},
   "outputs": [],
   "source": [
    "cosmodict={\"h\":0.6774,\n",
    "           \"Omegam\":0.31,\n",
    "           \"Omegab\":0.05,\n",
    "           \"As\":2.142e-9,\n",
    "           \"mnu\":0.06,\n",
    "           \"ns\":0.967}\n",
    "\n",
    "settings = {\"code\":\"class\",\n",
    "            \"do_RSD\" : True,\n",
    "            \"nonlinearRSD\" : True,\n",
    "            \"FoG_damp\" : \"ISTF_like\",\n",
    "            \"halo_model_PS\" : True,\n",
    "            \"Smooth_window\" : True,\n",
    "            \"output\" : [\"Power spectrum\"],\n",
    "            \"TracerPowerSpectrum\":\"clustering\",\n",
    "            }"
   ]
  },
  {
   "cell_type": "code",
   "execution_count": 3,
   "id": "bcec95cb-6bad-442e-8a23-cb034e50c7d9",
   "metadata": {},
   "outputs": [],
   "source": [
    "SSLIMPY = sslimpy.sslimpy(settings_dict=settings,\n",
    "                           cosmopars=cosmodict,\n",
    "                           specifications=\"input/survey_files/forecast_test.yaml\")"
   ]
  },
  {
   "cell_type": "markdown",
   "id": "056e7ea1-4146-4748-b8c2-ed3836cf0d4e",
   "metadata": {},
   "source": [
    "### Assumptions"
   ]
  },
  {
   "cell_type": "markdown",
   "id": "cbe38bb0-1811-4e0e-96d5-f5a890082932",
   "metadata": {},
   "source": [
    "So far the parameters to forecast to are\n",
    "\n",
    "$\\left\\lbrace\\alpha_\\parallel, \\alpha_\\perp,  \\sigma_v, T_{\\rm CO}, b_{\\rm CO}, A_s, \\right\\rbrace$"
   ]
  },
  {
   "cell_type": "code",
   "execution_count": null,
   "id": "59b5342c",
   "metadata": {},
   "outputs": [],
   "source": [
    "fidBAO_dict = {\n",
    "    \"alpha_par\": 1,\n",
    "    \"alpha_perp\": 1,\n",
    "    \"sigma_v\": 5 * u.Mpc**2,\n",
    "    \"bmean\": 2,\n",
    "    \"Tmean\": 0.4 * u.mK,\n",
    "    }"
   ]
  }
 ],
 "metadata": {
  "kernelspec": {
   "display_name": "Python 3 (ipykernel)",
   "language": "python",
   "name": "python3"
  },
  "language_info": {
   "codemirror_mode": {
    "name": "ipython",
    "version": 3
   },
   "file_extension": ".py",
   "mimetype": "text/x-python",
   "name": "python",
   "nbconvert_exporter": "python",
   "pygments_lexer": "ipython3",
   "version": "3.10.12"
  }
 },
 "nbformat": 4,
 "nbformat_minor": 5
}
