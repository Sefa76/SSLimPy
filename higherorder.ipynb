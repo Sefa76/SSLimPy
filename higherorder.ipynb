{
 "cells": [
  {
   "cell_type": "code",
   "execution_count": null,
   "metadata": {},
   "outputs": [],
   "source": [
    "import os\n",
    "\n",
    "import astropy.units as u\n",
    "import matplotlib.pyplot as plt\n",
    "import numpy as np\n",
    "\n",
    "import SSLimPy.interface.sslimpy as sslimpy\n",
    "import SSLimPy.LIMsurvey.Covariance as sco\n",
    "from SSLimPy.LIMsurvey import PowerSpectra\n",
    "from SSLimPy.LIMsurvey import higherorder as sho\n",
    "from SSLimPy.utils import utils as utl"
   ]
  },
  {
   "cell_type": "code",
   "execution_count": null,
   "metadata": {},
   "outputs": [],
   "source": [
    "envkey = \"OMP_NUM_THREADS\"\n",
    "# Set this environment variable to the number of available cores in your machine,\n",
    "# to get a fast execution of the Einstein Boltzmann Solver\n",
    "print(\"The value of {:s} is: \".format(envkey), os.environ.get(envkey))\n",
    "os.environ[envkey] = str(12)\n",
    "print(\"The value of {:s} is: \".format(envkey), os.environ.get(envkey))"
   ]
  },
  {
   "cell_type": "code",
   "execution_count": null,
   "metadata": {},
   "outputs": [],
   "source": [
    "cosmodict = {\"h\": 0.67, \"Omegam\": 0.32, \"Omegab\": 0.04, \"As\": 2.1e-9, \"mnu\": 0.06}\n",
    "settings = {\n",
    "    \"code\": \"class\",\n",
    "    \"do_RSD\": True,\n",
    "    \"nonlinearRSD\": True,\n",
    "    \"FoG_damp\": \"ISTF_like\",\n",
    "    \"halo_model_PS\": True,\n",
    "    \"Smooth_window\": True,\n",
    "    \"kmin\": 0.004 * u.Mpc**-1,\n",
    "    \"kmax\": 0.1 * u.Mpc**-1,\n",
    "    \"nk\": 50,\n",
    "}\n",
    "\n",
    "# Deactivate LIM for testing\n",
    "astrodict = {\n",
    "    \"model_type\":\"ML\",\n",
    "    \"model_name\":\"MassPow\",\n",
    "    \"model_par\": {\n",
    "        \"A\":1,\n",
    "        \"b\":0\n",
    "    }\n",
    "}\n",
    "Asslimpy = sslimpy.sslimpy(settings_dict=settings, cosmopars=cosmodict, astropars=astrodict)\n",
    "\n",
    "pobs = PowerSpectra.PowerSpectra(Asslimpy.fiducialcosmo, Asslimpy.fiducialastro)"
   ]
  },
  {
   "cell_type": "code",
   "execution_count": null,
   "metadata": {},
   "outputs": [],
   "source": [
    "k = pobs.k\n",
    "pk = pobs.fiducialcosmo.matpow(k, 0)\n",
    "I2 = pobs.higher_halomoments([1, 2], k, k, moment=2, bias_order=0, kbias=0)\n",
    "print(I2.shape)\n",
    "I1 = pobs.higher_halomoments([1, 2], k, moment=1, bias_order=0, kbias=0)\n",
    "print(I1.shape)"
   ]
  },
  {
   "cell_type": "code",
   "execution_count": null,
   "metadata": {},
   "outputs": [],
   "source": [
    "kinterp = np.array([0,1e-3,1e-2,0.1,1])\n",
    "logki = np.log(kinterp)\n",
    "logkg = np.log(k.value)\n",
    "logpg = np.log(pk.value)\n",
    "logpi = utl.linear_interpolate(logkg,logpg,logki)\n",
    "plt.plot(logkg,logpg)\n",
    "plt.scatter(logki, logpi)\n",
    "plt.show()"
   ]
  },
  {
   "cell_type": "code",
   "execution_count": null,
   "metadata": {},
   "outputs": [],
   "source": [
    "def get_vectors(k1,mu1,ph1,k4,mu4,ph4):\n",
    "\n",
    "    k14, mu14, ph14 = utl.addVectors(k1, mu1, ph1, k4, mu4, ph4)\n",
    "    return sho.vF2(k14, mu14, ph14, k1, -mu1, ph1 + np.pi),sho.vF2(k14, mu14, ph14, k4, -mu4, ph4 + np.pi)"
   ]
  },
  {
   "cell_type": "code",
   "execution_count": null,
   "metadata": {},
   "outputs": [],
   "source": [
    "def fake_add_vecotrs(k1,mu1,ph1,k2,mu2,ph2):\n",
    "    ra1 = (1-mu1**2)\n",
    "    if ra1<0:\n",
    "        ra1=0\n",
    "    s1 = np.sqrt(ra1)\n",
    "\n",
    "    ra2 = (1-mu2**2)\n",
    "    if ra2<0:\n",
    "        ra2=0\n",
    "    s2 = np.sqrt(ra2)\n",
    "\n",
    "\n",
    "    x1, y1, z1 = k1 *  s1 * np.cos(ph1), k1 *  s1 * np.sin(ph1), k1 * mu1\n",
    "    x2, y2, z2 = k2 *  s2 * np.cos(ph2), k2 *  s2 * np.sin(ph2), k2 * mu2\n",
    "    x,y,z = x1+x2, y1+y2, z1+z2\n",
    "    k = np.sqrt(x**2+y**2+z**2)\n",
    "    mu = z/k\n",
    "    phi = np.arctan2(y,x)\n",
    "    return k,mu,phi"
   ]
  },
  {
   "cell_type": "code",
   "execution_count": null,
   "metadata": {},
   "outputs": [],
   "source": [
    "k = np.geomspace(2e-3, 2, 50) * u.Mpc**-1\n",
    "Pk = pobs.fiducialcosmo.matpow(k, 0)\n",
    "\n",
    "k1, mu1, ph1 = 0.1, 0.4, 0.2\n",
    "k2, mu2, ph2 = 0.1, -0.4, 0.2 + np.pi\n",
    "k3, mu3, ph3 = 0.08, 0.5, 0\n",
    "k4, mu4, ph4 = 0.08, -0.5, np.pi"
   ]
  },
  {
   "cell_type": "code",
   "execution_count": null,
   "metadata": {},
   "outputs": [],
   "source": [
    "mui = -1\n",
    "mu2l = np.linspace(-1,0.9,50)\n",
    "f = []\n",
    "for mui2 in mu2l:\n",
    "    a, _ = get_vectors(k1,mui,ph1,k4,-mui2,ph4)\n",
    "    f.append(a)\n",
    "\n",
    "plt.plot(mu2l, f)"
   ]
  },
  {
   "cell_type": "code",
   "execution_count": null,
   "metadata": {},
   "outputs": [],
   "source": [
    "mui = -1\n",
    "mu2l = [-1,-0.999,-0.9]"
   ]
  },
  {
   "cell_type": "code",
   "execution_count": null,
   "metadata": {},
   "outputs": [],
   "source": [
    "for mui2 in mu2l:\n",
    "    print(utl.addVectors(k1,mui,ph1,k3,mui2,ph2))\n",
    "    print(fake_add_vecotrs(k1,mui,ph1,k3,mui2,ph2))"
   ]
  },
  {
   "cell_type": "code",
   "execution_count": null,
   "metadata": {},
   "outputs": [],
   "source": [
    "B = np.empty_like(k.value)\n",
    "T = np.empty_like(k.value)\n",
    "\n",
    "for ik, ki in enumerate(k):\n",
    "    k23, mu23, ph23 = utl.addVectors(ki.value, mu2, ph2, k3, mu3, ph3)\n",
    "    Bi = sho.BispectrumLO(\n",
    "        ki.value, mu1, ph1, k23, mu23, ph23, k4, mu4, ph4, k.value, Pk.value\n",
    "    )\n",
    "    B[ik] = Bi\n",
    "    Ti = sho.TrispectrumL0(ki.value, mu1, ph1, ki.value, mu2, ph2,\n",
    "                           k3, mu3, ph3, k4, mu4, ph4,\n",
    "                           k.value, Pk.value,\n",
    "    )\n",
    "    T[ik] = Ti"
   ]
  },
  {
   "cell_type": "code",
   "execution_count": null,
   "metadata": {},
   "outputs": [],
   "source": [
    "plt.loglog(k, B/np.max(B), label=\"Bi-Spectrum/max\", c= \"blue\")\n",
    "plt.loglog(k, T/np.max(T), label=\"Tri-Spectrum/max\")\n",
    "plt.loglog(k,Pk/np.max(Pk), label=\"PowerSpectrum/max\")\n",
    "plt.xlabel(r\"$k [\\mathrm{Mpc}^{-1}]$\")\n",
    "plt.legend()"
   ]
  },
  {
   "cell_type": "code",
   "execution_count": null,
   "metadata": {},
   "outputs": [],
   "source": [
    "k = np.geomspace(2e-3, 20, 20) * u.Mpc**-1\n",
    "\n",
    "kpivots = np.geomspace(2e-3,20,20)* u.Mpc**-1\n",
    "\n",
    "\n",
    "I1 = np.array([pobs.higher_halomoments(1, k, moment=1, bias_order=0, kbias=0) for kpivot in kpivots])\n",
    "I2 = np.array([pobs.higher_halomoments(1, k, kpivot, moment=2, bias_order=0, kbias=0) for kpivot in kpivots])\n",
    "I3 = np.array([pobs.higher_halomoments(1, k, kpivot, kpivot, moment=3, bias_order=0, kbias=0) for kpivot in kpivots])\n",
    "I4 = np.array([pobs.higher_halomoments(1, k, kpivot, kpivot, kpivot, moment=4, bias_order=0, kbias=0) for kpivot in kpivots])"
   ]
  },
  {
   "cell_type": "code",
   "execution_count": null,
   "metadata": {},
   "outputs": [],
   "source": [
    "alpha = np.linspace(0.5,1,20)\n",
    "\n",
    "for ia, ai in enumerate(alpha):\n",
    "\n",
    "    plt.loglog(k,I1[ia,:]**4, alpha=ai, c=\"red\")\n",
    "    plt.loglog(k,I2[ia,:] * I1[ia,:]**2, alpha=ai, c=\"blue\")\n",
    "    plt.loglog(k,I3[ia,:] * I1[ia,:], alpha=ai, c=\"green\")\n",
    "    plt.loglog(k,I4[ia,:], alpha=ai, c=\"orange\")"
   ]
  },
  {
   "cell_type": "code",
   "execution_count": null,
   "metadata": {},
   "outputs": [],
   "source": [
    "k = pobs.k\n",
    "pk = pobs.cosmology.matpow(k,0)\n",
    "\n",
    "k1, mu1, ph1 = 0.1, 0.0, 0.2\n",
    "k2, mu2, ph2 = 0.1, 0.0, 0.2 + np.pi\n",
    "k3, mu3, ph3 = 0.08, 0.5, 0\n",
    "k4, mu4, ph4 = 0.08, -0.5, np.pi\n",
    "\n",
    "k13, mu13, ph13 = utl.addVectors(k1, mu1, ph1, k3, mu3, ph3)\n",
    "\n",
    "print(sho.BispectrumLO(k2, mu2, ph2, k13, mu13, ph13, k4, mu4, ph4, k.value, pk.value))\n",
    "print(sho.BispectrumLO(k2, mu2, ph2, k4, mu4, ph4, k13, mu13, ph13, k.value, pk.value))"
   ]
  },
  {
   "cell_type": "code",
   "execution_count": null,
   "metadata": {},
   "outputs": [],
   "source": [
    "pobs.compute_power_spectra()\n",
    "pobs.compute_power_spectra_moments()\n",
    "ng_Corr = sco.nonGuassianCov(pobs)"
   ]
  },
  {
   "cell_type": "code",
   "execution_count": null,
   "metadata": {},
   "outputs": [],
   "source": [
    "gauss = sco.Covariance(pobs)\n",
    "\n",
    "gg = gauss.gaussian_cov()"
   ]
  },
  {
   "cell_type": "code",
   "execution_count": null,
   "metadata": {},
   "outputs": [],
   "source": [
    "CT0 = ng_Corr.integrate_4h()"
   ]
  },
  {
   "cell_type": "code",
   "execution_count": null,
   "metadata": {},
   "outputs": [],
   "source": [
    "CB0 = ng_Corr.integrate_3h()"
   ]
  },
  {
   "cell_type": "code",
   "execution_count": null,
   "metadata": {},
   "outputs": [],
   "source": [
    "CP0 = ng_Corr.integrate_2h()"
   ]
  },
  {
   "cell_type": "code",
   "execution_count": null,
   "metadata": {},
   "outputs": [],
   "source": [
    "CV0 = ng_Corr.integrate_1h()"
   ]
  },
  {
   "cell_type": "code",
   "execution_count": null,
   "metadata": {},
   "outputs": [],
   "source": [
    "plt.loglog(k, CT0[:, 25, 0, 0])\n",
    "plt.loglog(k, CB0[:, 25, 0, 0])\n",
    "plt.loglog(k, CP0[:, 25, 0, 0])\n",
    "plt.loglog(k, CV0[:, 25])\n",
    "plt.scatter(k[25], gg[25, 0, 0, 0])"
   ]
  },
  {
   "cell_type": "code",
   "execution_count": null,
   "metadata": {},
   "outputs": [],
   "source": [
    "import itertools\n",
    "from scipy.special import roots_legendre"
   ]
  },
  {
   "cell_type": "code",
   "execution_count": null,
   "metadata": {},
   "outputs": [],
   "source": [
    "k = np.geomspace(2, 20, 20) * u.Mpc**-1\n",
    "kl = len(k)\n",
    "\n",
    "wl = 7\n",
    "xi, w = roots_legendre(wl)\n",
    "mu = xi\n",
    "z=1\n",
    "\n",
    "indexmenge = range(wl)\n",
    "I1 = np.empty((kl, wl))\n",
    "for imu1 in indexmenge:\n",
    "    Ii = pobs.halo_temperature_moments(z, k, mu[imu1], bias_order=1, moment=1)\n",
    "    I1[:,imu1] = Ii.value\n",
    "\n",
    "indexmenge = itertools.product(range(wl), repeat=2)\n",
    "I2 = np.empty((kl, kl, wl, wl))\n",
    "for imu1, imu2, in indexmenge:\n",
    "    Iij = pobs.halo_temperature_moments(z, k, k, mu[imu1], mu[imu2], bias_order=1, moment=2)\n",
    "    I2[:, :, imu1, imu2] = Iij.value\n",
    "\n",
    "indexmenge = itertools.product(range(wl), repeat=2)\n",
    "indexmengek = itertools.product(range(kl), repeat=2)\n",
    "I3 = np.zeros((kl, kl, wl, wl))\n",
    "for imu1, imu2, in indexmenge:\n",
    "    for ik1, ik2 in indexmengek:\n",
    "        Iijk = pobs.halo_temperature_moments(z, k[ik1], k[ik2], k[ik1], mu[imu1], mu[imu2], -mu[imu1], bias_order=1, moment=3)\n",
    "        I3[ik1, ik2, imu1, imu2] = Iijk.value"
   ]
  },
  {
   "cell_type": "code",
   "execution_count": null,
   "metadata": {},
   "outputs": [],
   "source": [
    "print(np.any(np.isnan(I1)), I1.shape)\n",
    "print(np.any(np.isnan(I2)), I2.shape)\n",
    "print(np.any(np.isnan(I3)), I3.shape)"
   ]
  },
  {
   "cell_type": "code",
   "execution_count": null,
   "metadata": {},
   "outputs": [],
   "source": [
    "plt.loglog(k,I1[:,0])\n",
    "plt.loglog(k,I2[:,0,0,0])\n",
    "plt.loglog(k,I3[:,0,0,0])"
   ]
  },
  {
   "cell_type": "code",
   "execution_count": null,
   "metadata": {},
   "outputs": [],
   "source": [
    "I3"
   ]
  },
  {
   "cell_type": "code",
   "execution_count": null,
   "metadata": {},
   "outputs": [],
   "source": [
    "f = pobs.ft_NFW(k, [5e8, 8e8, 11e8] * u.Msun, 0)\n",
    "plt.loglog(k, f)"
   ]
  },
  {
   "cell_type": "code",
   "execution_count": null,
   "metadata": {},
   "outputs": [],
   "source": [
    "mu1 = np.linspace(-1, 1, 200)\n",
    "mu2 = np.linspace(-1, 1, 7)\n",
    "mu2 = np.linspace(-0.99, 0.99, 7)\n",
    "\n",
    "Tmu = np.empty_like(mu1)\n",
    "\n",
    "for mui2 in mu2:\n",
    "    for imu, mui in enumerate(mu1):\n",
    "        Tmu[imu] = sho.TrispectrumL0(\n",
    "            k1,\n",
    "            mui,\n",
    "            0.1,\n",
    "            k1,\n",
    "            -mui,\n",
    "            np.pi + 0.1,\n",
    "            k3,\n",
    "            mui2,\n",
    "            1,\n",
    "            k3,\n",
    "            -mui2,\n",
    "            np.pi + 1,\n",
    "            k,\n",
    "            pk,\n",
    "        )\n",
    "        if np.isnan(Tmu[imu]):\n",
    "            print(mui, mui2)\n",
    "            sho.TrispectrumL0(\n",
    "                k2, mu2, ph2, k3, mu3, ph3, k4, mu4, ph4, k1, mu1, ph1, k, pk\n",
    "            )\n",
    "    plt.plot(mu1, Tmu, label=r\"$\\mu_2={:.2f}$\".format(mui2))\n",
    "\n",
    "plt.xlabel(r\"$k_1$ cosine angle $\\mu_1$\")\n",
    "plt.ylabel(\"Trispectrum squeezed $T_0$\")\n",
    "legend = plt.legend(title=r\"$k_2$ cosine angle\", fancybox=False, edgecolor=\"black\")\n",
    "legend.get_frame().set_facecolor((1, 1, 1, 0))  # Fully transparent background\n",
    "legend.get_frame().set_edgecolor(\"black\")  # Solid black border\n",
    "legend.get_frame().set_linewidth(2)  # Set border width\n",
    "\n",
    "# Set the plot border (spines) and tick width\n",
    "ax = plt.gca()  # Get the current axes3505071717386430.5\n",
    "for spine in ax.spines.values():  # Set the width of all spines (borders)\n",
    "    spine.set_linewidth(2)\n",
    "\n",
    "# Set tick parameters\n",
    "ax.tick_params(width=2, size=4, direction=\"in\")  # Set the tick width to 2\n",
    "# Show plot\n",
    "plt.show()"
   ]
  },
  {
   "cell_type": "code",
   "execution_count": null,
   "metadata": {},
   "outputs": [],
   "source": []
  }
 ],
 "metadata": {
  "kernelspec": {
   "display_name": "SSC-project",
   "language": "python",
   "name": "python3"
  },
  "language_info": {
   "codemirror_mode": {
    "name": "ipython",
    "version": 3
   },
   "file_extension": ".py",
   "mimetype": "text/x-python",
   "name": "python",
   "nbconvert_exporter": "python",
   "pygments_lexer": "ipython3",
   "version": "3.12.3"
  }
 },
 "nbformat": 4,
 "nbformat_minor": 2
}
