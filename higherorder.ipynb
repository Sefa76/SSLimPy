{
 "cells": [
  {
   "cell_type": "code",
   "execution_count": 14,
   "metadata": {},
   "outputs": [],
   "source": [
    "import numpy as np\n",
    "import astropy.units as u\n",
    "\n",
    "from SSLimPy.LIMsurvey import higherorder as sho\n",
    "from SSLimPy.utils import utils as utl"
   ]
  },
  {
   "cell_type": "code",
   "execution_count": 2,
   "metadata": {},
   "outputs": [],
   "source": [
    "k1 = 0.05\n",
    "k2 = 0.1"
   ]
  },
  {
   "cell_type": "code",
   "execution_count": null,
   "metadata": {},
   "outputs": [],
   "source": [
    "print(sho.vF2(k1, 1, k2, 0.4, np.pi))\n",
    "print(sho.vF2(k2, 0.4, k1, 1, -np.pi))"
   ]
  },
  {
   "cell_type": "code",
   "execution_count": null,
   "metadata": {},
   "outputs": [],
   "source": [
    "utl._addVectors(k2, 0.4, 0.2,\n",
    "        k2, -0.4, np.pi + 0.2,\n",
    "        )"
   ]
  },
  {
   "cell_type": "code",
   "execution_count": null,
   "metadata": {},
   "outputs": [],
   "source": [
    "sho.vF3(k1, -1, np.pi,\n",
    "        k2, 0.4, 0.2,\n",
    "        k2, -0.4, np.pi + 0.2,\n",
    "        )"
   ]
  },
  {
   "cell_type": "code",
   "execution_count": 6,
   "metadata": {},
   "outputs": [],
   "source": [
    "import SSLimPy.interface.sslimpy as sslimpy\n",
    "from SSLimPy.LIMsurvey import PowerSpectra"
   ]
  },
  {
   "cell_type": "code",
   "execution_count": null,
   "metadata": {},
   "outputs": [],
   "source": [
    "cosmodict={\"h\":0.67,\"Omegam\":0.32,\"Omegab\":0.04,\"As\":2.1e-9, \"mnu\":0.06}\n",
    "settings = {\"code\":\"class\",\n",
    "            \"do_RSD\" : True,\n",
    "            \"nonlinearRSD\" : True,\n",
    "            \"FoG_damp\" : \"ISTF_like\",\n",
    "            \"halo_model_PS\" : True,\n",
    "            \"Smooth_window\" : True,\n",
    "            }\n",
    "Asslimpy = sslimpy.sslimpy(settings_dict=settings,\n",
    "                           cosmopars=cosmodict)\n",
    "\n",
    "pobs = PowerSpectra.PowerSpectra(Asslimpy.fiducialcosmo,Asslimpy.fiducialastro)"
   ]
  },
  {
   "cell_type": "code",
   "execution_count": 8,
   "metadata": {},
   "outputs": [],
   "source": [
    "k = pobs.k.value\n",
    "pk = pobs.cosmology.matpow(pobs.k,0).value"
   ]
  },
  {
   "cell_type": "code",
   "execution_count": null,
   "metadata": {},
   "outputs": [],
   "source": [
    "sho.TrispectrumL0(k1, 1, 0,\n",
    "                  k1, -1, np.pi,\n",
    "                  k2, 0.4, 0.2,\n",
    "                  k2, -0.4, np.pi + 0.2,\n",
    "                  k, pk)"
   ]
  },
  {
   "cell_type": "code",
   "execution_count": 20,
   "metadata": {},
   "outputs": [],
   "source": [
    "import matplotlib.pyplot as plt\n"
   ]
  },
  {
   "cell_type": "code",
   "execution_count": null,
   "metadata": {},
   "outputs": [],
   "source": [
    "mu1 = np.linspace(-1,1,200)\n",
    "mu2 = np.linspace(-1,1,7)\n",
    "Tmu = np.empty_like(mu1)\n",
    "for mui2 in mu2:\n",
    "    for imu, mui in enumerate(mu1):\n",
    "        Tmu[imu] = sho.TrispectrumL0(k1, mui, 0, k1, -mui, np.pi, k2, mui2, 0.2, k2, -mui2, np.pi + 0.2, k, pk)\n",
    "    plt.plot(mu1, Tmu)"
   ]
  },
  {
   "cell_type": "code",
   "execution_count": null,
   "metadata": {},
   "outputs": [],
   "source": [
    "phi1 = np.linspace(-np.pi,np.pi,200)\n",
    "Tmu = np.empty_like(phi1)\n",
    "Tmuflipped = np.empty_like(Tmu)\n",
    "for iph, phi in enumerate(phi1):\n",
    "    Tmu[imu] = sho.TrispectrumL0(k1, 0, phi, k1, 0, np.pi + phi,\n",
    "                                 k2, 0.2, 0.2, k2, -0.2, np.pi + 0.2,k, pk)\n",
    "    Tmuflipped[imu] = sho.TrispectrumL0(k1, 0, np.pi + phi, k2, 0.2, 0.2,\n",
    "                                        k2, -0.2, np.pi + 0.2, k1, 0, phi,\n",
    "                                        k, pk)\n",
    "plt.plot(phi1, Tmu)\n",
    "plt.plot(phi1, Tmuflipped)\n"
   ]
  },
  {
   "cell_type": "code",
   "execution_count": 32,
   "metadata": {},
   "outputs": [],
   "source": [
    "import SSLimPy.LIMsurvey.Covariance as sco"
   ]
  },
  {
   "cell_type": "code",
   "execution_count": 12,
   "metadata": {},
   "outputs": [],
   "source": [
    "cov = sco.nonGuassianCov(pobs)"
   ]
  },
  {
   "cell_type": "code",
   "execution_count": null,
   "metadata": {},
   "outputs": [],
   "source": [
    "cov._integrate_4h(k1 * u.Mpc**-1,k2 * u.Mpc**-1)"
   ]
  },
  {
   "cell_type": "code",
   "execution_count": null,
   "metadata": {},
   "outputs": [],
   "source": []
  }
 ],
 "metadata": {
  "kernelspec": {
   "display_name": "SSC-project",
   "language": "python",
   "name": "python3"
  },
  "language_info": {
   "codemirror_mode": {
    "name": "ipython",
    "version": 3
   },
   "file_extension": ".py",
   "mimetype": "text/x-python",
   "name": "python",
   "nbconvert_exporter": "python",
   "pygments_lexer": "ipython3",
   "version": "3.12.3"
  }
 },
 "nbformat": 4,
 "nbformat_minor": 2
}
