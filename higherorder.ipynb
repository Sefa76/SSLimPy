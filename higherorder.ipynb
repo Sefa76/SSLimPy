{
 "cells": [
  {
   "cell_type": "code",
   "execution_count": null,
   "metadata": {},
   "outputs": [],
   "source": [
    "import numpy as np\n",
    "import astropy.units as u\n",
    "import os\n",
    "\n",
    "from SSLimPy.LIMsurvey import higherorder as sho\n",
    "from SSLimPy.utils import utils as utl\n",
    "import SSLimPy.interface.sslimpy as sslimpy\n",
    "from SSLimPy.LIMsurvey import PowerSpectra"
   ]
  },
  {
   "cell_type": "code",
   "execution_count": null,
   "metadata": {},
   "outputs": [],
   "source": [
    "x = np.linspace(-1,1,50)\n",
    "y = x**6\n",
    "utl.gauss_legendre(y,x,0,1)"
   ]
  },
  {
   "cell_type": "code",
   "execution_count": null,
   "metadata": {},
   "outputs": [],
   "source": [
    "1/7"
   ]
  },
  {
   "cell_type": "code",
   "execution_count": null,
   "metadata": {},
   "outputs": [],
   "source": [
    "envkey = \"OMP_NUM_THREADS\"\n",
    "# Set this environment variable to the number of available cores in your machine,\n",
    "# to get a fast execution of the Einstein Boltzmann Solver\n",
    "print(\"The value of {:s} is: \".format(envkey), os.environ.get(envkey))\n",
    "os.environ[envkey] = str(12)\n",
    "print(\"The value of {:s} is: \".format(envkey), os.environ.get(envkey))"
   ]
  },
  {
   "cell_type": "code",
   "execution_count": null,
   "metadata": {},
   "outputs": [],
   "source": [
    "cosmodict={\"h\":0.67,\"Omegam\":0.32,\"Omegab\":0.04,\"As\":2.1e-9, \"mnu\":0.06}\n",
    "settings = {\"code\":\"class\",\n",
    "            \"do_RSD\" : True,\n",
    "            \"nonlinearRSD\" : True,\n",
    "            \"FoG_damp\" : \"ISTF_like\",\n",
    "            \"halo_model_PS\" : True,\n",
    "            \"Smooth_window\" : True,\n",
    "            \"kmin\": 0.004 * u.Mpc**-1,\n",
    "            \"kmax\": 0.1 * u.Mpc**-1,\n",
    "            \"nk\":50\n",
    "            }\n",
    "Asslimpy = sslimpy.sslimpy(settings_dict=settings,\n",
    "                           cosmopars=cosmodict)\n",
    "\n",
    "pobs = PowerSpectra.PowerSpectra(Asslimpy.fiducialcosmo,Asslimpy.fiducialastro)"
   ]
  },
  {
   "cell_type": "code",
   "execution_count": null,
   "metadata": {},
   "outputs": [],
   "source": [
    "k = pobs.k.value\n",
    "pk = pobs.cosmology.matpow(pobs.k,0).value"
   ]
  },
  {
   "cell_type": "code",
   "execution_count": null,
   "metadata": {},
   "outputs": [],
   "source": [
    "k1 = 0.1\n",
    "k2 = 0.06\n",
    "\n",
    "print(sho.TrispectrumL0(k1, -0.9899497487437185, 0,\n",
    "                  k1, 0.9899497487437185, np.pi,\n",
    "                  k2, 1, 0.2,\n",
    "                  k2, -1, np.pi + 0.2,\n",
    "                  k, pk))\n",
    "\n",
    "print(sho.TrispectrumL0(k1, -1, 0,\n",
    "                  k1, 1, np.pi,\n",
    "                  k2, 1, 0.2,\n",
    "                  k2, -1, np.pi + 0.2,\n",
    "                  k, pk))\n",
    "\n"
   ]
  },
  {
   "cell_type": "code",
   "execution_count": null,
   "metadata": {},
   "outputs": [],
   "source": [
    "import SSLimPy.LIMsurvey.Covariance as sco\n",
    "ng_Corr = sco.nonGuassianCov(pobs)"
   ]
  },
  {
   "cell_type": "code",
   "execution_count": null,
   "metadata": {},
   "outputs": [],
   "source": [
    "CT0 = ng_Corr._integrate_4h()"
   ]
  },
  {
   "cell_type": "code",
   "execution_count": null,
   "metadata": {},
   "outputs": [],
   "source": [
    "CT0.shape"
   ]
  },
  {
   "cell_type": "code",
   "execution_count": null,
   "metadata": {},
   "outputs": [],
   "source": [
    "k = pobs.k\n",
    "np.array([pobs.halomoments(ki, 1, bias_order=1, moment=1).value for ki in k])"
   ]
  },
  {
   "cell_type": "code",
   "execution_count": null,
   "metadata": {},
   "outputs": [],
   "source": [
    "sho.TrispectrumL0(k1, -1, 0,\n",
    "                  k1, 1, np.pi,\n",
    "                  k1, 1, 0.2,\n",
    "                  k1, -1, np.pi + 0.2,\n",
    "                  k, pk)"
   ]
  },
  {
   "cell_type": "code",
   "execution_count": null,
   "metadata": {},
   "outputs": [],
   "source": [
    "k1 = 0.05\n",
    "k2 = 0.1\n",
    "k = pobs.k.value\n",
    "pk = pobs.cosmology.matpow(pobs.k,0).value"
   ]
  },
  {
   "cell_type": "code",
   "execution_count": null,
   "metadata": {},
   "outputs": [],
   "source": [
    "import matplotlib.pyplot as plt"
   ]
  },
  {
   "cell_type": "code",
   "execution_count": null,
   "metadata": {},
   "outputs": [],
   "source": [
    "mu1 = np.linspace(-1,1,200)\n",
    "mu2 = np.linspace(-1,1,7)\n",
    "Tmu = np.empty_like(mu1)\n",
    "\n",
    "for mui2 in mu2:\n",
    "    for imu, mui in enumerate(mu1):\n",
    "        Tmu[imu] = sho.TrispectrumL0(k1, mui, 0.1, k1, -mui, np.pi+0.1, k2, mui2, 1, k2, -mui2, np.pi + 1, k, pk)\n",
    "        if np.isnan(Tmu[imu]):\n",
    "            print(mui, mui2)\n",
    "            break\n",
    "    plt.plot(mu1, Tmu, label=\"$\\mu_2={:.2f}$\".format(mui2))\n",
    "\n",
    "plt.xlabel(r\"$k_1$ cosine angle $\\mu_1$\")\n",
    "plt.ylabel(\"Trispectrum squeezed $T_0$\")\n",
    "legend = plt.legend(title=r\"$k_2$ cosine angle\", fancybox=False, edgecolor=\"black\")\n",
    "legend.get_frame().set_facecolor((1, 1, 1, 0))  # Fully transparent background\n",
    "legend.get_frame().set_edgecolor('black')        # Solid black border\n",
    "legend.get_frame().set_linewidth(2)              # Set border width\n",
    "\n",
    "# Set the plot border (spines) and tick width\n",
    "ax = plt.gca()  # Get the current axes\n",
    "for spine in ax.spines.values():  # Set the width of all spines (borders)\n",
    "    spine.set_linewidth(2)\n",
    "\n",
    "# Set tick parameters\n",
    "ax.tick_params(width=2, size=4, direction=\"in\")  # Set the tick width to 2\n",
    "# Show plot\n",
    "plt.show()"
   ]
  },
  {
   "cell_type": "code",
   "execution_count": null,
   "metadata": {},
   "outputs": [],
   "source": [
    "k1, mu1, ph1 = 0.1, 0.0, 0.2\n",
    "k2, mu2, ph2 = 0.1, 0.0, 0.2 + np.pi\n",
    "k3, mu3, ph3 = 0.08, 0.5, 0\n",
    "k4, mu4, ph4 = 0.08, -0.5, np.pi\n",
    "\n",
    "print(\n",
    "sho.TrispectrumL0(k1, mu1, ph1,\n",
    "                  k2, mu2, ph2,\n",
    "                  k3, mu3, ph3,\n",
    "                  k4, mu4, ph4,\n",
    "                  k, pk)\n",
    ")\n",
    "print(\n",
    "sho.TrispectrumL0(k2, mu2, ph2,\n",
    "                  k3, mu3, ph3,\n",
    "                  k4, mu4, ph4,\n",
    "                  k1, mu1, ph1,\n",
    "                  k, pk)\n",
    ")"
   ]
  },
  {
   "cell_type": "code",
   "execution_count": null,
   "metadata": {},
   "outputs": [],
   "source": []
  }
 ],
 "metadata": {
  "kernelspec": {
   "display_name": "SSC-project",
   "language": "python",
   "name": "python3"
  },
  "language_info": {
   "codemirror_mode": {
    "name": "ipython",
    "version": 3
   },
   "file_extension": ".py",
   "mimetype": "text/x-python",
   "name": "python",
   "nbconvert_exporter": "python",
   "pygments_lexer": "ipython3",
   "version": "3.12.3"
  }
 },
 "nbformat": 4,
 "nbformat_minor": 2
}
