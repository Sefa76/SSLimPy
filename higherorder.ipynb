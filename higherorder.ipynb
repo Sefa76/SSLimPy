{
 "cells": [
  {
   "cell_type": "code",
   "execution_count": null,
   "metadata": {},
   "outputs": [],
   "source": [
    "import os\n",
    "\n",
    "import astropy.units as u\n",
    "import matplotlib.pyplot as plt\n",
    "import numpy as np\n",
    "from scipy import special as spf\n",
    "\n",
    "import SSLimPy.interface.sslimpy as sslimpy\n",
    "import SSLimPy.LIMsurvey.Covariance as sco\n",
    "from SSLimPy.LIMsurvey import PowerSpectra\n",
    "from SSLimPy.LIMsurvey import higherorder as sho\n",
    "from SSLimPy.utils import utils as utl"
   ]
  },
  {
   "cell_type": "code",
   "execution_count": null,
   "metadata": {},
   "outputs": [],
   "source": [
    "envkey = \"OMP_NUM_THREADS\"\n",
    "# Set this environment variable to the number of available cores in your machine,\n",
    "# to get a fast execution of the Einstein Boltzmann Solver\n",
    "print(\"The value of {:s} is: \".format(envkey), os.environ.get(envkey))\n",
    "os.environ[envkey] = str(12)\n",
    "print(\"The value of {:s} is: \".format(envkey), os.environ.get(envkey))"
   ]
  },
  {
   "cell_type": "code",
   "execution_count": null,
   "metadata": {},
   "outputs": [],
   "source": [
    "cosmodict = {\"h\": 0.68, \"Omegam\": 0.3, \"Omegab\": 0.04, \"As\": 2.1e-9, \"mnu\": 0.06}\n",
    "settings = {\n",
    "    \"code\": \"class\",\n",
    "    \"do_RSD\": True,\n",
    "    \"nonlinearRSD\": True,\n",
    "    \"FoG_damp\": \"ISTF_like\",\n",
    "    \"halo_model_PS\": True,\n",
    "    \"Smooth_window\": False,\n",
    "    \"kmin\": 5e-3 * u.Mpc**-1,\n",
    "    \"kmax\": 10 * u.Mpc**-1,\n",
    "    \"nk\": 100,\n",
    "}\n",
    "\n",
    "# Deactivate LIM for testing\n",
    "astrodict = {\n",
    "    \"model_type\":\"ML\",\n",
    "    \"model_name\":\"MassPow\",\n",
    "    \"model_par\": {\n",
    "        \"A\":1,\n",
    "        \"b\":0\n",
    "    },\n",
    "    \"Mmin\" : 1e3 * u.Msun,\n",
    "    \"Mmax\" : 1e16 * u.Msun,\n",
    "    \"nM\" : 256,\n",
    "}\n",
    "Asslimpy = sslimpy.sslimpy(settings_dict=settings, cosmopars=cosmodict, astropars=astrodict)\n",
    "\n",
    "pobs = PowerSpectra.PowerSpectra(Asslimpy.fiducialcosmo, Asslimpy.fiducialastro)"
   ]
  },
  {
   "cell_type": "code",
   "execution_count": null,
   "metadata": {},
   "outputs": [],
   "source": [
    "M = pobs.astro.M\n",
    "z = 2\n",
    "\n",
    "b1 = pobs.astro.bias_coevolution.b1(M, z, 1.68)\n",
    "b2 = pobs.astro.bias_coevolution.b2(M, z, 1.68)\n",
    "b3 = pobs.astro.bias_coevolution.b3(M, z, 1.68)"
   ]
  },
  {
   "cell_type": "code",
   "execution_count": null,
   "metadata": {},
   "outputs": [],
   "source": [
    "plt.semilogx(M, b1, label=\"$b_1$\")\n",
    "plt.semilogx(M, b2, label=\"$b_2$\")\n",
    "plt.semilogx(M, b3/6, label=\"$b_3/6$\")\n",
    "plt.xlabel(r\"$M \\:[M_\\odot]$\")\n",
    "plt.ylabel(\"halo bias\")\n",
    "plt.legend()\n",
    "plt.ylim((-3,5))\n"
   ]
  },
  {
   "cell_type": "code",
   "execution_count": null,
   "metadata": {},
   "outputs": [],
   "source": [
    "dndM = pobs.astro.bias_coevolution.sc_hmf(M, z, 1.68)\n",
    "#dndM.shape\n",
    "plt.loglog(M,M[:,None] * b1[:, None] * dndM, c=\"blue\", label=\"$b_1$\")\n",
    "plt.loglog(M,M[:,None] * b2[:, None] * dndM, c=\"orange\", label=\"$b_2$\")\n",
    "plt.loglog(M,M[:,None] * -b2[:, None] * dndM, ls=\"--\", c=\"orange\")\n",
    "plt.loglog(M,M[:,None] * (b3/6)[:, None] * dndM, c=\"green\", label=\"$b_3/6$\")\n",
    "plt.loglog(M,M[:,None] * -(b3/6)[:, None] * dndM, ls=\"--\",c=\"green\")\n",
    "plt.legend()\n",
    "plt.xlabel(r\"$M$ $[M_\\odot]$\")\n",
    "plt.ylabel(r\"M $\\times$ halo bias $\\times$ HMF $[\\mathrm{Mpc}^{-3}]$\")\n"
   ]
  },
  {
   "cell_type": "code",
   "execution_count": null,
   "metadata": {},
   "outputs": [],
   "source": [
    "dndM = pobs.astro.bias_coevolution.sc_hmf(M, [0, 1, 2], 1.686).to(u.Msun**-1 * u.Mpc**-3)\n",
    "dndM_og = pobs.astro.halomassfunction(M, [0, 1, 2]).to(u.Msun**-1 * u.Mpc**-3)\n",
    "fig, axs = plt.subplots(2, 1, sharex=True, height_ratios=[3,1])\n",
    "ca = [\"blue\", \"orange\", \"green\"]\n",
    "for ic, ci in enumerate(ca):\n",
    "    axs[0].loglog(M, M * dndM[:,ic], c=ci, ls=\"-\")\n",
    "    axs[0].loglog(M, M * dndM_og[:,ic], c=ci, ls=\"--\")\n",
    "    axs[1].semilogx(M, (dndM/dndM_og-1).to(1)[:,ic]*100, color=ci)\n",
    "fig.subplots_adjust(hspace=0)\n",
    "axs[0].plot([],[], c=ca[0], label=\"$z$=0\")\n",
    "axs[0].plot([],[], c=ca[1], label=\"$z$=1\")\n",
    "axs[0].plot([],[], c=ca[2], label=\"$z$=2\")\n",
    "axs[1].set_xlabel(r\"$M$ $[M_\\odot]$\")\n",
    "axs[0].set_ylabel(r\"$M \\times$ HMF $[\\mathrm{Mpc}^{-3}]$\")\n",
    "axs[1].set_ylabel(r\"% rel deviation\")\n",
    "\n",
    "axs[0].legend(ncol=3)"
   ]
  },
  {
   "cell_type": "code",
   "execution_count": null,
   "metadata": {},
   "outputs": [],
   "source": [
    "sigmaM = pobs.astro.sigmaM(M,z)\n",
    "plt.loglog(M,(1.6865/sigmaM)**2)\n",
    "plt.xlabel(r\"$M \\:[M_\\odot]$\")\n",
    "plt.ylabel(r\"Colapsefraction $\\nu=(\\delta_{\\rm c}/\\sigma(M))^2$\")"
   ]
  },
  {
   "cell_type": "code",
   "execution_count": null,
   "metadata": {},
   "outputs": [],
   "source": [
    "R = np.geomspace(1e-4, 1e3)*pobs.astro.Mpch\n",
    "sigmaR = pobs.cosmology.sigmaR_of_z(R, z, tracer=\"clustering\")"
   ]
  },
  {
   "cell_type": "code",
   "execution_count": null,
   "metadata": {},
   "outputs": [],
   "source": [
    "plt.loglog(R, sigmaR)"
   ]
  },
  {
   "cell_type": "code",
   "execution_count": null,
   "metadata": {},
   "outputs": [],
   "source": [
    "nuM =  (1.6865/sigmaM)**2\n",
    "nu = np.geomspace(min(nuM), max(nuM),num=256)\n",
    "Fdv = pobs.astro.bias_coevolution.unnorm_collapsefunction(nu)\n",
    "plt.loglog(nu,Fdv)\n",
    "1/np.trapz(Fdv, nu)"
   ]
  },
  {
   "cell_type": "code",
   "execution_count": null,
   "metadata": {},
   "outputs": [],
   "source": [
    "k = pobs.k\n",
    "ff = pobs.ft_NFW(k, M, 0)\n",
    "dndM = pobs.astro.bias_coevolution.sc_hmf(M,z,1.6865)[:,0]\n",
    "\n",
    "plt.loglog(k, ff**2, c=\"red\", alpha=0.1)\n",
    "plt.loglog(k, ff, \"-k\", alpha=0.1)M\n",
    "¯ρ \n",
    "plt.xlabel(r\"$k [\\mathrm{Mpc}^{-1}]$\")\n",
    "plt.ylabel(\"Fourier Transformed NFW\")\n",
    "plt.loglog([],[],c=\"black\", label=\"Halo\")\n",
    "plt.loglog([],[],c=\"red\", label=\"Halo^2\")\n",
    "plt.legend()\n",
    "\n",
    "\"okay\""
   ]
  },
  {
   "cell_type": "code",
   "execution_count": null,
   "metadata": {},
   "outputs": [],
   "source": [
    "dndM.shape"
   ]
  },
  {
   "cell_type": "code",
   "execution_count": null,
   "metadata": {},
   "outputs": [],
   "source": [
    "\n",
    "\n",
    "plt.loglog(k,ff[:, 0],label=\"lowest mass\")\n",
    "plt.loglog(k,ff[:, -1],label=\"highest mass\")\n",
    "plt.legend()"
   ]
  },
  {
   "cell_type": "code",
   "execution_count": null,
   "metadata": {},
   "outputs": [],
   "source": [
    "z = 0\n",
    "k = pobs.k\n",
    "mu, wi = spf.roots_legendre(9)"
   ]
  },
  {
   "cell_type": "code",
   "execution_count": null,
   "metadata": {},
   "outputs": [],
   "source": [
    "Pk = pobs.cosmology.matpow(k, z, tracer=\"clustering\").to(u.Mpc**3)\n",
    "f = pobs.cosmology.growth_rate(1e-3 * u.Mpc**-1, z, tracer=\"clustering\")\n",
    "q = (k[1:]+k[:-1])/2\n",
    "\n",
    "Lmb1 = pobs.astro.bavghalo(\"b1\", z, 1)\n",
    "L2mb1 = pobs.astro.bavghalo(\"b1\", z, 2)\n",
    "\n",
    "rsP = sho.PowerSpectrumLO(Lmb1.item(), L2mb1.item(), f.item(), q, mu, 0, k, Pk.value)"
   ]
  },
  {
   "cell_type": "code",
   "execution_count": null,
   "metadata": {},
   "outputs": [],
   "source": [
    "I01 = pobs.reduced_halo_temperature_moments(z, q, mu, moment=1).to(u.uK)\n",
    "I01 = I01[:,0,0]\n",
    "I02 = pobs.reduced_halo_temperature_moments(z, q, q, mu, mu,moment=2).to(u.uK**2 * u.Mpc**3)\n",
    "uI02 = I02[0,0,0,0,0].unit\n",
    "a = [I02[iq, iq, 0,0 ,0].value for iq in range(len(q))]\n",
    "I02 = (np.array(a) * uI02)\n",
    "\n",
    "P = I01[:, None]**2 * rsP*u.Mpc**3 + I02[:, None]"
   ]
  },
  {
   "cell_type": "code",
   "execution_count": null,
   "metadata": {},
   "outputs": [],
   "source": [
    "P0 = np.sum(P* wi * spf.legendre(0)(mu),axis=-1)\n",
    "P2 = np.sum(P* wi * spf.legendre(2)(mu),axis=-1)\n",
    "P4 = np.sum(P* wi * spf.legendre(4)(mu),axis=-1)"
   ]
  },
  {
   "cell_type": "code",
   "execution_count": null,
   "metadata": {},
   "outputs": [],
   "source": [
    "plt.loglog(q, q * P0, label=\"Monopol\")\n",
    "plt.loglog(q, q * P2, label=\"Quadrupole\")\n",
    "plt.loglog(q, q * P4, label=\"Hexadecipol\")\n",
    "plt.xlabel(r\"$k\\:[\\mathrm{Mpc}^{-1}]$\")\n",
    "plt.ylabel(r\"$k\\,P_\\ell(k)\\:[\\mathrm{Mpc}^{2}]$\")\n",
    "plt.legend()\n",
    "plt.loglog(k,k*Pk*pobs.astro.CLT(z)**2, ls=\":\", c=\"black\")"
   ]
  },
  {
   "cell_type": "code",
   "execution_count": null,
   "metadata": {},
   "outputs": [],
   "source": [
    "#compare to [0506395]\n",
    "Mtest = (np.geomspace(1e10,1e16)*pobs.astro.Msunh).to(u.Msun)\n",
    "logMt = np.log(Mtest.value)\n",
    "dndlnM = (pobs.astro.bias_coevolution.sc_hmf(M,z,1.6865)[:,0] * M).to(u.Mpc**-3)\n",
    "\n",
    "# power-law extrapolation (not correct the cut off is much steeper)\n",
    "logM = np.log((M.to(u.Msun).value))\n",
    "logy = np.log(dndlnM.value)\n",
    "y = np.exp(utl.linear_interpolate(logM, logy, logMt))*u.Mpc**-3\n",
    "y = y.to(pobs.astro.Mpch**-3)"
   ]
  },
  {
   "cell_type": "code",
   "execution_count": null,
   "metadata": {},
   "outputs": [],
   "source": [
    "plt.loglog(Mtest.to(pobs.astro.Msunh),y)\n",
    "plt.xlim(1e10,1e16)\n",
    "plt.grid(visible=True)\n",
    "plt.xlabel(r\"$M \\:[h^{-1} M_\\odot]$\")\n",
    "plt.ylabel(r\"$\\mathrm{d}n/\\mathrm{dln}M\\: [h^3 \\mathrm{Mpc}^{-3}]$\")"
   ]
  },
  {
   "cell_type": "code",
   "execution_count": null,
   "metadata": {},
   "outputs": [],
   "source": [
    "#direct computation of the shotnoise\n",
    "Psh = np.trapz(dndM[:]* M, np.log(M.value)) * pobs.astro.CLT(z)**2\n",
    "Psh"
   ]
  },
  {
   "cell_type": "code",
   "execution_count": null,
   "metadata": {},
   "outputs": [],
   "source": [
    "plt.loglog(q, P0, label=\"Monopol\")\n",
    "plt.loglog(q, P2, label=\"Quadrupole\")\n",
    "plt.loglog(q, P4, label=\"Hexadecipol\")\n",
    "plt.xlabel(r\"$k\\:[\\mathrm{Mpc}^{-1}]$\")\n",
    "plt.ylabel(r\"$k\\,P_\\ell(k)\\:[\\mathrm{Mpc}^{2}]$\")\n",
    "plt.legend()\n",
    "plt.loglog(k,k*Pk*pobs.astro.CLT(z)**2, ls=\":\", c=\"black\")\n",
    "plt.loglog(k,k*Psh, ls=\"--\", c=\"black\")"
   ]
  },
  {
   "cell_type": "code",
   "execution_count": null,
   "metadata": {},
   "outputs": [],
   "source": []
  }
 ],
 "metadata": {
  "kernelspec": {
   "display_name": "SSC-project",
   "language": "python",
   "name": "python3"
  },
  "language_info": {
   "codemirror_mode": {
    "name": "ipython",
    "version": 3
   },
   "file_extension": ".py",
   "mimetype": "text/x-python",
   "name": "python",
   "nbconvert_exporter": "python",
   "pygments_lexer": "ipython3",
   "version": "3.12.3"
  }
 },
 "nbformat": 4,
 "nbformat_minor": 2
}
