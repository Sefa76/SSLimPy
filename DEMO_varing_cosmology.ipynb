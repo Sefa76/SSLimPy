{
 "cells": [
  {
   "cell_type": "code",
   "execution_count": 1,
   "metadata": {},
   "outputs": [],
   "source": [
    "import matplotlib.pyplot as plt\n",
    "import numpy as np\n",
    "import SSLimPy.interface.sslimpy as sslimpy\n",
    "from copy import copy\n",
    "\n",
    "import astropy.units as u"
   ]
  },
  {
   "cell_type": "code",
   "execution_count": null,
   "metadata": {},
   "outputs": [],
   "source": [
    "cosmodict={\"h\":0.67,\"Omegam\":0.32,\"Omegab\":0.04,\"As\":2.1e-9, \"mnu\":0.06}\n",
    "settings = {\"code\":\"class\",\n",
    "            \"do_RSD\" : True,\n",
    "            \"nonlinearRSD\" : True,\n",
    "            \"FoG_damp\" : \"ISTF_like\",\n",
    "            \"do_onehalo\" : True,\n",
    "            \"halo_model_PS\" : False,\n",
    "            \"output\" : [\"Power spectrum\"],\n",
    "            }\n",
    "\n",
    "Asslimpy = sslimpy.sslimpy(settings_dict=settings,\n",
    "                           cosmopars=cosmodict)"
   ]
  },
  {
   "cell_type": "code",
   "execution_count": 3,
   "metadata": {},
   "outputs": [],
   "source": [
    "cosmodict={\n",
    "        \"h\":0.67,\n",
    "        \"Omegam\":0.32,\n",
    "        \"Omegab\":0.04,\n",
    "        \"As\":2.1e-9, \n",
    "        \"mnu\":0.06}\n",
    "\n",
    "astrodict = {\n",
    "    \"model_type\": \"LF\",\n",
    "    \"model_name\": \"SchCut\",\n",
    "    \"model_par\":{\n",
    "        \"phistar\": 9.6e-11 * u.Lsun**-1 * u.Mpc**-3,\n",
    "        \"Lstar\": 2.1e6 * u.Lsun,\n",
    "        \"alpha\": -1.87,\n",
    "        \"Lmin\": 5000 * u.Lsun,\n",
    "    },\n",
    "    \"nu\" : 115*u.GHz,\n",
    "    \"nuObs\" : [30,60]*u.GHz,\n",
    "}\n",
    "\n",
    "BAOdict = {\n",
    "    \"Pshot\":[0,0],\n",
    "    \"sigmaV\":[5,8],\n",
    "}"
   ]
  },
  {
   "cell_type": "markdown",
   "metadata": {},
   "source": [
    "# testing model\n",
    "def v_of_M(M):\n",
    "    v0 = 300 * u.km / u.s \n",
    "    return v0 * np.power(M/ (1e10*u.Msun),1/2) \n",
    "\n",
    "astrodict = {\n",
    "    \"model_type\": \"ML\",\n",
    "    \"model_name\": \"MassPow\",\n",
    "    \"model_par\": {\n",
    "        'A':2e-6,\n",
    "        'b':1.,\n",
    "        },\n",
    "    \"v_of_M\" : v_of_M,\n",
    "}"
   ]
  },
  {
   "cell_type": "code",
   "execution_count": null,
   "metadata": {},
   "outputs": [],
   "source": [
    "Asslimpy.compute(\n",
    "                cosmopars=cosmodict,\n",
    "                astropars=astrodict,\n",
    "                BAOpars=BAOdict,\n",
    "                )"
   ]
  },
  {
   "cell_type": "markdown",
   "metadata": {},
   "source": [
    "## Lets try to Compute the derivative of P_0 with respect to h "
   ]
  },
  {
   "cell_type": "code",
   "execution_count": null,
   "metadata": {},
   "outputs": [],
   "source": [
    "fidh = cosmodict[\"h\"]\n",
    "eps = 1e-2\n",
    "steph = [fidh*(1-eps),fidh,fidh*(1+eps)]\n",
    "\n",
    "P0_t = []\n",
    "k = []\n",
    "for h in steph:\n",
    "    temp_cosmo = copy(cosmodict)\n",
    "    temp_cosmo[\"h\"] = h\n",
    "    returnclass = Asslimpy.compute(\n",
    "                    cosmopars=temp_cosmo,\n",
    "                    astropars=astrodict,\n",
    "                    BAOpars=BAOdict,\n",
    "                    )[\"Power spectrum\"]\n",
    "    P0_t.append(returnclass.Pk_0bs)\n",
    "    k.append( returnclass.k)\n",
    "\n",
    "P0_t = np.array(P0_t)"
   ]
  },
  {
   "cell_type": "code",
   "execution_count": null,
   "metadata": {},
   "outputs": [],
   "source": [
    "fig, axs = plt.subplots(2,1,sharex=True,height_ratios=[3,1])\n",
    "k = np.array(k)\n",
    "alpha = [0.6,0.8,1]\n",
    "for ia, ai in enumerate(alpha):\n",
    "    axs[0].loglog(k[0,:100], P0_t[ia,:100,0], c=\"darkgoldenrod\", alpha=ai)\n",
    "    axs[0].loglog(k[0,:100], P0_t[ia,:100,1], c=\"indigo\", alpha=ai)\n",
    "\n",
    "axs[0].set_ylabel(r\"$P_0(k)$ $[\\mathrm{Mpc}^{3}]$\")\n",
    "axs[1].set_ylabel(r\"$\\mathrm{d} \\log{P_0(k)}/\\mathrm{d} \\log{h}$\")\n",
    "axs[1].set_xlabel(r\"k $[\\mathrm{Mpc}^{-1}]$\")\n",
    "\n",
    "dP = (P0_t[2,:,:] - P0_t[0,:,:]) / P0_t[1,:,:] / (2*eps)\n",
    "axs[1].plot(k[0,:100],dP[:100,0],c=\"darkgoldenrod\")\n",
    "axs[1].plot(k[0,:100],dP[:100,1],c=\"indigo\")\n",
    "\n",
    "fig.subplots_adjust(hspace=0)"
   ]
  }
 ],
 "metadata": {
  "kernelspec": {
   "display_name": "SSC_for_LIM",
   "language": "python",
   "name": "python3"
  },
  "language_info": {
   "codemirror_mode": {
    "name": "ipython",
    "version": 3
   },
   "file_extension": ".py",
   "mimetype": "text/x-python",
   "name": "python",
   "nbconvert_exporter": "python",
   "pygments_lexer": "ipython3",
   "version": "3.12.3"
  }
 },
 "nbformat": 4,
 "nbformat_minor": 2
}
