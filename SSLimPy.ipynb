{
 "cells": [
  {
   "cell_type": "code",
   "execution_count": 1,
   "metadata": {},
   "outputs": [],
   "source": [
    "import copy\n",
    "import os\n",
    "\n",
    "import astropy.units as u\n",
    "import matplotlib.pyplot as plt\n",
    "import numpy as np\n",
    "from scipy.integrate import trapezoid\n",
    "from scipy.interpolate import RectBivariateSpline\n",
    "from scipy.special import legendre\n",
    "\n",
    "import SSLimPy.interface.sslimpy as sslimpy\n",
    "from SSLimPy.LIMsurvey import Covariance, PowerSpectra"
   ]
  },
  {
   "cell_type": "code",
   "execution_count": 2,
   "metadata": {},
   "outputs": [],
   "source": [
    "envkey = 'OMP_NUM_THREADS'\n",
    "# Set this environment variable to the number of available cores in your machine,\n",
    "# to get a fast execution of the Einstein Boltzmann Solver\n",
    "os.environ[envkey] = str(7)"
   ]
  },
  {
   "cell_type": "code",
   "execution_count": null,
   "metadata": {},
   "outputs": [],
   "source": [
    "cosmodict={\"h\":0.67,\"Omegam\":0.32,\"Omegab\":0.04,\"As\":2.1e-9, \"mnu\":0.06}\n",
    "settings = {\"code\":\"class\",\n",
    "            \"do_RSD\" : True,\n",
    "            \"nonlinearRSD\" : True,\n",
    "            \"FoG_damp\" : \"ISTF_like\",\n",
    "            \"halo_model_PS\" : True,\n",
    "            \"Smooth_window\" : True,\n",
    "            }\n",
    "Asslimpy = sslimpy.sslimpy(settings_dict=settings,\n",
    "                           cosmopars=cosmodict)"
   ]
  },
  {
   "cell_type": "code",
   "execution_count": 4,
   "metadata": {},
   "outputs": [],
   "source": [
    "pobs = PowerSpectra.PowerSpectra(Asslimpy.fiducialcosmo,Asslimpy.fiducialastro)"
   ]
  },
  {
   "cell_type": "code",
   "execution_count": null,
   "metadata": {},
   "outputs": [],
   "source": [
    "q = pobs.k\n",
    "mu = pobs.mu\n",
    "W, Vs = pobs.Wsurvey(q,mu)\n",
    "\n",
    "index = np.array(range(19))\n",
    "for i in index:\n",
    "    plt.loglog(q,q**3*np.abs(W[:,i*7,0])**2, c=\"RoyalBlue\", alpha=np.abs(mu[i*7]))\n",
    "plt.xlabel(r\"$ k [\\mathrm{Mpc}^{-1}] $\")\n",
    "plt.ylabel(r\"$ k^3 \\|W_\\mathrm{survey}\\|^2 [\\mathrm{Mpc}^{3}] $\")\n"
   ]
  },
  {
   "cell_type": "code",
   "execution_count": null,
   "metadata": {},
   "outputs": [],
   "source": [
    "Pk = pobs.Pk_true\n",
    "Pconv = pobs.Pk_Obs\n",
    "\n",
    "for i in index:\n",
    "    plt.loglog(q[:150],Pk[:150,i*7,0], c=\"crimson\", alpha=np.abs(mu[i*7]))\n",
    "    plt.loglog(q[:150],Pconv[:150,i*7,0], c=\"RoyalBlue\", alpha=np.abs(mu[i*7]))\n",
    "plt.xlabel(r\"$ k [\\mathrm{Mpc}^{-1}] $\")\n",
    "plt.ylabel(r\"$ \\tilde{P} [\\mathrm{Mpc}^{3}] $\")\n",
    "plt.plot([],[],c=\"crimson\", label=\"Power Spectrum\")\n",
    "plt.plot([],[],c=\"royalblue\", label=\"Convolved Power Spectrum\")\n",
    "plt.legend()"
   ]
  },
  {
   "cell_type": "code",
   "execution_count": 18,
   "metadata": {},
   "outputs": [],
   "source": [
    "monopole_conv = trapezoid(Pconv[:,:,0],mu)\n",
    "monopole_theory = trapezoid(Pk[:,:,0],mu)\n",
    "qua_conv = trapezoid(legendre(2)(mu)*Pconv[:,:,0],mu)\n",
    "qua_theory = trapezoid(legendre(2)(mu)*Pk[:,:,0],mu)"
   ]
  },
  {
   "cell_type": "code",
   "execution_count": null,
   "metadata": {},
   "outputs": [],
   "source": [
    "\n",
    "plt.loglog(q[:150], monopole_theory[:150],c=\"crimson\")\n",
    "plt.loglog(q[:150], qua_theory[:150],c=\"crimson\")\n",
    "plt.loglog(q[:150], -qua_theory[:150],c=\"crimson\",ls=\"--\")\n",
    "\n",
    "\n",
    "plt.loglog(q[:150], monopole_conv[:150],c=\"RoyalBlue\")\n",
    "plt.loglog(q[:150], qua_conv[:150],c=\"RoyalBlue\")\n",
    "plt.loglog(q[:150], -qua_conv[:150],c=\"RoyalBlue\",ls=\"--\")\n"
   ]
  },
  {
   "cell_type": "code",
   "execution_count": null,
   "metadata": {},
   "outputs": [],
   "source": [
    "Vs"
   ]
  },
  {
   "cell_type": "code",
   "execution_count": 21,
   "metadata": {},
   "outputs": [],
   "source": [
    "import SSLimPy.interface.config as cfg\n",
    "nu = pobs.nu\n",
    "nuObs = pobs.nuObs\n",
    "Delta_nu = cfg.obspars[\"Delta_nu\"]\n",
    "z = (nu / nuObs - 1).to(1).value\n",
    "z_min = (nu / (nuObs + Delta_nu / 2) - 1).to(1).value\n",
    "z_max = (nu / (nuObs - Delta_nu / 2) - 1).to(1).value"
   ]
  },
  {
   "cell_type": "code",
   "execution_count": 22,
   "metadata": {},
   "outputs": [],
   "source": [
    "Sfield = pobs.Sfield(z, cfg.obspars[\"Omega_field\"])\n",
    "Lperp = np.sqrt(Sfield / np.pi)\n",
    "Lparr = pobs.Lfield(z_min, z_max)"
   ]
  },
  {
   "cell_type": "code",
   "execution_count": null,
   "metadata": {},
   "outputs": [],
   "source": [
    "(Lparr * Sfield) / Vs"
   ]
  },
  {
   "cell_type": "code",
   "execution_count": null,
   "metadata": {},
   "outputs": [],
   "source": [
    "k = pobs.k\n",
    "mu = np.linspace(-1,1,7)\n",
    "Pk_dw_grid = pobs.dewiggled_pdd(pobs.k,mu,pobs.z)\n",
    "Pk_nw_grid = Asslimpy.fiducialcosmo.nonwiggle_pow(pobs.k,pobs.z)[:,None]\n",
    "test_1 = Pk_dw_grid/Pk_nw_grid-1\n",
    "inter_over = RectBivariateSpline(np.log(k.value),mu,test_1)\n",
    "plt.plot(k,inter_over(np.log(k.value),mu))\n",
    "plt.xscale(\"log\")"
   ]
  },
  {
   "cell_type": "code",
   "execution_count": null,
   "metadata": {},
   "outputs": [],
   "source": [
    "Asslimpy.fiducialastro.CLT(pobs.z)"
   ]
  },
  {
   "cell_type": "code",
   "execution_count": null,
   "metadata": {},
   "outputs": [],
   "source": [
    "print(Asslimpy.fiducialastro.Tmoments(pobs.z))\n",
    "print(Asslimpy.fiducialastro.Tmoments(pobs.z,moment=2))"
   ]
  }
 ],
 "metadata": {
  "kernelspec": {
   "display_name": "SSC_for_LIM",
   "language": "python",
   "name": "python3"
  },
  "language_info": {
   "codemirror_mode": {
    "name": "ipython",
    "version": 3
   },
   "file_extension": ".py",
   "mimetype": "text/x-python",
   "name": "python",
   "nbconvert_exporter": "python",
   "pygments_lexer": "ipython3",
   "version": "3.12.3"
  }
 },
 "nbformat": 4,
 "nbformat_minor": 2
}
