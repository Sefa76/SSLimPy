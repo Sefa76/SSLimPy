{
 "cells": [
  {
   "cell_type": "code",
   "execution_count": null,
   "metadata": {},
   "outputs": [],
   "source": [
    "import copy\n",
    "import os\n",
    "\n",
    "import astropy.units as u\n",
    "import matplotlib.pyplot as plt\n",
    "import numpy as np\n",
    "from scipy.integrate import trapezoid\n",
    "from scipy.interpolate import RectBivariateSpline\n",
    "from scipy.special import legendre\n",
    "\n",
    "import SSLimPy.interface.sslimpy as sslimpy\n",
    "from SSLimPy.LIMsurvey import covariance, power_spectrum\n",
    "from scipy.signal import savgol_filter\n",
    "from SSLimPy.utils.utils import *"
   ]
  },
  {
   "cell_type": "code",
   "execution_count": null,
   "metadata": {},
   "outputs": [],
   "source": [
    "envkey = 'OMP_NUM_THREADS'\n",
    "# Set this environment variable to the number of available cores in your machine,\n",
    "# to get a fast execution of the Einstein Boltzmann Solver\n",
    "os.environ[envkey] = str(7)"
   ]
  },
  {
   "cell_type": "code",
   "execution_count": null,
   "metadata": {},
   "outputs": [],
   "source": [
    "cosmodict={\"h\":0.67,\"Omegam\":0.32,\"Omegab\":0.04,\"As\":2.1e-9, \"mnu\":0.06}\n",
    "settings = {\"code\":\"class\",\n",
    "            \"do_RSD\" : True,\n",
    "            \"nonlinearRSD\" : True,\n",
    "            \"FoG_damp\" : \"ISTF_like\",\n",
    "            \"halo_model_PS\" : True,\n",
    "            \"Smooth_window\" : False,\n",
    "            \"nk\":100,\n",
    "            \"kmax\": 50*u.Mpc**-1,\n",
    "            \"kmin\": 1e-3*u.Mpc**-1,\n",
    "            }\n",
    "halopars = {\n",
    "    \"hmf_model\":\"sc_hmf\",\n",
    "    \"bias_model\": \"b1\",\n",
    "}\n",
    "Asslimpy = sslimpy.sslimpy(settings_dict=settings,\n",
    "                           cosmopars=cosmodict)"
   ]
  },
  {
   "cell_type": "code",
   "execution_count": null,
   "metadata": {},
   "outputs": [],
   "source": [
    "astro = Asslimpy.curent_astro\n",
    "halo = astro.halomodel\n",
    "cosmo = astro.cosmology\n",
    "specs= astro.survey_specs\n",
    "\n",
    "k = halo.k\n",
    "M = halo.M"
   ]
  },
  {
   "cell_type": "code",
   "execution_count": null,
   "metadata": {},
   "outputs": [],
   "source": [
    "Pcl = np.squeeze(astro.bhalo(k, 0.1))**2 * cosmo.matpow(k, 0.1)\n",
    "Ps = astro.T_one_halo(k, 0.1)\n",
    "Pobs = Pcl + Ps\n",
    "plt.loglog(k, Pcl)\n",
    "plt.loglog(k, Ps)\n",
    "plt.loglog(k, Pobs)"
   ]
  },
  {
   "cell_type": "code",
   "execution_count": null,
   "metadata": {},
   "outputs": [],
   "source": [
    "pobs = power_spectrum.PowerSpectra(astro)\n",
    "kma = k<1*u.Mpc**-1\n",
    "k = pobs.k\n",
    "plt.loglog(k[kma], pobs.Pk_0bs[kma])\n",
    "plt.loglog(k[kma], pobs.Pk_2bs[kma])\n",
    "plt.loglog(k[kma], pobs.Pk_4bs[kma],c=\"green\")\n",
    "plt.loglog(k[kma], -pobs.Pk_4bs[kma],c=\"green\", ls=\"--\")"
   ]
  },
  {
   "cell_type": "code",
   "execution_count": null,
   "metadata": {},
   "outputs": [],
   "source": [
    "k = pobs.k\n",
    "z = pobs.z\n",
    "\n",
    "pnl_ebs = cosmo.matpow(k, z, nonlinear=True, tracer=\"clustering\")\n",
    "pnl_hm = halo.P_halo(k, z)\n",
    "pnl_hmb = halo.P_halo(k, z, bloating=True)\n",
    "pnl_hmbd = halo.P_halo(k, z, bloating=True, P2h_sup=True)\n",
    "pnl_hmbcd = halo.P_halo(k, z, bloating=True, P2h_sup=True, concB=True)\n",
    "\n",
    "\n",
    "plt.loglog(k, cosmo.matpow(k,z, nonlinear=False), \"k--\")\n",
    "plt.loglog(k, pnl_ebs, label=\"EBS\")\n",
    "plt.loglog(k, pnl_hm, label=\"HaloModel\")\n",
    "plt.loglog(k, pnl_hmb, label=\"HaloModel w/ bloating\")\n",
    "plt.loglog(k, pnl_hmbd, label=\"HaloModel w/ bloating \\n + perturbative damping\")\n",
    "plt.loglog(k, pnl_hmbcd, label=\"HaloModel w/ bloating \\n + perturbative damping \\n + Bullock concentration\")\n",
    "\n",
    "\n",
    "plt.legend()\n",
    "plt.xlabel(r\"$k [\\mathrm{Mpc}^{-1}]$\")\n",
    "plt.ylabel(r\"$P [\\mathrm{Mpc}^{3}]$\")\n"
   ]
  }
 ],
 "metadata": {
  "kernelspec": {
   "display_name": "SSC_for_LIM",
   "language": "python",
   "name": "python3"
  },
  "language_info": {
   "codemirror_mode": {
    "name": "ipython",
    "version": 3
   },
   "file_extension": ".py",
   "mimetype": "text/x-python",
   "name": "python",
   "nbconvert_exporter": "python",
   "pygments_lexer": "ipython3",
   "version": "3.12.3"
  }
 },
 "nbformat": 4,
 "nbformat_minor": 2
}
